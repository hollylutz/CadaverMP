{
 "cells": [
  {
   "cell_type": "code",
   "execution_count": 2,
   "metadata": {},
   "outputs": [],
   "source": [
    "library(phyloseq)\n",
    "library(ggplot2)\n",
    "library(vegan)\n",
    "library(readr)\n",
    "library(data.table)\n",
    "library(dplyr)\n",
    "library(stats)\n",
    "library(ggpubr)\n",
    "library(dunn.test)\n",
    "#library(DESeq2)"
   ]
  },
  {
   "cell_type": "code",
   "execution_count": 3,
   "metadata": {},
   "outputs": [],
   "source": [
    "cadaver_nt = readRDS(\"/gpfs/data/gilbert-lab/Lutz/Cadaver/All_cohorts/RDSfiles/all_cohorts_cadaver_nt.rds\")\n",
    "cadaver = readRDS(\"/gpfs/data/gilbert-lab/Lutz/Cadaver/All_cohorts/RDSfiles/all_cohorts_cadaver.rds\")\n",
    "cadaver_5krare = readRDS(\"/gpfs/data/gilbert-lab/Lutz/Cadaver/All_cohorts/RDSfiles/all_cohorts_cadaver_5krare.rds\")\n"
   ]
  },
  {
   "cell_type": "code",
   "execution_count": 10,
   "metadata": {},
   "outputs": [
    {
     "data": {
      "text/plain": [
       "phyloseq-class experiment-level object\n",
       "otu_table()   OTU Table:         [ 2204 taxa and 264 samples ]\n",
       "sample_data() Sample Data:       [ 264 samples by 21 sample variables ]\n",
       "tax_table()   Taxonomy Table:    [ 2204 taxa by 7 taxonomic ranks ]\n",
       "phy_tree()    Phylogenetic Tree: [ 2204 tips and 2202 internal nodes ]"
      ]
     },
     "metadata": {},
     "output_type": "display_data"
    }
   ],
   "source": [
    "cadaver_nt"
   ]
  },
  {
   "cell_type": "code",
   "execution_count": 11,
   "metadata": {},
   "outputs": [
    {
     "name": "stderr",
     "output_type": "stream",
     "text": [
      "You set `rngseed` to FALSE. Make sure you've set & recorded\n",
      " the random seed of your session for reproducibility.\n",
      "See `?set.seed`\n",
      "\n",
      "...\n",
      "101 samples removedbecause they contained fewer reads than `sample.size`.\n",
      "Up to first five removed samples are: \n",
      "\n",
      "Case85SpleenCase51LiverCase76BrainCase91SpleenCase69Brain\t\n",
      "...\n",
      "349OTUs were removed because they are no longer \n",
      "present in any sample after random subsampling\n",
      "\n",
      "...\n"
     ]
    },
    {
     "data": {
      "text/plain": [
       "phyloseq-class experiment-level object\n",
       "otu_table()   OTU Table:         [ 1855 taxa and 163 samples ]\n",
       "sample_data() Sample Data:       [ 163 samples by 21 sample variables ]\n",
       "tax_table()   Taxonomy Table:    [ 1855 taxa by 7 taxonomic ranks ]\n",
       "phy_tree()    Phylogenetic Tree: [ 1855 tips and 1853 internal nodes ]"
      ]
     },
     "metadata": {},
     "output_type": "display_data"
    }
   ],
   "source": [
    "cadaver_5krare = rarefy_even_depth(cadaver_nt, sample.size = 5000,\n",
    "                                  replace = FALSE, trimOTUs = TRUE, verbose = TRUE)\n",
    "cadaver_5krare"
   ]
  },
  {
   "cell_type": "code",
   "execution_count": 107,
   "metadata": {},
   "outputs": [],
   "source": []
  },
  {
   "cell_type": "code",
   "execution_count": 5,
   "metadata": {},
   "outputs": [
    {
     "name": "stderr",
     "output_type": "stream",
     "text": [
      "`stat_bin()` using `bins = 30`. Pick better value with `binwidth`.\n"
     ]
    },
    {
     "data": {
      "image/png": "[encoded data removed]",
      "text/plain": [
       "plot without title"
      ]
     },
     "metadata": {},
     "output_type": "display_data"
    }
   ],
   "source": [
    "#raw data (non-rarefied)\n",
    "\n",
    "cadaver_sdt = data.table(as(sample_data(cadaver_nt), \"data.frame\"),\n",
    "                 TotalReads = sample_sums(cadaver_nt), keep.rownames = TRUE)\n",
    "setnames(cadaver_sdt, \"rn\", \"SampleName\")\n",
    "pSeqDepth = ggplot(cadaver_sdt, aes(TotalReads)) + geom_histogram() + ggtitle(\"Sequencing Depth\")\n",
    "pSeqDepth"
   ]
  },
  {
   "cell_type": "markdown",
   "metadata": {},
   "source": [
    "### Sequencing summary"
   ]
  },
  {
   "cell_type": "code",
   "execution_count": 9,
   "metadata": {},
   "outputs": [
    {
     "data": {
      "text/html": [
       "<table>\n",
       "<thead><tr><th scope=col>count</th><th scope=col>avg</th><th scope=col>sd</th><th scope=col>sem</th></tr></thead>\n",
       "<tbody>\n",
       "\t<tr><td>4337301 </td><td>16429.17</td><td>20805.64</td><td>1280.499</td></tr>\n",
       "</tbody>\n",
       "</table>\n"
      ],
      "text/latex": [
       "\\begin{tabular}{r|llll}\n",
       " count & avg & sd & sem\\\\\n",
       "\\hline\n",
       "\t 4337301  & 16429.17 & 20805.64 & 1280.499\\\\\n",
       "\\end{tabular}\n"
      ],
      "text/markdown": [
       "\n",
       "| count | avg | sd | sem |\n",
       "|---|---|---|---|\n",
       "| 4337301  | 16429.17 | 20805.64 | 1280.499 |\n",
       "\n"
      ],
      "text/plain": [
       "  count   avg      sd       sem     \n",
       "1 4337301 16429.17 20805.64 1280.499"
      ]
     },
     "metadata": {},
     "output_type": "display_data"
    },
    {
     "data": {
      "text/html": [
       "<table>\n",
       "<thead><tr><th scope=col>Organ</th><th scope=col>count</th><th scope=col>avg</th><th scope=col>sd</th><th scope=col>sem</th></tr></thead>\n",
       "<tbody>\n",
       "\t<tr><td>Blood    </td><td> 104148  </td><td>14878.286</td><td> 6470.989</td><td>2445.804 </td></tr>\n",
       "\t<tr><td>Brain    </td><td> 337643  </td><td> 7673.705</td><td> 7482.472</td><td>1128.025 </td></tr>\n",
       "\t<tr><td>Heart    </td><td> 370621  </td><td> 9265.525</td><td> 9298.874</td><td>1470.281 </td></tr>\n",
       "\t<tr><td>Liver    </td><td>2903555  </td><td>28189.854</td><td>27936.037</td><td>2752.619 </td></tr>\n",
       "\t<tr><td>Prostate </td><td> 166289  </td><td> 7918.524</td><td> 5471.205</td><td>1193.915 </td></tr>\n",
       "\t<tr><td>Spleen   </td><td> 382888  </td><td>10635.778</td><td> 9911.347</td><td>1651.891 </td></tr>\n",
       "\t<tr><td>Uterus   </td><td>  72157  </td><td> 5550.538</td><td> 4266.424</td><td>1183.293 </td></tr>\n",
       "</tbody>\n",
       "</table>\n"
      ],
      "text/latex": [
       "\\begin{tabular}{r|lllll}\n",
       " Organ & count & avg & sd & sem\\\\\n",
       "\\hline\n",
       "\t Blood     &  104148   & 14878.286 &  6470.989 & 2445.804 \\\\\n",
       "\t Brain     &  337643   &  7673.705 &  7482.472 & 1128.025 \\\\\n",
       "\t Heart     &  370621   &  9265.525 &  9298.874 & 1470.281 \\\\\n",
       "\t Liver     & 2903555   & 28189.854 & 27936.037 & 2752.619 \\\\\n",
       "\t Prostate  &  166289   &  7918.524 &  5471.205 & 1193.915 \\\\\n",
       "\t Spleen    &  382888   & 10635.778 &  9911.347 & 1651.891 \\\\\n",
       "\t Uterus    &   72157   &  5550.538 &  4266.424 & 1183.293 \\\\\n",
       "\\end{tabular}\n"
      ],
      "text/markdown": [
       "\n",
       "| Organ | count | avg | sd | sem |\n",
       "|---|---|---|---|---|\n",
       "| Blood     |  104148   | 14878.286 |  6470.989 | 2445.804  |\n",
       "| Brain     |  337643   |  7673.705 |  7482.472 | 1128.025  |\n",
       "| Heart     |  370621   |  9265.525 |  9298.874 | 1470.281  |\n",
       "| Liver     | 2903555   | 28189.854 | 27936.037 | 2752.619  |\n",
       "| Prostate  |  166289   |  7918.524 |  5471.205 | 1193.915  |\n",
       "| Spleen    |  382888   | 10635.778 |  9911.347 | 1651.891  |\n",
       "| Uterus    |   72157   |  5550.538 |  4266.424 | 1183.293  |\n",
       "\n"
      ],
      "text/plain": [
       "  Organ    count   avg       sd        sem     \n",
       "1 Blood     104148 14878.286  6470.989 2445.804\n",
       "2 Brain     337643  7673.705  7482.472 1128.025\n",
       "3 Heart     370621  9265.525  9298.874 1470.281\n",
       "4 Liver    2903555 28189.854 27936.037 2752.619\n",
       "5 Prostate  166289  7918.524  5471.205 1193.915\n",
       "6 Spleen    382888 10635.778  9911.347 1651.891\n",
       "7 Uterus     72157  5550.538  4266.424 1183.293"
      ]
     },
     "metadata": {},
     "output_type": "display_data"
    }
   ],
   "source": [
    "cadaver.summary = cadaver_sdt %>%\n",
    "    #group_by(SampleType) %>%\n",
    "summarise(count = sum(TotalReads),\n",
    "              avg = mean(TotalReads), \n",
    "              sd = sd(TotalReads), \n",
    "              sem = sd/sqrt(length(TotalReads))) #%>%\n",
    "    #arrange((SampleType))\n",
    "cadaver.summary[complete.cases(cadaver.summary),]\n",
    "\n",
    "organ.summary = cadaver_sdt %>%\n",
    "    group_by(Organ) %>%\n",
    "summarise(count = sum(TotalReads),\n",
    "              avg = mean(TotalReads), \n",
    "              sd = sd(TotalReads), \n",
    "              sem = sd/sqrt(length(TotalReads))) %>%\n",
    "    arrange((Organ))\n",
    "organ.summary[complete.cases(organ.summary),]"
   ]
  },
  {
   "cell_type": "code",
   "execution_count": 15,
   "metadata": {},
   "outputs": [
    {
     "data": {
      "text/plain": [
       "phyloseq-class experiment-level object\n",
       "otu_table()   OTU Table:         [ 239 taxa and 6 samples ]\n",
       "sample_data() Sample Data:       [ 6 samples by 21 sample variables ]\n",
       "tax_table()   Taxonomy Table:    [ 239 taxa by 7 taxonomic ranks ]\n",
       "phy_tree()    Phylogenetic Tree: [ 239 tips and 237 internal nodes ]"
      ]
     },
     "metadata": {},
     "output_type": "display_data"
    },
    {
     "data": {
      "text/plain": [
       "phyloseq-class experiment-level object\n",
       "otu_table()   OTU Table:         [ 548 taxa and 19 samples ]\n",
       "sample_data() Sample Data:       [ 19 samples by 21 sample variables ]\n",
       "tax_table()   Taxonomy Table:    [ 548 taxa by 7 taxonomic ranks ]\n",
       "phy_tree()    Phylogenetic Tree: [ 548 tips and 546 internal nodes ]"
      ]
     },
     "metadata": {},
     "output_type": "display_data"
    },
    {
     "data": {
      "text/plain": [
       "phyloseq-class experiment-level object\n",
       "otu_table()   OTU Table:         [ 433 taxa and 20 samples ]\n",
       "sample_data() Sample Data:       [ 20 samples by 21 sample variables ]\n",
       "tax_table()   Taxonomy Table:    [ 433 taxa by 7 taxonomic ranks ]\n",
       "phy_tree()    Phylogenetic Tree: [ 433 tips and 431 internal nodes ]"
      ]
     },
     "metadata": {},
     "output_type": "display_data"
    },
    {
     "data": {
      "text/plain": [
       "phyloseq-class experiment-level object\n",
       "otu_table()   OTU Table:         [ 1413 taxa and 80 samples ]\n",
       "sample_data() Sample Data:       [ 80 samples by 21 sample variables ]\n",
       "tax_table()   Taxonomy Table:    [ 1413 taxa by 7 taxonomic ranks ]\n",
       "phy_tree()    Phylogenetic Tree: [ 1413 tips and 1411 internal nodes ]"
      ]
     },
     "metadata": {},
     "output_type": "display_data"
    },
    {
     "data": {
      "text/plain": [
       "phyloseq-class experiment-level object\n",
       "otu_table()   OTU Table:         [ 579 taxa and 13 samples ]\n",
       "sample_data() Sample Data:       [ 13 samples by 21 sample variables ]\n",
       "tax_table()   Taxonomy Table:    [ 579 taxa by 7 taxonomic ranks ]\n",
       "phy_tree()    Phylogenetic Tree: [ 579 tips and 577 internal nodes ]"
      ]
     },
     "metadata": {},
     "output_type": "display_data"
    },
    {
     "data": {
      "text/plain": [
       "phyloseq-class experiment-level object\n",
       "otu_table()   OTU Table:         [ 451 taxa and 20 samples ]\n",
       "sample_data() Sample Data:       [ 20 samples by 21 sample variables ]\n",
       "tax_table()   Taxonomy Table:    [ 451 taxa by 7 taxonomic ranks ]\n",
       "phy_tree()    Phylogenetic Tree: [ 451 tips and 449 internal nodes ]"
      ]
     },
     "metadata": {},
     "output_type": "display_data"
    },
    {
     "data": {
      "text/plain": [
       "phyloseq-class experiment-level object\n",
       "otu_table()   OTU Table:         [ 321 taxa and 5 samples ]\n",
       "sample_data() Sample Data:       [ 5 samples by 21 sample variables ]\n",
       "tax_table()   Taxonomy Table:    [ 321 taxa by 7 taxonomic ranks ]\n",
       "phy_tree()    Phylogenetic Tree: [ 321 tips and 319 internal nodes ]"
      ]
     },
     "metadata": {},
     "output_type": "display_data"
    }
   ],
   "source": [
    "blood = subset_samples(cadaver_5krare, Organ==\"Blood\")\n",
    "blood = prune_taxa(taxa_sums(blood)>0, blood)\n",
    "brain = subset_samples(cadaver_5krare, Organ==\"Brain\")\n",
    "brain = prune_taxa(taxa_sums(brain)>0, brain)\n",
    "heart = subset_samples(cadaver_5krare, Organ==\"Heart\")\n",
    "heart = prune_taxa(taxa_sums(heart)>0, heart)\n",
    "liver = subset_samples(cadaver_5krare, Organ==\"Liver\")\n",
    "liver = prune_taxa(taxa_sums(liver)>0, liver)\n",
    "prostate = subset_samples(cadaver_5krare, Organ==\"Prostate\")\n",
    "prostate = prune_taxa(taxa_sums(prostate)>0, prostate)\n",
    "spleen = subset_samples(cadaver_5krare, Organ==\"Spleen\")\n",
    "spleen = prune_taxa(taxa_sums(spleen)>0, spleen)\n",
    "uterus = subset_samples(cadaver_5krare, Organ==\"Uterus\")\n",
    "uterus = prune_taxa(taxa_sums(uterus)>0, uterus)\n",
    "\n",
    "blood\n",
    "brain\n",
    "heart\n",
    "liver\n",
    "prostate\n",
    "spleen\n",
    "uterus\n"
   ]
  },
  {
   "cell_type": "markdown",
   "metadata": {},
   "source": [
    "#### Sampling details"
   ]
  },
  {
   "cell_type": "code",
   "execution_count": 42,
   "metadata": {},
   "outputs": [
    {
     "data": {
      "text/html": [
       "<ol class=list-inline>\n",
       "\t<li>'X.SampleID'</li>\n",
       "\t<li>'BarcodeSequence'</li>\n",
       "\t<li>'LinkerPrimerSequence'</li>\n",
       "\t<li>'RTL_run'</li>\n",
       "\t<li>'Case_no'</li>\n",
       "\t<li>'Sex'</li>\n",
       "\t<li>'Age'</li>\n",
       "\t<li>'Ethnicity'</li>\n",
       "\t<li>'Order'</li>\n",
       "\t<li>'Location'</li>\n",
       "\t<li>'PMI'</li>\n",
       "\t<li>'Organ'</li>\n",
       "\t<li>'RTLID'</li>\n",
       "\t<li>'Samplename'</li>\n",
       "\t<li>'Cause_of_death'</li>\n",
       "\t<li>'The_manner_of_death'</li>\n",
       "\t<li>'Height_cm'</li>\n",
       "\t<li>'Weight_kg'</li>\n",
       "\t<li>'bmi'</li>\n",
       "\t<li>'bmi_category'</li>\n",
       "\t<li>'Description'</li>\n",
       "</ol>\n"
      ],
      "text/latex": [
       "\\begin{enumerate*}\n",
       "\\item 'X.SampleID'\n",
       "\\item 'BarcodeSequence'\n",
       "\\item 'LinkerPrimerSequence'\n",
       "\\item 'RTL\\_run'\n",
       "\\item 'Case\\_no'\n",
       "\\item 'Sex'\n",
       "\\item 'Age'\n",
       "\\item 'Ethnicity'\n",
       "\\item 'Order'\n",
       "\\item 'Location'\n",
       "\\item 'PMI'\n",
       "\\item 'Organ'\n",
       "\\item 'RTLID'\n",
       "\\item 'Samplename'\n",
       "\\item 'Cause\\_of\\_death'\n",
       "\\item 'The\\_manner\\_of\\_death'\n",
       "\\item 'Height\\_cm'\n",
       "\\item 'Weight\\_kg'\n",
       "\\item 'bmi'\n",
       "\\item 'bmi\\_category'\n",
       "\\item 'Description'\n",
       "\\end{enumerate*}\n"
      ],
      "text/markdown": [
       "1. 'X.SampleID'\n",
       "2. 'BarcodeSequence'\n",
       "3. 'LinkerPrimerSequence'\n",
       "4. 'RTL_run'\n",
       "5. 'Case_no'\n",
       "6. 'Sex'\n",
       "7. 'Age'\n",
       "8. 'Ethnicity'\n",
       "9. 'Order'\n",
       "10. 'Location'\n",
       "11. 'PMI'\n",
       "12. 'Organ'\n",
       "13. 'RTLID'\n",
       "14. 'Samplename'\n",
       "15. 'Cause_of_death'\n",
       "16. 'The_manner_of_death'\n",
       "17. 'Height_cm'\n",
       "18. 'Weight_kg'\n",
       "19. 'bmi'\n",
       "20. 'bmi_category'\n",
       "21. 'Description'\n",
       "\n",
       "\n"
      ],
      "text/plain": [
       " [1] \"X.SampleID\"           \"BarcodeSequence\"      \"LinkerPrimerSequence\"\n",
       " [4] \"RTL_run\"              \"Case_no\"              \"Sex\"                 \n",
       " [7] \"Age\"                  \"Ethnicity\"            \"Order\"               \n",
       "[10] \"Location\"             \"PMI\"                  \"Organ\"               \n",
       "[13] \"RTLID\"                \"Samplename\"           \"Cause_of_death\"      \n",
       "[16] \"The_manner_of_death\"  \"Height_cm\"            \"Weight_kg\"           \n",
       "[19] \"bmi\"                  \"bmi_category\"         \"Description\"         "
      ]
     },
     "metadata": {},
     "output_type": "display_data"
    }
   ],
   "source": [
    "sampling = sample_data(cadaver)\n",
    "colnames(sampling)"
   ]
  },
  {
   "cell_type": "code",
   "execution_count": 52,
   "metadata": {},
   "outputs": [
    {
     "data": {
      "text/html": [
       "<table>\n",
       "<thead><tr><th scope=col>Location</th><th scope=col>avg</th><th scope=col>sd</th><th scope=col>sem</th><th scope=col>min</th><th scope=col>max</th></tr></thead>\n",
       "<tbody>\n",
       "\t<tr><td>Finland </td><td>108.0000</td><td>42.29222</td><td>9.456827</td><td>48.0    </td><td>192     </td></tr>\n",
       "\t<tr><td>Italy   </td><td>112.0380</td><td>96.36461</td><td>7.666357</td><td>24.0    </td><td>432     </td></tr>\n",
       "\t<tr><td>USA     </td><td> 37.8314</td><td>47.75948</td><td>5.150038</td><td> 3.5    </td><td>240     </td></tr>\n",
       "</tbody>\n",
       "</table>\n"
      ],
      "text/latex": [
       "\\begin{tabular}{r|llllll}\n",
       " Location & avg & sd & sem & min & max\\\\\n",
       "\\hline\n",
       "\t Finland  & 108.0000 & 42.29222 & 9.456827 & 48.0     & 192     \\\\\n",
       "\t Italy    & 112.0380 & 96.36461 & 7.666357 & 24.0     & 432     \\\\\n",
       "\t USA      &  37.8314 & 47.75948 & 5.150038 &  3.5     & 240     \\\\\n",
       "\\end{tabular}\n"
      ],
      "text/markdown": [
       "\n",
       "| Location | avg | sd | sem | min | max |\n",
       "|---|---|---|---|---|---|\n",
       "| Finland  | 108.0000 | 42.29222 | 9.456827 | 48.0     | 192      |\n",
       "| Italy    | 112.0380 | 96.36461 | 7.666357 | 24.0     | 432      |\n",
       "| USA      |  37.8314 | 47.75948 | 5.150038 |  3.5     | 240      |\n",
       "\n"
      ],
      "text/plain": [
       "  Location avg      sd       sem      min  max\n",
       "1 Finland  108.0000 42.29222 9.456827 48.0 192\n",
       "2 Italy    112.0380 96.36461 7.666357 24.0 432\n",
       "3 USA       37.8314 47.75948 5.150038  3.5 240"
      ]
     },
     "metadata": {},
     "output_type": "display_data"
    },
    {
     "data": {
      "text/html": [
       "<table>\n",
       "<thead><tr><th scope=col>Location</th><th scope=col>The_manner_of_death</th><th scope=col>n</th></tr></thead>\n",
       "<tbody>\n",
       "\t<tr><td>Finland                       </td><td>Accident                      </td><td> 6                            </td></tr>\n",
       "\t<tr><td>Finland                       </td><td>Natural                       </td><td>12                            </td></tr>\n",
       "\t<tr><td>Finland                       </td><td>Suicide                       </td><td> 2                            </td></tr>\n",
       "\t<tr><td>Italy                         </td><td>Accident                      </td><td>24                            </td></tr>\n",
       "\t<tr><td>Italy                         </td><td>Accident_road traffic accident</td><td> 6                            </td></tr>\n",
       "\t<tr><td>Italy                         </td><td>Accident_Road traffic accident</td><td>17                            </td></tr>\n",
       "\t<tr><td>Italy                         </td><td>Accident_Work related accident</td><td> 4                            </td></tr>\n",
       "\t<tr><td>Italy                         </td><td>Homicide                      </td><td>13                            </td></tr>\n",
       "\t<tr><td>Italy                         </td><td>Natural death                 </td><td>63                            </td></tr>\n",
       "\t<tr><td>Italy                         </td><td>Suicide                       </td><td>31                            </td></tr>\n",
       "\t<tr><td>USA                           </td><td>Accident                      </td><td>31                            </td></tr>\n",
       "\t<tr><td>USA                           </td><td>Homicide                      </td><td>10                            </td></tr>\n",
       "\t<tr><td>USA                           </td><td>Natural                       </td><td>31                            </td></tr>\n",
       "\t<tr><td>USA                           </td><td>Suicide                       </td><td>12                            </td></tr>\n",
       "\t<tr><td>USA                           </td><td>Undetermined                  </td><td> 2                            </td></tr>\n",
       "</tbody>\n",
       "</table>\n"
      ],
      "text/latex": [
       "\\begin{tabular}{r|lll}\n",
       " Location & The\\_manner\\_of\\_death & n\\\\\n",
       "\\hline\n",
       "\t Finland                        & Accident                       &  6                            \\\\\n",
       "\t Finland                        & Natural                        & 12                            \\\\\n",
       "\t Finland                        & Suicide                        &  2                            \\\\\n",
       "\t Italy                          & Accident                       & 24                            \\\\\n",
       "\t Italy                            & Accident\\_road traffic accident &  6                              \\\\\n",
       "\t Italy                            & Accident\\_Road traffic accident & 17                              \\\\\n",
       "\t Italy                            & Accident\\_Work related accident &  4                              \\\\\n",
       "\t Italy                          & Homicide                       & 13                            \\\\\n",
       "\t Italy                          & Natural death                  & 63                            \\\\\n",
       "\t Italy                          & Suicide                        & 31                            \\\\\n",
       "\t USA                            & Accident                       & 31                            \\\\\n",
       "\t USA                            & Homicide                       & 10                            \\\\\n",
       "\t USA                            & Natural                        & 31                            \\\\\n",
       "\t USA                            & Suicide                        & 12                            \\\\\n",
       "\t USA                            & Undetermined                   &  2                            \\\\\n",
       "\\end{tabular}\n"
      ],
      "text/markdown": [
       "\n",
       "| Location | The_manner_of_death | n |\n",
       "|---|---|---|\n",
       "| Finland                        | Accident                       |  6                             |\n",
       "| Finland                        | Natural                        | 12                             |\n",
       "| Finland                        | Suicide                        |  2                             |\n",
       "| Italy                          | Accident                       | 24                             |\n",
       "| Italy                          | Accident_road traffic accident |  6                             |\n",
       "| Italy                          | Accident_Road traffic accident | 17                             |\n",
       "| Italy                          | Accident_Work related accident |  4                             |\n",
       "| Italy                          | Homicide                       | 13                             |\n",
       "| Italy                          | Natural death                  | 63                             |\n",
       "| Italy                          | Suicide                        | 31                             |\n",
       "| USA                            | Accident                       | 31                             |\n",
       "| USA                            | Homicide                       | 10                             |\n",
       "| USA                            | Natural                        | 31                             |\n",
       "| USA                            | Suicide                        | 12                             |\n",
       "| USA                            | Undetermined                   |  2                             |\n",
       "\n"
      ],
      "text/plain": [
       "   Location The_manner_of_death            n \n",
       "1  Finland  Accident                        6\n",
       "2  Finland  Natural                        12\n",
       "3  Finland  Suicide                         2\n",
       "4  Italy    Accident                       24\n",
       "5  Italy    Accident_road traffic accident  6\n",
       "6  Italy    Accident_Road traffic accident 17\n",
       "7  Italy    Accident_Work related accident  4\n",
       "8  Italy    Homicide                       13\n",
       "9  Italy    Natural death                  63\n",
       "10 Italy    Suicide                        31\n",
       "11 USA      Accident                       31\n",
       "12 USA      Homicide                       10\n",
       "13 USA      Natural                        31\n",
       "14 USA      Suicide                        12\n",
       "15 USA      Undetermined                    2"
      ]
     },
     "metadata": {},
     "output_type": "display_data"
    },
    {
     "data": {
      "text/html": [
       "<table>\n",
       "<thead><tr><th scope=col>Location</th><th scope=col>Organ</th><th scope=col>n</th></tr></thead>\n",
       "<tbody>\n",
       "\t<tr><td>Finland </td><td>Liver   </td><td>20      </td></tr>\n",
       "\t<tr><td>Italy   </td><td>Brain   </td><td>35      </td></tr>\n",
       "\t<tr><td>Italy   </td><td>Heart   </td><td>29      </td></tr>\n",
       "\t<tr><td>Italy   </td><td>Liver   </td><td>36      </td></tr>\n",
       "\t<tr><td>Italy   </td><td>Prostate</td><td>21      </td></tr>\n",
       "\t<tr><td>Italy   </td><td>Spleen  </td><td>24      </td></tr>\n",
       "\t<tr><td>Italy   </td><td>Uterus  </td><td>13      </td></tr>\n",
       "\t<tr><td>USA     </td><td>Blood   </td><td> 7      </td></tr>\n",
       "\t<tr><td>USA     </td><td>Brain   </td><td> 9      </td></tr>\n",
       "\t<tr><td>USA     </td><td>Heart   </td><td>11      </td></tr>\n",
       "\t<tr><td>USA     </td><td>Liver   </td><td>47      </td></tr>\n",
       "\t<tr><td>USA     </td><td>Spleen  </td><td>12      </td></tr>\n",
       "</tbody>\n",
       "</table>\n"
      ],
      "text/latex": [
       "\\begin{tabular}{r|lll}\n",
       " Location & Organ & n\\\\\n",
       "\\hline\n",
       "\t Finland  & Liver    & 20      \\\\\n",
       "\t Italy    & Brain    & 35      \\\\\n",
       "\t Italy    & Heart    & 29      \\\\\n",
       "\t Italy    & Liver    & 36      \\\\\n",
       "\t Italy    & Prostate & 21      \\\\\n",
       "\t Italy    & Spleen   & 24      \\\\\n",
       "\t Italy    & Uterus   & 13      \\\\\n",
       "\t USA      & Blood    &  7      \\\\\n",
       "\t USA      & Brain    &  9      \\\\\n",
       "\t USA      & Heart    & 11      \\\\\n",
       "\t USA      & Liver    & 47      \\\\\n",
       "\t USA      & Spleen   & 12      \\\\\n",
       "\\end{tabular}\n"
      ],
      "text/markdown": [
       "\n",
       "| Location | Organ | n |\n",
       "|---|---|---|\n",
       "| Finland  | Liver    | 20       |\n",
       "| Italy    | Brain    | 35       |\n",
       "| Italy    | Heart    | 29       |\n",
       "| Italy    | Liver    | 36       |\n",
       "| Italy    | Prostate | 21       |\n",
       "| Italy    | Spleen   | 24       |\n",
       "| Italy    | Uterus   | 13       |\n",
       "| USA      | Blood    |  7       |\n",
       "| USA      | Brain    |  9       |\n",
       "| USA      | Heart    | 11       |\n",
       "| USA      | Liver    | 47       |\n",
       "| USA      | Spleen   | 12       |\n",
       "\n"
      ],
      "text/plain": [
       "   Location Organ    n \n",
       "1  Finland  Liver    20\n",
       "2  Italy    Brain    35\n",
       "3  Italy    Heart    29\n",
       "4  Italy    Liver    36\n",
       "5  Italy    Prostate 21\n",
       "6  Italy    Spleen   24\n",
       "7  Italy    Uterus   13\n",
       "8  USA      Blood     7\n",
       "9  USA      Brain     9\n",
       "10 USA      Heart    11\n",
       "11 USA      Liver    47\n",
       "12 USA      Spleen   12"
      ]
     },
     "metadata": {},
     "output_type": "display_data"
    }
   ],
   "source": [
    "summary = sampling %>%\n",
    "group_by(Location) %>%\n",
    "    summarise(avg = mean(PMI), \n",
    "              sd = sd(PMI), \n",
    "              sem = sd/sqrt(length(PMI)),\n",
    "              min = min(PMI),\n",
    "              max = max(PMI))\n",
    "summary\n",
    "\n",
    "summary2 = sampling %>%\n",
    "    group_by(Location) %>%\n",
    "    count(The_manner_of_death)\n",
    "summary2\n",
    "\n",
    "summary3 = sampling %>%\n",
    "    group_by(Location) %>%\n",
    "    count(Organ)\n",
    "summary3"
   ]
  },
  {
   "cell_type": "code",
   "execution_count": 20,
   "metadata": {},
   "outputs": [],
   "source": []
  },
  {
   "cell_type": "code",
   "execution_count": null,
   "metadata": {},
   "outputs": [],
   "source": []
  },
  {
   "cell_type": "code",
   "execution_count": null,
   "metadata": {},
   "outputs": [],
   "source": []
  }
 ],
 "metadata": {
  "kernelspec": {
   "display_name": "R 3.4.1",
   "language": "R",
   "name": "ir3.4.1"
  },
  "language_info": {
   "codemirror_mode": "r",
   "file_extension": ".r",
   "mimetype": "text/x-r-source",
   "name": "R",
   "pygments_lexer": "r",
   "version": "3.4.1"
  }
 },
 "nbformat": 4,
 "nbformat_minor": 2
}
