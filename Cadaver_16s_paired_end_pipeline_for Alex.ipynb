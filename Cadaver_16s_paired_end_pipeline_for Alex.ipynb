{
 "cells": [
  {
   "cell_type": "markdown",
   "metadata": {},
   "source": [
    "## General pipeline for demultiplexing paired-end reads, deblurring, and taxonomy assignment"
   ]
  },
  {
   "cell_type": "markdown",
   "metadata": {},
   "source": [
    "#### Before you begin"
   ]
  },
  {
   "cell_type": "markdown",
   "metadata": {},
   "source": [
    "a) log in to gardner\n",
    "   \n",
    "b) load required modules  \n",
    "\n",
    "    module load gcc/6.2.0\n",
    "    module load python/3.5.3\n",
    "    module load qiime2\n",
    "   \n",
    "c) set working directory, e.g.\n",
    "\n",
    "    setwd(\"/group/gilbert-lab/Lutz/Cadaver/Alex/\")"
   ]
  },
  {
   "cell_type": "markdown",
   "metadata": {
    "collapsed": true
   },
   "source": [
    "#### Begin analysis"
   ]
  },
  {
   "cell_type": "markdown",
   "metadata": {},
   "source": [
    "#### 1) Validate mapping file"
   ]
  },
  {
   "cell_type": "code",
   "execution_count": null,
   "metadata": {
    "collapsed": true
   },
   "outputs": [],
   "source": [
    "validate_mapping_file.py -m raw_data/mapfile_metadata.txt -o raw_data/validate_mappingfile"
   ]
  },
  {
   "cell_type": "markdown",
   "metadata": {},
   "source": [
    "If there are errors in the mapping file, you will receive a warning message. To view errors, proceed to the .log file in the validate_mappingfile directory. Make necessary corrections to the mapping file and re-run validate_mapping_file.py again."
   ]
  },
  {
   "cell_type": "markdown",
   "metadata": {},
   "source": [
    "#### 2) Join reads and barcodes; demultiplex"
   ]
  },
  {
   "cell_type": "code",
   "execution_count": null,
   "metadata": {
    "collapsed": true
   },
   "outputs": [],
   "source": [
    "#Join Reads & Barcodes\n",
    "mkdir raw_data/joined\n",
    "scripts/ea-utils/bin/fastq-join raw_data/Undetermined_S0_L001_R1_001.fastq raw_data/Undetermined_S0_L001_R2_001.fastq -o raw_data/joined/out.%.fastq > raw_data/joined/out.stats.txt\n",
    "\n",
    "scripts/fastq-barcode.pl rawdata/barcodes.fastq rawdata/joined/out.join.fastq > rawdata/joined/out.barcodes.fastq\n",
    "\n",
    "#Demultiplex Reads\n",
    "mkdir raw_data/demultiplexed\n",
    "split_libraries_fastq.py -i raw_data/joined/out.join.fastq -b raw_data/joined/out.barcodes.fastq -m raw_data/mapfile_metadata.txt -o raw_data/demultiplexed/cadaver_demux_seqs --barcode_type=12 --max_barcode_errors=0 --store_demultiplexed_fastq\n",
    "\n",
    "#Download FastQC program to your local machine (https://www.bioinformatics.babraham.ac.uk/projects/fastqc/)\n",
    "#Open demultiplexed/seqs.fastq in Fastqc to determine parameter for Uparse\n"
   ]
  },
  {
   "cell_type": "markdown",
   "metadata": {},
   "source": [
    "#### 3) Identify sub-OTUs (aka Exact Sequence Variants, or ESVs) using Deblur"
   ]
  },
  {
   "cell_type": "markdown",
   "metadata": {},
   "source": [
    "#### Input file:\n",
    "Demultiplexed FASTA file (e.g. filter_derep.fasta)\n",
    "\n",
    "#### Output files:\n",
    "    1) reference-hit.biom\n",
    "    2) reference-hit.seqs.fa\n",
    "    3) reference-non-hit.biom\n",
    "    4) reference-non-hit.seqs.fa\n",
    "    5) all.biom (contains both 1 and 3)\n",
    "    6) all.seqs.fa (contains both 2 and 4)\n",
    "\n",
    "We will concern ourselves with reference-hit outputs (1 and 2)"
   ]
  },
  {
   "cell_type": "code",
   "execution_count": null,
   "metadata": {
    "collapsed": true
   },
   "outputs": [],
   "source": [
    "#Run Deblur\n",
    "\n",
    "deblur workflow --seqs-fp raw_data/demultiplexed/cadaver_demux_seqs/seqs.fna --output-dir deblur_results -t 150"
   ]
  },
  {
   "cell_type": "markdown",
   "metadata": {},
   "source": [
    "NOTE: To run the following Qiime-1 scripts, first load older python module (I prefer to work in new terminal window)"
   ]
  },
  {
   "cell_type": "code",
   "execution_count": null,
   "metadata": {
    "collapsed": true
   },
   "outputs": [],
   "source": [
    "module load gcc/6.2.0\n",
    "module load python/2.7.13"
   ]
  },
  {
   "cell_type": "markdown",
   "metadata": {},
   "source": [
    "#### 4) Align sequences (using greengenes reference)"
   ]
  },
  {
   "cell_type": "code",
   "execution_count": null,
   "metadata": {
    "collapsed": true
   },
   "outputs": [],
   "source": [
    "align_seqs.py -i deblur_results/reference-hit.seqs.fa -t /group/gilbert-lab/Lutz/Cadaver/Alex/gg_13_8_otus/rep_set_aligned/85_otus.pynast.fasta -o aligned"
   ]
  },
  {
   "cell_type": "markdown",
   "metadata": {},
   "source": [
    "#### 5) Make phylogeny"
   ]
  },
  {
   "cell_type": "code",
   "execution_count": null,
   "metadata": {
    "collapsed": true
   },
   "outputs": [],
   "source": [
    "mkdir final_biom_files\n",
    "\n",
    "make_phylogeny.py -i /aligned/aligned.fasta -o final_biom_files/rep_phylo.tre"
   ]
  },
  {
   "cell_type": "markdown",
   "metadata": {},
   "source": [
    "#### 6) Assign taxonomy"
   ]
  },
  {
   "cell_type": "code",
   "execution_count": null,
   "metadata": {
    "collapsed": true
   },
   "outputs": [],
   "source": [
    "assign_taxonomy.py -i deblur_results/reference-hit.seqs.fa -r deblur_results/gg_13_8_otus/rep_set/97_otus.fasta -t deblur_results/gg_13_8_otus/taxonomy/97_otu_taxonomy.txt -o deblur_results/taxon_assignment/"
   ]
  },
  {
   "cell_type": "markdown",
   "metadata": {
    "collapsed": true
   },
   "source": [
    "#### 7) biom - add metadata"
   ]
  },
  {
   "cell_type": "code",
   "execution_count": null,
   "metadata": {
    "collapsed": true
   },
   "outputs": [],
   "source": [
    "biom add-metadata --sc-separated taxonomy --observation-header OTUID,taxonomy --observation-metadata-fp deblur_results/taxon_assignment/reference-hit.seqs_tax_assignments.txt -i deblur_results/reference-hit.biom -o final_biom/cadaver_deblur.biom"
   ]
  },
  {
   "cell_type": "markdown",
   "metadata": {},
   "source": [
    "##### el fin"
   ]
  }
 ],
 "metadata": {
  "kernelspec": {
   "display_name": "R 3.4.1",
   "language": "R",
   "name": "ir3.4.1"
  },
  "language_info": {
   "codemirror_mode": "r",
   "file_extension": ".r",
   "mimetype": "text/x-r-source",
   "name": "R",
   "pygments_lexer": "r",
   "version": "3.4.1"
  }
 },
 "nbformat": 4,
 "nbformat_minor": 2
}
