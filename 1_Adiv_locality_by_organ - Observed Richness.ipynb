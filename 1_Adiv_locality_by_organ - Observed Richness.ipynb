{
 "cells": [
  {
   "cell_type": "code",
   "execution_count": 2,
   "metadata": {},
   "outputs": [],
   "source": [
    "library(phyloseq)\n",
    "library(ggplot2)\n",
    "library(vegan)\n",
    "library(readr)\n",
    "library(data.table)\n",
    "library(dplyr)\n",
    "library(stats)\n",
    "library(ggpubr)\n",
    "library(dunn.test)\n",
    "library(viridis)"
   ]
  },
  {
   "cell_type": "code",
   "execution_count": 3,
   "metadata": {},
   "outputs": [],
   "source": [
    "cadaver_5krare = readRDS(\"/gpfs/data/gilbert-lab/Lutz/Cadaver/All_cohorts/RDSfiles/all_cohorts_cadaver_5krare.rds\")\n"
   ]
  },
  {
   "cell_type": "markdown",
   "metadata": {},
   "source": [
    "### Alpha Diversity"
   ]
  },
  {
   "cell_type": "code",
   "execution_count": 4,
   "metadata": {},
   "outputs": [],
   "source": [
    "Ita = subset_samples(cadaver_5krare, Location==\"Italy\")\n",
    "Fin = subset_samples(cadaver_5krare, Location==\"Finland\")\n",
    "USA = subset_samples(cadaver_5krare, Location==\"USA\")\n",
    "\n",
    "Liver = subset_samples(cadaver_5krare, Organ==\"Liver\")"
   ]
  },
  {
   "cell_type": "code",
   "execution_count": 5,
   "metadata": {},
   "outputs": [],
   "source": [
    "sample_tab = read.csv(\"/gpfs/data/gilbert-lab/Lutz/Cadaver/All_cohorts/final_biom/all_cadaver_metadata.csv\")\n",
    "colnames(sample_tab)[1] <- \"SampleID\""
   ]
  },
  {
   "cell_type": "markdown",
   "metadata": {},
   "source": [
    "#### Italy"
   ]
  },
  {
   "cell_type": "code",
   "execution_count": 6,
   "metadata": {
    "scrolled": true
   },
   "outputs": [
    {
     "data": {
      "text/html": [
       "<table>\n",
       "<thead><tr><th scope=col>Organ</th><th scope=col>median</th><th scope=col>mean</th><th scope=col>sd</th><th scope=col>sem</th></tr></thead>\n",
       "<tbody>\n",
       "\t<tr><td>Brain    </td><td>35.0     </td><td>37.10000 </td><td> 7.40045 </td><td> 2.340228</td></tr>\n",
       "\t<tr><td>Heart    </td><td>23.0     </td><td>26.22222 </td><td>13.80922 </td><td> 4.603072</td></tr>\n",
       "\t<tr><td>Liver    </td><td>39.0     </td><td>39.00000 </td><td>10.80895 </td><td> 2.997862</td></tr>\n",
       "\t<tr><td>Prostate </td><td>82.0     </td><td>93.00000 </td><td>62.32709 </td><td>17.286426</td></tr>\n",
       "\t<tr><td>Spleen   </td><td>43.5     </td><td>37.30000 </td><td>14.70487 </td><td> 4.650090</td></tr>\n",
       "\t<tr><td>Uterus   </td><td>77.0     </td><td>93.20000 </td><td>52.62319 </td><td>23.533805</td></tr>\n",
       "</tbody>\n",
       "</table>\n"
      ],
      "text/latex": [
       "\\begin{tabular}{r|lllll}\n",
       " Organ & median & mean & sd & sem\\\\\n",
       "\\hline\n",
       "\t Brain     & 35.0      & 37.10000  &  7.40045  &  2.340228\\\\\n",
       "\t Heart     & 23.0      & 26.22222  & 13.80922  &  4.603072\\\\\n",
       "\t Liver     & 39.0      & 39.00000  & 10.80895  &  2.997862\\\\\n",
       "\t Prostate  & 82.0      & 93.00000  & 62.32709  & 17.286426\\\\\n",
       "\t Spleen    & 43.5      & 37.30000  & 14.70487  &  4.650090\\\\\n",
       "\t Uterus    & 77.0      & 93.20000  & 52.62319  & 23.533805\\\\\n",
       "\\end{tabular}\n"
      ],
      "text/markdown": [
       "\n",
       "| Organ | median | mean | sd | sem |\n",
       "|---|---|---|---|---|\n",
       "| Brain     | 35.0      | 37.10000  |  7.40045  |  2.340228 |\n",
       "| Heart     | 23.0      | 26.22222  | 13.80922  |  4.603072 |\n",
       "| Liver     | 39.0      | 39.00000  | 10.80895  |  2.997862 |\n",
       "| Prostate  | 82.0      | 93.00000  | 62.32709  | 17.286426 |\n",
       "| Spleen    | 43.5      | 37.30000  | 14.70487  |  4.650090 |\n",
       "| Uterus    | 77.0      | 93.20000  | 52.62319  | 23.533805 |\n",
       "\n"
      ],
      "text/plain": [
       "  Organ    median mean     sd       sem      \n",
       "1 Brain    35.0   37.10000  7.40045  2.340228\n",
       "2 Heart    23.0   26.22222 13.80922  4.603072\n",
       "3 Liver    39.0   39.00000 10.80895  2.997862\n",
       "4 Prostate 82.0   93.00000 62.32709 17.286426\n",
       "5 Spleen   43.5   37.30000 14.70487  4.650090\n",
       "6 Uterus   77.0   93.20000 52.62319 23.533805"
      ]
     },
     "metadata": {},
     "output_type": "display_data"
    },
    {
     "data": {
      "text/plain": [
       "\n",
       "\tKruskal-Wallis rank sum test\n",
       "\n",
       "data:  Observed by Organ\n",
       "Kruskal-Wallis chi-squared = 16.6, df = 5, p-value = 0.005325\n"
      ]
     },
     "metadata": {},
     "output_type": "display_data"
    },
    {
     "name": "stdout",
     "output_type": "stream",
     "text": [
      "  Kruskal-Wallis rank sum test\n",
      "\n",
      "data: x and group\n",
      "Kruskal-Wallis chi-squared = 16.5997, df = 5, p-value = 0.01\n",
      "\n",
      "\n",
      "                           Comparison of x by group                            \n",
      "                                 (Bonferroni)                                  \n",
      "Col Mean-|\n",
      "Row Mean |      Brain      Heart      Liver   Prostate     Spleen\n",
      "---------+-------------------------------------------------------\n",
      "   Heart |   1.436261\n",
      "         |     1.0000\n",
      "         |\n",
      "   Liver |  -0.241951  -1.756539\n",
      "         |     1.0000     0.5925\n",
      "         |\n",
      "Prostate |  -2.069683  -3.529448  -1.960024\n",
      "         |     0.2886    0.0031*     0.3749\n",
      "         |\n",
      "  Spleen |  -0.192100  -1.623238   0.037706   1.865438\n",
      "         |     1.0000     0.7840     1.0000     0.4659\n",
      "         |\n",
      "  Uterus |  -1.882194  -3.031404  -1.765656  -0.304741  -1.725345\n",
      "         |     0.4486    0.0183*     0.5809     1.0000     0.6335\n",
      "\n",
      "alpha = 0.05\n",
      "Reject Ho if p <= alpha/2\n"
     ]
    },
    {
     "data": {
      "text/html": [
       "<dl>\n",
       "\t<dt>$chi2</dt>\n",
       "\t\t<dd>16.5997142681323</dd>\n",
       "\t<dt>$Z</dt>\n",
       "\t\t<dd><ol class=list-inline>\n",
       "\t<li>1.43626102686522</li>\n",
       "\t<li>-0.241951913174274</li>\n",
       "\t<li>-1.75653980650983</li>\n",
       "\t<li>-2.06968389797561</li>\n",
       "\t<li>-3.5294483965636</li>\n",
       "\t<li>-1.96002419360213</li>\n",
       "\t<li>-0.192100694969476</li>\n",
       "\t<li>-1.62323811329415</li>\n",
       "\t<li>0.0377067916635231</li>\n",
       "\t<li>1.86543877646486</li>\n",
       "\t<li>-1.88219472763701</li>\n",
       "\t<li>-3.03140497362424</li>\n",
       "\t<li>-1.76565694906036</li>\n",
       "\t<li>-0.304741170914163</li>\n",
       "\t<li>-1.72534516700059</li>\n",
       "</ol>\n",
       "</dd>\n",
       "\t<dt>$P</dt>\n",
       "\t\t<dd><ol class=list-inline>\n",
       "\t<li>0.0754640397367645</li>\n",
       "\t<li>0.404408711993859</li>\n",
       "\t<li>0.0394981403484795</li>\n",
       "\t<li>0.0192409778004152</li>\n",
       "\t<li>0.000208213454015851</li>\n",
       "\t<li>0.0249964812847876</li>\n",
       "\t<li>0.423831665271627</li>\n",
       "\t<li>0.0522692566435078</li>\n",
       "\t<li>0.484960730442485</li>\n",
       "\t<li>0.0310599631753952</li>\n",
       "\t<li>0.0299047906309444</li>\n",
       "\t<li>0.00121709263451764</li>\n",
       "\t<li>0.0387267097477583</li>\n",
       "\t<li>0.380281645116504</li>\n",
       "\t<li>0.0422326433542999</li>\n",
       "</ol>\n",
       "</dd>\n",
       "\t<dt>$P.adjusted</dt>\n",
       "\t\t<dd><ol class=list-inline>\n",
       "\t<li>1</li>\n",
       "\t<li>1</li>\n",
       "\t<li>0.592472105227193</li>\n",
       "\t<li>0.288614667006229</li>\n",
       "\t<li>0.00312320181023777</li>\n",
       "\t<li>0.374947219271814</li>\n",
       "\t<li>1</li>\n",
       "\t<li>0.784038849652617</li>\n",
       "\t<li>1</li>\n",
       "\t<li>0.465899447630928</li>\n",
       "\t<li>0.448571859464166</li>\n",
       "\t<li>0.0182563895177646</li>\n",
       "\t<li>0.580900646216375</li>\n",
       "\t<li>1</li>\n",
       "\t<li>0.633489650314498</li>\n",
       "</ol>\n",
       "</dd>\n",
       "\t<dt>$comparisons</dt>\n",
       "\t\t<dd><ol class=list-inline>\n",
       "\t<li>'Brain - Heart'</li>\n",
       "\t<li>'Brain - Liver'</li>\n",
       "\t<li>'Heart - Liver'</li>\n",
       "\t<li>'Brain - Prostate'</li>\n",
       "\t<li>'Heart - Prostate'</li>\n",
       "\t<li>'Liver - Prostate'</li>\n",
       "\t<li>'Brain - Spleen'</li>\n",
       "\t<li>'Heart - Spleen'</li>\n",
       "\t<li>'Liver - Spleen'</li>\n",
       "\t<li>'Prostate - Spleen'</li>\n",
       "\t<li>'Brain - Uterus'</li>\n",
       "\t<li>'Heart - Uterus'</li>\n",
       "\t<li>'Liver - Uterus'</li>\n",
       "\t<li>'Prostate - Uterus'</li>\n",
       "\t<li>'Spleen - Uterus'</li>\n",
       "</ol>\n",
       "</dd>\n",
       "</dl>\n"
      ],
      "text/latex": [
       "\\begin{description}\n",
       "\\item[\\$chi2] 16.5997142681323\n",
       "\\item[\\$Z] \\begin{enumerate*}\n",
       "\\item 1.43626102686522\n",
       "\\item -0.241951913174274\n",
       "\\item -1.75653980650983\n",
       "\\item -2.06968389797561\n",
       "\\item -3.5294483965636\n",
       "\\item -1.96002419360213\n",
       "\\item -0.192100694969476\n",
       "\\item -1.62323811329415\n",
       "\\item 0.0377067916635231\n",
       "\\item 1.86543877646486\n",
       "\\item -1.88219472763701\n",
       "\\item -3.03140497362424\n",
       "\\item -1.76565694906036\n",
       "\\item -0.304741170914163\n",
       "\\item -1.72534516700059\n",
       "\\end{enumerate*}\n",
       "\n",
       "\\item[\\$P] \\begin{enumerate*}\n",
       "\\item 0.0754640397367645\n",
       "\\item 0.404408711993859\n",
       "\\item 0.0394981403484795\n",
       "\\item 0.0192409778004152\n",
       "\\item 0.000208213454015851\n",
       "\\item 0.0249964812847876\n",
       "\\item 0.423831665271627\n",
       "\\item 0.0522692566435078\n",
       "\\item 0.484960730442485\n",
       "\\item 0.0310599631753952\n",
       "\\item 0.0299047906309444\n",
       "\\item 0.00121709263451764\n",
       "\\item 0.0387267097477583\n",
       "\\item 0.380281645116504\n",
       "\\item 0.0422326433542999\n",
       "\\end{enumerate*}\n",
       "\n",
       "\\item[\\$P.adjusted] \\begin{enumerate*}\n",
       "\\item 1\n",
       "\\item 1\n",
       "\\item 0.592472105227193\n",
       "\\item 0.288614667006229\n",
       "\\item 0.00312320181023777\n",
       "\\item 0.374947219271814\n",
       "\\item 1\n",
       "\\item 0.784038849652617\n",
       "\\item 1\n",
       "\\item 0.465899447630928\n",
       "\\item 0.448571859464166\n",
       "\\item 0.0182563895177646\n",
       "\\item 0.580900646216375\n",
       "\\item 1\n",
       "\\item 0.633489650314498\n",
       "\\end{enumerate*}\n",
       "\n",
       "\\item[\\$comparisons] \\begin{enumerate*}\n",
       "\\item 'Brain - Heart'\n",
       "\\item 'Brain - Liver'\n",
       "\\item 'Heart - Liver'\n",
       "\\item 'Brain - Prostate'\n",
       "\\item 'Heart - Prostate'\n",
       "\\item 'Liver - Prostate'\n",
       "\\item 'Brain - Spleen'\n",
       "\\item 'Heart - Spleen'\n",
       "\\item 'Liver - Spleen'\n",
       "\\item 'Prostate - Spleen'\n",
       "\\item 'Brain - Uterus'\n",
       "\\item 'Heart - Uterus'\n",
       "\\item 'Liver - Uterus'\n",
       "\\item 'Prostate - Uterus'\n",
       "\\item 'Spleen - Uterus'\n",
       "\\end{enumerate*}\n",
       "\n",
       "\\end{description}\n"
      ],
      "text/markdown": [
       "$chi2\n",
       ":   16.5997142681323\n",
       "$Z\n",
       ":   1. 1.43626102686522\n",
       "2. -0.241951913174274\n",
       "3. -1.75653980650983\n",
       "4. -2.06968389797561\n",
       "5. -3.5294483965636\n",
       "6. -1.96002419360213\n",
       "7. -0.192100694969476\n",
       "8. -1.62323811329415\n",
       "9. 0.0377067916635231\n",
       "10. 1.86543877646486\n",
       "11. -1.88219472763701\n",
       "12. -3.03140497362424\n",
       "13. -1.76565694906036\n",
       "14. -0.304741170914163\n",
       "15. -1.72534516700059\n",
       "\n",
       "\n",
       "\n",
       "$P\n",
       ":   1. 0.0754640397367645\n",
       "2. 0.404408711993859\n",
       "3. 0.0394981403484795\n",
       "4. 0.0192409778004152\n",
       "5. 0.000208213454015851\n",
       "6. 0.0249964812847876\n",
       "7. 0.423831665271627\n",
       "8. 0.0522692566435078\n",
       "9. 0.484960730442485\n",
       "10. 0.0310599631753952\n",
       "11. 0.0299047906309444\n",
       "12. 0.00121709263451764\n",
       "13. 0.0387267097477583\n",
       "14. 0.380281645116504\n",
       "15. 0.0422326433542999\n",
       "\n",
       "\n",
       "\n",
       "$P.adjusted\n",
       ":   1. 1\n",
       "2. 1\n",
       "3. 0.592472105227193\n",
       "4. 0.288614667006229\n",
       "5. 0.00312320181023777\n",
       "6. 0.374947219271814\n",
       "7. 1\n",
       "8. 0.784038849652617\n",
       "9. 1\n",
       "10. 0.465899447630928\n",
       "11. 0.448571859464166\n",
       "12. 0.0182563895177646\n",
       "13. 0.580900646216375\n",
       "14. 1\n",
       "15. 0.633489650314498\n",
       "\n",
       "\n",
       "\n",
       "$comparisons\n",
       ":   1. 'Brain - Heart'\n",
       "2. 'Brain - Liver'\n",
       "3. 'Heart - Liver'\n",
       "4. 'Brain - Prostate'\n",
       "5. 'Heart - Prostate'\n",
       "6. 'Liver - Prostate'\n",
       "7. 'Brain - Spleen'\n",
       "8. 'Heart - Spleen'\n",
       "9. 'Liver - Spleen'\n",
       "10. 'Prostate - Spleen'\n",
       "11. 'Brain - Uterus'\n",
       "12. 'Heart - Uterus'\n",
       "13. 'Liver - Uterus'\n",
       "14. 'Prostate - Uterus'\n",
       "15. 'Spleen - Uterus'\n",
       "\n",
       "\n",
       "\n",
       "\n",
       "\n"
      ],
      "text/plain": [
       "$chi2\n",
       "[1] 16.59971\n",
       "\n",
       "$Z\n",
       " [1]  1.43626103 -0.24195191 -1.75653981 -2.06968390 -3.52944840 -1.96002419\n",
       " [7] -0.19210069 -1.62323811  0.03770679  1.86543878 -1.88219473 -3.03140497\n",
       "[13] -1.76565695 -0.30474117 -1.72534517\n",
       "\n",
       "$P\n",
       " [1] 0.0754640397 0.4044087120 0.0394981403 0.0192409778 0.0002082135\n",
       " [6] 0.0249964813 0.4238316653 0.0522692566 0.4849607304 0.0310599632\n",
       "[11] 0.0299047906 0.0012170926 0.0387267097 0.3802816451 0.0422326434\n",
       "\n",
       "$P.adjusted\n",
       " [1] 1.000000000 1.000000000 0.592472105 0.288614667 0.003123202 0.374947219\n",
       " [7] 1.000000000 0.784038850 1.000000000 0.465899448 0.448571859 0.018256390\n",
       "[13] 0.580900646 1.000000000 0.633489650\n",
       "\n",
       "$comparisons\n",
       " [1] \"Brain - Heart\"     \"Brain - Liver\"     \"Heart - Liver\"    \n",
       " [4] \"Brain - Prostate\"  \"Heart - Prostate\"  \"Liver - Prostate\" \n",
       " [7] \"Brain - Spleen\"    \"Heart - Spleen\"    \"Liver - Spleen\"   \n",
       "[10] \"Prostate - Spleen\" \"Brain - Uterus\"    \"Heart - Uterus\"   \n",
       "[13] \"Liver - Uterus\"    \"Prostate - Uterus\" \"Spleen - Uterus\"  \n"
      ]
     },
     "metadata": {},
     "output_type": "display_data"
    }
   ],
   "source": [
    "#By Organ\n",
    "\n",
    "obs = estimate_richness(na.omit(Ita), split = TRUE, measures = \"Observed\")\n",
    "obs$SampleID = rownames(obs)\n",
    "\n",
    "dfobs = merge(obs, sample_tab, on=\"SampleID\")\n",
    "\n",
    "ordobs = obs %>% group_by(\"Organ\") %>%\n",
    "    summarize(med.obs = median(Observed)) %>%\n",
    "    arrange(desc(med.obs)) %>%\n",
    "    magrittr::extract2(\"Organ\")\n",
    "\n",
    "stats.obs = dfobs %>%\n",
    "    group_by(Organ) %>%\n",
    "    summarize(median = median(Observed), \n",
    "              mean = mean(Observed),\n",
    "              sd = sd(Observed),\n",
    "              sem = sd(Observed/sqrt(length(Observed)))) #%>%\n",
    "    #arrange(-desc(mean))\n",
    "stats.obs\n",
    "\n",
    "#CHECK FOR SIGNIFICANCE\n",
    "stats.krusk = kruskal.test(Observed~Organ, data=dfobs)\n",
    "stats.krusk\n",
    "\n",
    "#POST-HOC ANALYSIS\n",
    "dunn = dunn.test(dfobs$Observed, g=dfobs$Organ, method=\"bonferroni\")\n",
    "dunn"
   ]
  },
  {
   "cell_type": "code",
   "execution_count": 7,
   "metadata": {},
   "outputs": [],
   "source": [
    "#Sort by SI\n",
    "\n",
    "avg <- aggregate(Observed ~ Organ, data = dfobs, mean)\n",
    "dfobs$Organ <-factor(dfobs$Organ, levels=avg[order(avg$Observed), \"Organ\"])"
   ]
  },
  {
   "cell_type": "code",
   "execution_count": 8,
   "metadata": {},
   "outputs": [
    {
     "data": {
      "text/html": [
       "<strong>png:</strong> 2"
      ],
      "text/latex": [
       "\\textbf{png:} 2"
      ],
      "text/markdown": [
       "**png:** 2"
      ],
      "text/plain": [
       "png \n",
       "  2 "
      ]
     },
     "metadata": {},
     "output_type": "display_data"
    },
    {
     "data": {
      "image/png": "[encoded data removed]",
      "text/plain": [
       "plot without title"
      ]
     },
     "metadata": {},
     "output_type": "display_data"
    }
   ],
   "source": [
    "library(viridis)\n",
    "p = ggplot(na.omit(dfobs), aes(x = Organ, y = Observed)) + ggtitle(\"Italy - Organ by Observed Richness \\n 5krarefied\")\n",
    "\n",
    "p = p + geom_boxplot(lwd=2) + ylab(\"Observed Index\") + ylim(0,250)\n",
    "\n",
    "p = p + geom_point(size = 6,alpha=1, stroke=1, aes(shape = Organ),\n",
    "                   position = position_jitter(h = 0, w = 0.1)) +\n",
    "                   scale_shape_manual(values=c(15,17,12,3,1,6))\n",
    "\n",
    "p = p + theme_bw() + theme(text=element_text(size=12, color=\"black\",family=\"Times New Roman\"),\n",
    "                           legend.key = element_blank(),\n",
    "                           axis.text.x = element_text(angle = 45, hjust = 1),\n",
    "                           plot.title = element_text(hjust = 0.5),\n",
    "                           legend.position = \"bottom\",\n",
    "                           #axis.title.y=element_blank(),\n",
    "                           panel.grid.major = element_blank(),\n",
    "                           panel.grid.minor = element_blank())\n",
    "\n",
    "p\n",
    "\n",
    "png('Italy_organ_observed.png', width=10, height=10, units='in', res=300)\n",
    "plot(p)\n",
    "dev.off()"
   ]
  },
  {
   "cell_type": "markdown",
   "metadata": {},
   "source": [
    "#### USA"
   ]
  },
  {
   "cell_type": "code",
   "execution_count": 9,
   "metadata": {
    "scrolled": true
   },
   "outputs": [
    {
     "data": {
      "text/html": [
       "<table>\n",
       "<thead><tr><th scope=col>Organ</th><th scope=col>median</th><th scope=col>mean</th><th scope=col>sd</th><th scope=col>sem</th></tr></thead>\n",
       "<tbody>\n",
       "\t<tr><td>Blood    </td><td>47.5     </td><td>55.83333 </td><td>40.49897 </td><td>16.533636</td></tr>\n",
       "\t<tr><td>Brain    </td><td>42.0     </td><td>78.00000 </td><td>74.94832 </td><td>24.982772</td></tr>\n",
       "\t<tr><td>Heart    </td><td>30.0     </td><td>53.72727 </td><td>65.00783 </td><td>19.600599</td></tr>\n",
       "\t<tr><td>Liver    </td><td>76.0     </td><td>78.46809 </td><td>50.50822 </td><td> 7.367381</td></tr>\n",
       "\t<tr><td>Spleen   </td><td>61.5     </td><td>57.80000 </td><td>44.39419 </td><td>14.038677</td></tr>\n",
       "</tbody>\n",
       "</table>\n"
      ],
      "text/latex": [
       "\\begin{tabular}{r|lllll}\n",
       " Organ & median & mean & sd & sem\\\\\n",
       "\\hline\n",
       "\t Blood     & 47.5      & 55.83333  & 40.49897  & 16.533636\\\\\n",
       "\t Brain     & 42.0      & 78.00000  & 74.94832  & 24.982772\\\\\n",
       "\t Heart     & 30.0      & 53.72727  & 65.00783  & 19.600599\\\\\n",
       "\t Liver     & 76.0      & 78.46809  & 50.50822  &  7.367381\\\\\n",
       "\t Spleen    & 61.5      & 57.80000  & 44.39419  & 14.038677\\\\\n",
       "\\end{tabular}\n"
      ],
      "text/markdown": [
       "\n",
       "| Organ | median | mean | sd | sem |\n",
       "|---|---|---|---|---|\n",
       "| Blood     | 47.5      | 55.83333  | 40.49897  | 16.533636 |\n",
       "| Brain     | 42.0      | 78.00000  | 74.94832  | 24.982772 |\n",
       "| Heart     | 30.0      | 53.72727  | 65.00783  | 19.600599 |\n",
       "| Liver     | 76.0      | 78.46809  | 50.50822  |  7.367381 |\n",
       "| Spleen    | 61.5      | 57.80000  | 44.39419  | 14.038677 |\n",
       "\n"
      ],
      "text/plain": [
       "  Organ  median mean     sd       sem      \n",
       "1 Blood  47.5   55.83333 40.49897 16.533636\n",
       "2 Brain  42.0   78.00000 74.94832 24.982772\n",
       "3 Heart  30.0   53.72727 65.00783 19.600599\n",
       "4 Liver  76.0   78.46809 50.50822  7.367381\n",
       "5 Spleen 61.5   57.80000 44.39419 14.038677"
      ]
     },
     "metadata": {},
     "output_type": "display_data"
    },
    {
     "data": {
      "text/plain": [
       "\n",
       "\tKruskal-Wallis rank sum test\n",
       "\n",
       "data:  Observed by Organ\n",
       "Kruskal-Wallis chi-squared = 4.8679, df = 4, p-value = 0.3011\n"
      ]
     },
     "metadata": {},
     "output_type": "display_data"
    },
    {
     "name": "stdout",
     "output_type": "stream",
     "text": [
      "  Kruskal-Wallis rank sum test\n",
      "\n",
      "data: x and group\n",
      "Kruskal-Wallis chi-squared = 4.8679, df = 4, p-value = 0.3\n",
      "\n",
      "\n",
      "                           Comparison of x by group                            \n",
      "                                 (Bonferroni)                                  \n",
      "Col Mean-|\n",
      "Row Mean |      Blood      Brain      Heart      Liver\n",
      "---------+--------------------------------------------\n",
      "   Brain |  -0.310517\n",
      "         |     1.0000\n",
      "         |\n",
      "   Heart |   0.494225   0.922172\n",
      "         |     1.0000     1.0000\n",
      "         |\n",
      "   Liver |  -0.921415  -0.648065  -1.941489\n",
      "         |     1.0000     1.0000     0.2610\n",
      "         |\n",
      "  Spleen |   0.052224   0.414883  -0.512345   1.224486\n",
      "         |     1.0000     1.0000     1.0000     1.0000\n",
      "\n",
      "alpha = 0.05\n",
      "Reject Ho if p <= alpha/2\n"
     ]
    },
    {
     "data": {
      "text/html": [
       "<dl>\n",
       "\t<dt>$chi2</dt>\n",
       "\t\t<dd>4.86792836891256</dd>\n",
       "\t<dt>$Z</dt>\n",
       "\t\t<dd><ol class=list-inline>\n",
       "\t<li>-0.310517080342092</li>\n",
       "\t<li>0.494225178862146</li>\n",
       "\t<li>0.922172350224244</li>\n",
       "\t<li>-0.921415990813499</li>\n",
       "\t<li>-0.648065147718909</li>\n",
       "\t<li>-1.94148916238166</li>\n",
       "\t<li>0.0522248727588388</li>\n",
       "\t<li>0.414883209135232</li>\n",
       "\t<li>-0.51234574453272</li>\n",
       "\t<li>1.22448686171654</li>\n",
       "</ol>\n",
       "</dd>\n",
       "\t<dt>$P</dt>\n",
       "\t\t<dd><ol class=list-inline>\n",
       "\t<li>0.378083886369908</li>\n",
       "\t<li>0.310573579737155</li>\n",
       "\t<li>0.178219341524658</li>\n",
       "\t<li>0.178416641618973</li>\n",
       "\t<li>0.258471407343593</li>\n",
       "\t<li>0.0260994863548452</li>\n",
       "\t<li>0.479174757188724</li>\n",
       "\t<li>0.339113701085517</li>\n",
       "\t<li>0.304204527704633</li>\n",
       "\t<li>0.110384309788823</li>\n",
       "</ol>\n",
       "</dd>\n",
       "\t<dt>$P.adjusted</dt>\n",
       "\t\t<dd><ol class=list-inline>\n",
       "\t<li>1</li>\n",
       "\t<li>1</li>\n",
       "\t<li>1</li>\n",
       "\t<li>1</li>\n",
       "\t<li>1</li>\n",
       "\t<li>0.260994863548452</li>\n",
       "\t<li>1</li>\n",
       "\t<li>1</li>\n",
       "\t<li>1</li>\n",
       "\t<li>1</li>\n",
       "</ol>\n",
       "</dd>\n",
       "\t<dt>$comparisons</dt>\n",
       "\t\t<dd><ol class=list-inline>\n",
       "\t<li>'Blood - Brain'</li>\n",
       "\t<li>'Blood - Heart'</li>\n",
       "\t<li>'Brain - Heart'</li>\n",
       "\t<li>'Blood - Liver'</li>\n",
       "\t<li>'Brain - Liver'</li>\n",
       "\t<li>'Heart - Liver'</li>\n",
       "\t<li>'Blood - Spleen'</li>\n",
       "\t<li>'Brain - Spleen'</li>\n",
       "\t<li>'Heart - Spleen'</li>\n",
       "\t<li>'Liver - Spleen'</li>\n",
       "</ol>\n",
       "</dd>\n",
       "</dl>\n"
      ],
      "text/latex": [
       "\\begin{description}\n",
       "\\item[\\$chi2] 4.86792836891256\n",
       "\\item[\\$Z] \\begin{enumerate*}\n",
       "\\item -0.310517080342092\n",
       "\\item 0.494225178862146\n",
       "\\item 0.922172350224244\n",
       "\\item -0.921415990813499\n",
       "\\item -0.648065147718909\n",
       "\\item -1.94148916238166\n",
       "\\item 0.0522248727588388\n",
       "\\item 0.414883209135232\n",
       "\\item -0.51234574453272\n",
       "\\item 1.22448686171654\n",
       "\\end{enumerate*}\n",
       "\n",
       "\\item[\\$P] \\begin{enumerate*}\n",
       "\\item 0.378083886369908\n",
       "\\item 0.310573579737155\n",
       "\\item 0.178219341524658\n",
       "\\item 0.178416641618973\n",
       "\\item 0.258471407343593\n",
       "\\item 0.0260994863548452\n",
       "\\item 0.479174757188724\n",
       "\\item 0.339113701085517\n",
       "\\item 0.304204527704633\n",
       "\\item 0.110384309788823\n",
       "\\end{enumerate*}\n",
       "\n",
       "\\item[\\$P.adjusted] \\begin{enumerate*}\n",
       "\\item 1\n",
       "\\item 1\n",
       "\\item 1\n",
       "\\item 1\n",
       "\\item 1\n",
       "\\item 0.260994863548452\n",
       "\\item 1\n",
       "\\item 1\n",
       "\\item 1\n",
       "\\item 1\n",
       "\\end{enumerate*}\n",
       "\n",
       "\\item[\\$comparisons] \\begin{enumerate*}\n",
       "\\item 'Blood - Brain'\n",
       "\\item 'Blood - Heart'\n",
       "\\item 'Brain - Heart'\n",
       "\\item 'Blood - Liver'\n",
       "\\item 'Brain - Liver'\n",
       "\\item 'Heart - Liver'\n",
       "\\item 'Blood - Spleen'\n",
       "\\item 'Brain - Spleen'\n",
       "\\item 'Heart - Spleen'\n",
       "\\item 'Liver - Spleen'\n",
       "\\end{enumerate*}\n",
       "\n",
       "\\end{description}\n"
      ],
      "text/markdown": [
       "$chi2\n",
       ":   4.86792836891256\n",
       "$Z\n",
       ":   1. -0.310517080342092\n",
       "2. 0.494225178862146\n",
       "3. 0.922172350224244\n",
       "4. -0.921415990813499\n",
       "5. -0.648065147718909\n",
       "6. -1.94148916238166\n",
       "7. 0.0522248727588388\n",
       "8. 0.414883209135232\n",
       "9. -0.51234574453272\n",
       "10. 1.22448686171654\n",
       "\n",
       "\n",
       "\n",
       "$P\n",
       ":   1. 0.378083886369908\n",
       "2. 0.310573579737155\n",
       "3. 0.178219341524658\n",
       "4. 0.178416641618973\n",
       "5. 0.258471407343593\n",
       "6. 0.0260994863548452\n",
       "7. 0.479174757188724\n",
       "8. 0.339113701085517\n",
       "9. 0.304204527704633\n",
       "10. 0.110384309788823\n",
       "\n",
       "\n",
       "\n",
       "$P.adjusted\n",
       ":   1. 1\n",
       "2. 1\n",
       "3. 1\n",
       "4. 1\n",
       "5. 1\n",
       "6. 0.260994863548452\n",
       "7. 1\n",
       "8. 1\n",
       "9. 1\n",
       "10. 1\n",
       "\n",
       "\n",
       "\n",
       "$comparisons\n",
       ":   1. 'Blood - Brain'\n",
       "2. 'Blood - Heart'\n",
       "3. 'Brain - Heart'\n",
       "4. 'Blood - Liver'\n",
       "5. 'Brain - Liver'\n",
       "6. 'Heart - Liver'\n",
       "7. 'Blood - Spleen'\n",
       "8. 'Brain - Spleen'\n",
       "9. 'Heart - Spleen'\n",
       "10. 'Liver - Spleen'\n",
       "\n",
       "\n",
       "\n",
       "\n",
       "\n"
      ],
      "text/plain": [
       "$chi2\n",
       "[1] 4.867928\n",
       "\n",
       "$Z\n",
       " [1] -0.31051708  0.49422518  0.92217235 -0.92141599 -0.64806515 -1.94148916\n",
       " [7]  0.05222487  0.41488321 -0.51234574  1.22448686\n",
       "\n",
       "$P\n",
       " [1] 0.37808389 0.31057358 0.17821934 0.17841664 0.25847141 0.02609949\n",
       " [7] 0.47917476 0.33911370 0.30420453 0.11038431\n",
       "\n",
       "$P.adjusted\n",
       " [1] 1.0000000 1.0000000 1.0000000 1.0000000 1.0000000 0.2609949 1.0000000\n",
       " [8] 1.0000000 1.0000000 1.0000000\n",
       "\n",
       "$comparisons\n",
       " [1] \"Blood - Brain\"  \"Blood - Heart\"  \"Brain - Heart\"  \"Blood - Liver\" \n",
       " [5] \"Brain - Liver\"  \"Heart - Liver\"  \"Blood - Spleen\" \"Brain - Spleen\"\n",
       " [9] \"Heart - Spleen\" \"Liver - Spleen\"\n"
      ]
     },
     "metadata": {},
     "output_type": "display_data"
    }
   ],
   "source": [
    "#By Organ\n",
    "\n",
    "#obs = estimate_richness(na.omit(USA), split = TRUE, measures = \"Observed\")\n",
    "#obs$SampleID = rownames(obs)\n",
    "obs.usa = read.csv(\"/gpfs/data/gilbert-lab/Lutz/Cadaver/All_cohorts/update_march2019/temp_files/obs.usa.csv\")\n",
    "\n",
    "dfobs = merge(obs.usa, sample_tab, on=\"SampleID\")\n",
    "\n",
    "ordobs = obs %>% group_by(\"Organ\") %>%\n",
    "    summarize(med.obs = median(Observed)) %>%\n",
    "    arrange(desc(med.obs)) %>%\n",
    "    magrittr::extract2(\"Organ\")\n",
    "\n",
    "stats.obs = dfobs %>%\n",
    "    group_by(Organ) %>%\n",
    "    summarize(median = median(Observed), \n",
    "              mean = mean(Observed),\n",
    "              sd = sd(Observed),\n",
    "              sem = sd(Observed/sqrt(length(Observed)))) #%>%\n",
    "    #arrange(-desc(mean))\n",
    "stats.obs\n",
    "\n",
    "#CHECK FOR SIGNIFICANCE\n",
    "stats.krusk = kruskal.test(Observed~Organ, data=dfobs)\n",
    "stats.krusk\n",
    "\n",
    "#POST-HOC ANALYSIS\n",
    "dunn = dunn.test(dfobs$Observed, g=dfobs$Organ, method=\"bonferroni\")\n",
    "dunn"
   ]
  },
  {
   "cell_type": "code",
   "execution_count": 10,
   "metadata": {},
   "outputs": [],
   "source": [
    "#Sort by SI\n",
    "\n",
    "avg <- aggregate(Observed ~ Organ, data = dfobs, mean)\n",
    "dfobs$Organ <-factor(dfobs$Organ, levels=avg[order(avg$Observed), \"Organ\"])"
   ]
  },
  {
   "cell_type": "code",
   "execution_count": 11,
   "metadata": {},
   "outputs": [
    {
     "data": {
      "text/html": [
       "<strong>png:</strong> 2"
      ],
      "text/latex": [
       "\\textbf{png:} 2"
      ],
      "text/markdown": [
       "**png:** 2"
      ],
      "text/plain": [
       "png \n",
       "  2 "
      ]
     },
     "metadata": {},
     "output_type": "display_data"
    },
    {
     "data": {
      "image/png": "[encoded data removed]",
      "text/plain": [
       "plot without title"
      ]
     },
     "metadata": {},
     "output_type": "display_data"
    }
   ],
   "source": [
    "p = ggplot(na.omit(dfobs), aes(x = Organ, y = Observed)) + ggtitle(\"USA - Organ by Observed Richness \\n 5k rarefied\")\n",
    "\n",
    "p = p + geom_boxplot(lwd=2) + ylab(\"Observed Index\") + ylim(0,250)\n",
    "\n",
    "p = p + geom_point(size = 6,alpha=1, stroke=1,  aes(shape = Organ),\n",
    "                   position = position_jitter(h = 0, w = 0.1)) +\n",
    "                   scale_shape_manual(values=c(15,4,12,17,3))\n",
    "                 \n",
    "\n",
    "p = p + theme_bw() + theme(text=element_text(size=12, color=\"black\",family=\"Times New Roman\"),\n",
    "                           legend.key = element_blank(),\n",
    "                           axis.text.x = element_text(angle = 45, hjust = 1),\n",
    "                           plot.title = element_text(hjust = 0.5),\n",
    "                           legend.position = \"bottom\",\n",
    "                           #axis.title.y=element_blank(),\n",
    "                           panel.grid.major = element_blank(),\n",
    "                           panel.grid.minor = element_blank())\n",
    "\n",
    "p\n",
    "\n",
    "png('USA_organ_observed.png', width=10, height=10, units='in', res=300)\n",
    "plot(p)\n",
    "dev.off()"
   ]
  },
  {
   "cell_type": "markdown",
   "metadata": {},
   "source": [
    "#### Liver Only (to include Finland)"
   ]
  },
  {
   "cell_type": "code",
   "execution_count": 50,
   "metadata": {},
   "outputs": [
    {
     "data": {
      "text/html": [
       "<table>\n",
       "<thead><tr><th scope=col>Location</th><th scope=col>median</th><th scope=col>mean</th><th scope=col>sd</th><th scope=col>sem</th></tr></thead>\n",
       "<tbody>\n",
       "\t<tr><td>Finland  </td><td> 9       </td><td>10.35000 </td><td> 6.442254</td><td>1.440532 </td></tr>\n",
       "\t<tr><td>Italy    </td><td>39       </td><td>39.00000 </td><td>10.808947</td><td>2.997862 </td></tr>\n",
       "\t<tr><td>USA      </td><td>76       </td><td>78.46809 </td><td>50.508222</td><td>7.367381 </td></tr>\n",
       "</tbody>\n",
       "</table>\n"
      ],
      "text/latex": [
       "\\begin{tabular}{r|lllll}\n",
       " Location & median & mean & sd & sem\\\\\n",
       "\\hline\n",
       "\t Finland   &  9        & 10.35000  &  6.442254 & 1.440532 \\\\\n",
       "\t Italy     & 39        & 39.00000  & 10.808947 & 2.997862 \\\\\n",
       "\t USA       & 76        & 78.46809  & 50.508222 & 7.367381 \\\\\n",
       "\\end{tabular}\n"
      ],
      "text/markdown": [
       "\n",
       "| Location | median | mean | sd | sem |\n",
       "|---|---|---|---|---|\n",
       "| Finland   |  9        | 10.35000  |  6.442254 | 1.440532  |\n",
       "| Italy     | 39        | 39.00000  | 10.808947 | 2.997862  |\n",
       "| USA       | 76        | 78.46809  | 50.508222 | 7.367381  |\n",
       "\n"
      ],
      "text/plain": [
       "  Location median mean     sd        sem     \n",
       "1 Finland   9     10.35000  6.442254 1.440532\n",
       "2 Italy    39     39.00000 10.808947 2.997862\n",
       "3 USA      76     78.46809 50.508222 7.367381"
      ]
     },
     "metadata": {},
     "output_type": "display_data"
    },
    {
     "data": {
      "text/plain": [
       "\n",
       "\tKruskal-Wallis rank sum test\n",
       "\n",
       "data:  Observed by Location\n",
       "Kruskal-Wallis chi-squared = 37.517, df = 2, p-value = 7.132e-09\n"
      ]
     },
     "metadata": {},
     "output_type": "display_data"
    },
    {
     "name": "stdout",
     "output_type": "stream",
     "text": [
      "  Kruskal-Wallis rank sum test\n",
      "\n",
      "data: x and group\n",
      "Kruskal-Wallis chi-squared = 37.5173, df = 2, p-value = 0\n",
      "\n",
      "\n",
      "                           Comparison of x by group                            \n",
      "                                 (Bonferroni)                                  \n",
      "Col Mean-|\n",
      "Row Mean |    Finland      Italy\n",
      "---------+----------------------\n",
      "   Italy |  -2.897679\n",
      "         |    0.0056*\n",
      "         |\n",
      "     USA |  -6.113838  -1.914417\n",
      "         |    0.0000*     0.0834\n",
      "\n",
      "alpha = 0.05\n",
      "Reject Ho if p <= alpha/2\n"
     ]
    },
    {
     "data": {
      "text/html": [
       "<dl>\n",
       "\t<dt>$chi2</dt>\n",
       "\t\t<dd>37.5172542498193</dd>\n",
       "\t<dt>$Z</dt>\n",
       "\t\t<dd><ol class=list-inline>\n",
       "\t<li>-2.89767992486913</li>\n",
       "\t<li>-6.1138386244346</li>\n",
       "\t<li>-1.91441767524659</li>\n",
       "</ol>\n",
       "</dd>\n",
       "\t<dt>$P</dt>\n",
       "\t\t<dd><ol class=list-inline>\n",
       "\t<li>0.00187967017416562</li>\n",
       "\t<li>4.86313317528258e-10</li>\n",
       "\t<li>0.0277834044450771</li>\n",
       "</ol>\n",
       "</dd>\n",
       "\t<dt>$P.adjusted</dt>\n",
       "\t\t<dd><ol class=list-inline>\n",
       "\t<li>0.00563901052249685</li>\n",
       "\t<li>1.45893995258477e-09</li>\n",
       "\t<li>0.0833502133352312</li>\n",
       "</ol>\n",
       "</dd>\n",
       "\t<dt>$comparisons</dt>\n",
       "\t\t<dd><ol class=list-inline>\n",
       "\t<li>'Finland - Italy'</li>\n",
       "\t<li>'Finland - USA'</li>\n",
       "\t<li>'Italy - USA'</li>\n",
       "</ol>\n",
       "</dd>\n",
       "</dl>\n"
      ],
      "text/latex": [
       "\\begin{description}\n",
       "\\item[\\$chi2] 37.5172542498193\n",
       "\\item[\\$Z] \\begin{enumerate*}\n",
       "\\item -2.89767992486913\n",
       "\\item -6.1138386244346\n",
       "\\item -1.91441767524659\n",
       "\\end{enumerate*}\n",
       "\n",
       "\\item[\\$P] \\begin{enumerate*}\n",
       "\\item 0.00187967017416562\n",
       "\\item 4.86313317528258e-10\n",
       "\\item 0.0277834044450771\n",
       "\\end{enumerate*}\n",
       "\n",
       "\\item[\\$P.adjusted] \\begin{enumerate*}\n",
       "\\item 0.00563901052249685\n",
       "\\item 1.45893995258477e-09\n",
       "\\item 0.0833502133352312\n",
       "\\end{enumerate*}\n",
       "\n",
       "\\item[\\$comparisons] \\begin{enumerate*}\n",
       "\\item 'Finland - Italy'\n",
       "\\item 'Finland - USA'\n",
       "\\item 'Italy - USA'\n",
       "\\end{enumerate*}\n",
       "\n",
       "\\end{description}\n"
      ],
      "text/markdown": [
       "$chi2\n",
       ":   37.5172542498193\n",
       "$Z\n",
       ":   1. -2.89767992486913\n",
       "2. -6.1138386244346\n",
       "3. -1.91441767524659\n",
       "\n",
       "\n",
       "\n",
       "$P\n",
       ":   1. 0.00187967017416562\n",
       "2. 4.86313317528258e-10\n",
       "3. 0.0277834044450771\n",
       "\n",
       "\n",
       "\n",
       "$P.adjusted\n",
       ":   1. 0.00563901052249685\n",
       "2. 1.45893995258477e-09\n",
       "3. 0.0833502133352312\n",
       "\n",
       "\n",
       "\n",
       "$comparisons\n",
       ":   1. 'Finland - Italy'\n",
       "2. 'Finland - USA'\n",
       "3. 'Italy - USA'\n",
       "\n",
       "\n",
       "\n",
       "\n",
       "\n"
      ],
      "text/plain": [
       "$chi2\n",
       "[1] 37.51725\n",
       "\n",
       "$Z\n",
       "[1] -2.897680 -6.113839 -1.914418\n",
       "\n",
       "$P\n",
       "[1] 1.879670e-03 4.863133e-10 2.778340e-02\n",
       "\n",
       "$P.adjusted\n",
       "[1] 5.639011e-03 1.458940e-09 8.335021e-02\n",
       "\n",
       "$comparisons\n",
       "[1] \"Finland - Italy\" \"Finland - USA\"   \"Italy - USA\"    \n"
      ]
     },
     "metadata": {},
     "output_type": "display_data"
    }
   ],
   "source": [
    "#Liver only, all three locations (Finland, Italy, USA)\n",
    "\n",
    "#obs = estimate_richness(na.omit(Liver), split = TRUE, measures = \"Observed\")\n",
    "#obs$SampleID = rownames(obs)\n",
    "obs = read.csv(\"/gpfs/data/gilbert-lab/Lutz/Cadaver/All_cohorts/update_march2019/temp_files/obs.all.csv\")\n",
    "\n",
    "dfobs = merge(obs, sample_tab, on=\"SampleID\")\n",
    "\n",
    "ordobs = obs %>% group_by(\"Location\") %>%\n",
    "    summarize(med.obs = median(Observed)) %>%\n",
    "    arrange(desc(med.obs)) %>%\n",
    "    magrittr::extract2(\"Location\")\n",
    "\n",
    "stats.obs = dfobs %>%\n",
    "    group_by(Location) %>%\n",
    "    summarize(median = median(Observed), \n",
    "              mean = mean(Observed),\n",
    "              sd = sd(Observed),\n",
    "              sem = sd(Observed/sqrt(length(Observed)))) #%>%\n",
    "    #arrange(-desc(mean))\n",
    "stats.obs\n",
    "\n",
    "#CHECK FOR SIGNIFICANCE\n",
    "stats.krusk = kruskal.test(Observed~Location, data=dfobs)\n",
    "stats.krusk\n",
    "\n",
    "#POST-HOC ANALYSIS\n",
    "dunn = dunn.test(dfobs$Observed, g=dfobs$Location, method=\"bonferroni\")\n",
    "dunn"
   ]
  },
  {
   "cell_type": "code",
   "execution_count": 51,
   "metadata": {},
   "outputs": [],
   "source": [
    "#Sort by SI\n",
    "\n",
    "avg <- aggregate(Observed ~ Location, data = dfobs, mean)\n",
    "dfobs$Location <-factor(dfobs$Location, levels=avg[order(avg$Observed), \"Location\"])"
   ]
  },
  {
   "cell_type": "code",
   "execution_count": 54,
   "metadata": {},
   "outputs": [
    {
     "data": {
      "text/html": [
       "<strong>png:</strong> 2"
      ],
      "text/latex": [
       "\\textbf{png:} 2"
      ],
      "text/markdown": [
       "**png:** 2"
      ],
      "text/plain": [
       "png \n",
       "  2 "
      ]
     },
     "metadata": {},
     "output_type": "display_data"
    },
    {
     "data": {
      "image/png": "[encoded data removed]",
      "text/plain": [
       "plot without title"
      ]
     },
     "metadata": {},
     "output_type": "display_data"
    }
   ],
   "source": [
    "p = ggplot(na.omit(dfobs), aes(x = Location, y = Observed)) + ggtitle(\"All Location - Liver by Observed Richness \\n 5k rarefied\")\n",
    "\n",
    "p = p + geom_boxplot(lwd=2) + ylab(\"Observed Index\") + ylim(0,250)\n",
    "\n",
    "p = p + geom_point(size = 6,alpha=1,stroke=1, aes(shape = Organ),\n",
    "                   position = position_jitter(h = 0, w = 0.1)) +\n",
    "                   scale_shape_manual(values=c(3))\n",
    "                   \n",
    "                                                \n",
    "\n",
    "p = p + theme_bw() + theme(text=element_text(size=12, color=\"black\",family=\"Times New Roman\"),\n",
    "                           legend.key = element_blank(),\n",
    "                           axis.text.x = element_text(angle = 45, hjust = 1),\n",
    "                           plot.title = element_text(hjust = 0.5),\n",
    "                           legend.position = \"bottom\",\n",
    "                           #axis.title.y=element_blank(),\n",
    "                           panel.grid.major = element_blank(),\n",
    "                           panel.grid.minor = element_blank())\n",
    "\n",
    "p\n",
    "\n",
    "png('All_liver_observed.png', width=7.5, height=10, units='in', res=300)\n",
    "plot(p)\n",
    "dev.off()"
   ]
  },
  {
   "cell_type": "markdown",
   "metadata": {},
   "source": [
    "### Rank Abundance and subsequent statistical analyses"
   ]
  },
  {
   "cell_type": "code",
   "execution_count": 23,
   "metadata": {
    "collapsed": true
   },
   "outputs": [
    {
     "data": {
      "text/html": [
       "<table>\n",
       "<thead><tr><th scope=col>X</th><th scope=col>OTU</th><th scope=col>Sample</th><th scope=col>Abundance</th><th scope=col>X.SampleID</th><th scope=col>BarcodeSequence</th><th scope=col>LinkerPrimerSequence</th><th scope=col>RTL_run</th><th scope=col>Case_no</th><th scope=col>Sex</th><th scope=col>...</th><th scope=col>bmi</th><th scope=col>bmi_category</th><th scope=col>Description</th><th scope=col>Rank1</th><th scope=col>Rank2</th><th scope=col>Rank3</th><th scope=col>Rank4</th><th scope=col>Rank5</th><th scope=col>Rank6</th><th scope=col>Rank7</th></tr></thead>\n",
       "<tbody>\n",
       "\t<tr><td>301828                                                                                                                                                </td><td>TACGTAGGGGGCTAGCGTTATCCGGAATTACTGGGCGTAAAGGGTGCGTAGGCGGTCTTTCAAGCCAGAAGTGAAAGGCTACGGCTCAACCGTAGTAAGCTTTTGGAACTGTAGGACTTGAGTGCAGGAGAGGAGAGTGGAATTCCTAGT</td><td>4522.C1Liver                                                                                                                                          </td><td>0.9991667                                                                                                                                             </td><td>4522.C1Liver                                                                                                                                          </td><td>AAAACAAC                                                                                                                                              </td><td>GTGCCAGCMGCCGCGGTAA                                                                                                                                   </td><td>4522                                                                                                                                                  </td><td>C1                                                                                                                                                    </td><td>M                                                                                                                                                     </td><td>...                                                                                                                                                   </td><td>25.31                                                                                                                                                 </td><td>overweight                                                                                                                                            </td><td>4522.C1_Liver                                                                                                                                         </td><td>k__Bacteria                                                                                                                                           </td><td>p__Firmicutes                                                                                                                                         </td><td>c__Clostridia                                                                                                                                         </td><td>o__Clostridiales                                                                                                                                      </td><td>f__Peptostreptococcaceae                                                                                                                              </td><td>g__                                                                                                                                                   </td><td>s__                                                                                                                                                   </td></tr>\n",
       "\t<tr><td>156553                                                                                                                                                </td><td>TACGGAGGGTGCAAGCGTTAATCGGAATTACTGGGCGTAAAGCGCACGCAGGCGGTTTGTTAAGTCAGATGTGAAATCCCCGCGCTTAACGTGGGAACTGCATTTGAAACTGGCAAGCTAGAGTCTTGTAGAGGGGGGTAGAATTCCAGG</td><td>4885.44Liver                                                                                                                                          </td><td>0.9991332                                                                                                                                             </td><td>4885.44Liver                                                                                                                                          </td><td>AAAACAGA                                                                                                                                              </td><td>GTGCCAGCMGCCGCGGTAA                                                                                                                                   </td><td>4885                                                                                                                                                  </td><td>L630                                                                                                                                                  </td><td>F                                                                                                                                                     </td><td>...                                                                                                                                                   </td><td>45.90                                                                                                                                                 </td><td>obese                                                                                                                                                 </td><td>4885.44_Liver                                                                                                                                         </td><td>k__Bacteria                                                                                                                                           </td><td>p__Proteobacteria                                                                                                                                     </td><td>c__Gammaproteobacteria                                                                                                                                </td><td>o__Enterobacteriales                                                                                                                                  </td><td>f__Enterobacteriaceae                                                                                                                                 </td><td>g__                                                                                                                                                   </td><td>s__                                                                                                                                                   </td></tr>\n",
       "\t<tr><td> 31705                                                                                                                                                </td><td>TACAGAGGGTGCAAGCGTTAATCGGAATTACTGGGCGTAAAGCGCGCGTAGGTGGTTTGTTAAGTTGGATGTGAAATCCCCGGGCTCAACCTGGGAACTGCATTCAAAACTGACTGACTAGAGTATGGTAGAGGGTGGTGGAATTTCCTG</td><td>3813.35Heart                                                                                                                                          </td><td>0.9986475                                                                                                                                             </td><td>3813.35Heart                                                                                                                                          </td><td>AAAACCTA                                                                                                                                              </td><td>GTGCCAGCMGCCGCGGTAA                                                                                                                                   </td><td>35                                                                                                                                                    </td><td>C38                                                                                                                                                   </td><td>F                                                                                                                                                     </td><td>...                                                                                                                                                   </td><td>15.85                                                                                                                                                 </td><td>underweight                                                                                                                                           </td><td>3813.35_Heart                                                                                                                                         </td><td>k__Bacteria                                                                                                                                           </td><td>p__Proteobacteria                                                                                                                                     </td><td>c__Gammaproteobacteria                                                                                                                                </td><td>o__Pseudomonadales                                                                                                                                    </td><td>f__Pseudomonadaceae                                                                                                                                   </td><td>g__Pseudomonas                                                                                                                                        </td><td>s__                                                                                                                                                   </td></tr>\n",
       "\t<tr><td> 31867                                                                                                                                                </td><td>TACAGAGGGTGCAAGCGTTAATCGGAATTACTGGGCGTAAAGCGCGCGTAGGTGGTTTGTTAAGTTGGATGTGAAATCCCCGGGCTCAACCTGGGAACTGCATTCAAAACTGACTGACTAGAGTATGGTAGAGGGTGGTGGAATTTCCTG</td><td>3813.34Brain                                                                                                                                          </td><td>0.9985421                                                                                                                                             </td><td>3813.34Brain                                                                                                                                          </td><td>AAAACCGT                                                                                                                                              </td><td>GTGCCAGCMGCCGCGGTAA                                                                                                                                   </td><td>34                                                                                                                                                    </td><td>C38                                                                                                                                                   </td><td>F                                                                                                                                                     </td><td>...                                                                                                                                                   </td><td>15.85                                                                                                                                                 </td><td>underweight                                                                                                                                           </td><td>3813.34_Brain                                                                                                                                         </td><td>k__Bacteria                                                                                                                                           </td><td>p__Proteobacteria                                                                                                                                     </td><td>c__Gammaproteobacteria                                                                                                                                </td><td>o__Pseudomonadales                                                                                                                                    </td><td>f__Pseudomonadaceae                                                                                                                                   </td><td>g__Pseudomonas                                                                                                                                        </td><td>s__                                                                                                                                                   </td></tr>\n",
       "\t<tr><td>367357                                                                                                                                                </td><td>TACGTAGGTGGCAAGCGTTATCCGGAATTATTGGGCGTAAAGCGCGCGTAGGCGGTTTTTTAAGTCTGATGTGAAAGCCCACGGCTCAACCGTGGAGGGTCATTGGAAACTGGAAAACTTGAGTGCAGAAGAGGAAAGTGGAATTCCATG</td><td>4885.5Liver                                                                                                                                           </td><td>0.9983525                                                                                                                                             </td><td>4885.5Liver                                                                                                                                           </td><td>AAAACATG                                                                                                                                              </td><td>GTGCCAGCMGCCGCGGTAA                                                                                                                                   </td><td>4885                                                                                                                                                  </td><td>L641                                                                                                                                                  </td><td>M                                                                                                                                                     </td><td>...                                                                                                                                                   </td><td>28.65                                                                                                                                                 </td><td>overweight                                                                                                                                            </td><td>4885.5_Liver                                                                                                                                          </td><td>k__Bacteria                                                                                                                                           </td><td>p__Firmicutes                                                                                                                                         </td><td>c__Bacilli                                                                                                                                            </td><td>o__Bacillales                                                                                                                                         </td><td>f__Staphylococcaceae                                                                                                                                  </td><td>g__Staphylococcus                                                                                                                                     </td><td>s__                                                                                                                                                   </td></tr>\n",
       "\t<tr><td>301887                                                                                                                                                </td><td>TACGTAGGGGGCTAGCGTTATCCGGAATTACTGGGCGTAAAGGGTGCGTAGGCGGTCTTTCAAGCCAGAAGTGAAAGGCTACGGCTCAACCGTAGTAAGCTTTTGGAACTGTAGGACTTGAGTGCAGGAGAGGAGAGTGGAATTCCTAGT</td><td>3813.27Spleen                                                                                                                                         </td><td>0.9975804                                                                                                                                             </td><td>3813.27Spleen                                                                                                                                         </td><td>AAAACCAT                                                                                                                                              </td><td>GTGCCAGCMGCCGCGGTAA                                                                                                                                   </td><td>27                                                                                                                                                    </td><td>C29                                                                                                                                                   </td><td>M                                                                                                                                                     </td><td>...                                                                                                                                                   </td><td>24.78                                                                                                                                                 </td><td>normal                                                                                                                                                </td><td>3813.27_Spleen                                                                                                                                        </td><td>k__Bacteria                                                                                                                                           </td><td>p__Firmicutes                                                                                                                                         </td><td>c__Clostridia                                                                                                                                         </td><td>o__Clostridiales                                                                                                                                      </td><td>f__Peptostreptococcaceae                                                                                                                              </td><td>g__                                                                                                                                                   </td><td>s__                                                                                                                                                   </td></tr>\n",
       "</tbody>\n",
       "</table>\n"
      ],
      "text/latex": [
       "\\begin{tabular}{r|llllllllllllllllllllllllllllllll}\n",
       " X & OTU & Sample & Abundance & X.SampleID & BarcodeSequence & LinkerPrimerSequence & RTL\\_run & Case\\_no & Sex & ... & bmi & bmi\\_category & Description & Rank1 & Rank2 & Rank3 & Rank4 & Rank5 & Rank6 & Rank7\\\\\n",
       "\\hline\n",
       "\t 301828                                                                                                                                                 & TACGTAGGGGGCTAGCGTTATCCGGAATTACTGGGCGTAAAGGGTGCGTAGGCGGTCTTTCAAGCCAGAAGTGAAAGGCTACGGCTCAACCGTAGTAAGCTTTTGGAACTGTAGGACTTGAGTGCAGGAGAGGAGAGTGGAATTCCTAGT & 4522.C1Liver                                                                                                                                           & 0.9991667                                                                                                                                              & 4522.C1Liver                                                                                                                                           & AAAACAAC                                                                                                                                               & GTGCCAGCMGCCGCGGTAA                                                                                                                                    & 4522                                                                                                                                                   & C1                                                                                                                                                     & M                                                                                                                                                      & ...                                                                                                                                                    & 25.31                                                                                                                                                  & overweight                                                                                                                                             & 4522.C1\\_Liver                                                                                                                                        & k\\_\\_Bacteria                                                                                                                                        & p\\_\\_Firmicutes                                                                                                                                      & c\\_\\_Clostridia                                                                                                                                      & o\\_\\_Clostridiales                                                                                                                                   & f\\_\\_Peptostreptococcaceae                                                                                                                           & g\\_\\_                                                                                                                                                & s\\_\\_                                                                                                                                               \\\\\n",
       "\t 156553                                                                                                                                                 & TACGGAGGGTGCAAGCGTTAATCGGAATTACTGGGCGTAAAGCGCACGCAGGCGGTTTGTTAAGTCAGATGTGAAATCCCCGCGCTTAACGTGGGAACTGCATTTGAAACTGGCAAGCTAGAGTCTTGTAGAGGGGGGTAGAATTCCAGG & 4885.44Liver                                                                                                                                           & 0.9991332                                                                                                                                              & 4885.44Liver                                                                                                                                           & AAAACAGA                                                                                                                                               & GTGCCAGCMGCCGCGGTAA                                                                                                                                    & 4885                                                                                                                                                   & L630                                                                                                                                                   & F                                                                                                                                                      & ...                                                                                                                                                    & 45.90                                                                                                                                                  & obese                                                                                                                                                  & 4885.44\\_Liver                                                                                                                                        & k\\_\\_Bacteria                                                                                                                                        & p\\_\\_Proteobacteria                                                                                                                                  & c\\_\\_Gammaproteobacteria                                                                                                                             & o\\_\\_Enterobacteriales                                                                                                                               & f\\_\\_Enterobacteriaceae                                                                                                                              & g\\_\\_                                                                                                                                                & s\\_\\_                                                                                                                                               \\\\\n",
       "\t  31705                                                                                                                                                 & TACAGAGGGTGCAAGCGTTAATCGGAATTACTGGGCGTAAAGCGCGCGTAGGTGGTTTGTTAAGTTGGATGTGAAATCCCCGGGCTCAACCTGGGAACTGCATTCAAAACTGACTGACTAGAGTATGGTAGAGGGTGGTGGAATTTCCTG & 3813.35Heart                                                                                                                                           & 0.9986475                                                                                                                                              & 3813.35Heart                                                                                                                                           & AAAACCTA                                                                                                                                               & GTGCCAGCMGCCGCGGTAA                                                                                                                                    & 35                                                                                                                                                     & C38                                                                                                                                                    & F                                                                                                                                                      & ...                                                                                                                                                    & 15.85                                                                                                                                                  & underweight                                                                                                                                            & 3813.35\\_Heart                                                                                                                                        & k\\_\\_Bacteria                                                                                                                                        & p\\_\\_Proteobacteria                                                                                                                                  & c\\_\\_Gammaproteobacteria                                                                                                                             & o\\_\\_Pseudomonadales                                                                                                                                 & f\\_\\_Pseudomonadaceae                                                                                                                                & g\\_\\_Pseudomonas                                                                                                                                     & s\\_\\_                                                                                                                                               \\\\\n",
       "\t  31867                                                                                                                                                 & TACAGAGGGTGCAAGCGTTAATCGGAATTACTGGGCGTAAAGCGCGCGTAGGTGGTTTGTTAAGTTGGATGTGAAATCCCCGGGCTCAACCTGGGAACTGCATTCAAAACTGACTGACTAGAGTATGGTAGAGGGTGGTGGAATTTCCTG & 3813.34Brain                                                                                                                                           & 0.9985421                                                                                                                                              & 3813.34Brain                                                                                                                                           & AAAACCGT                                                                                                                                               & GTGCCAGCMGCCGCGGTAA                                                                                                                                    & 34                                                                                                                                                     & C38                                                                                                                                                    & F                                                                                                                                                      & ...                                                                                                                                                    & 15.85                                                                                                                                                  & underweight                                                                                                                                            & 3813.34\\_Brain                                                                                                                                        & k\\_\\_Bacteria                                                                                                                                        & p\\_\\_Proteobacteria                                                                                                                                  & c\\_\\_Gammaproteobacteria                                                                                                                             & o\\_\\_Pseudomonadales                                                                                                                                 & f\\_\\_Pseudomonadaceae                                                                                                                                & g\\_\\_Pseudomonas                                                                                                                                     & s\\_\\_                                                                                                                                               \\\\\n",
       "\t 367357                                                                                                                                                 & TACGTAGGTGGCAAGCGTTATCCGGAATTATTGGGCGTAAAGCGCGCGTAGGCGGTTTTTTAAGTCTGATGTGAAAGCCCACGGCTCAACCGTGGAGGGTCATTGGAAACTGGAAAACTTGAGTGCAGAAGAGGAAAGTGGAATTCCATG & 4885.5Liver                                                                                                                                            & 0.9983525                                                                                                                                              & 4885.5Liver                                                                                                                                            & AAAACATG                                                                                                                                               & GTGCCAGCMGCCGCGGTAA                                                                                                                                    & 4885                                                                                                                                                   & L641                                                                                                                                                   & M                                                                                                                                                      & ...                                                                                                                                                    & 28.65                                                                                                                                                  & overweight                                                                                                                                             & 4885.5\\_Liver                                                                                                                                         & k\\_\\_Bacteria                                                                                                                                        & p\\_\\_Firmicutes                                                                                                                                      & c\\_\\_Bacilli                                                                                                                                         & o\\_\\_Bacillales                                                                                                                                      & f\\_\\_Staphylococcaceae                                                                                                                               & g\\_\\_Staphylococcus                                                                                                                                  & s\\_\\_                                                                                                                                               \\\\\n",
       "\t 301887                                                                                                                                                 & TACGTAGGGGGCTAGCGTTATCCGGAATTACTGGGCGTAAAGGGTGCGTAGGCGGTCTTTCAAGCCAGAAGTGAAAGGCTACGGCTCAACCGTAGTAAGCTTTTGGAACTGTAGGACTTGAGTGCAGGAGAGGAGAGTGGAATTCCTAGT & 3813.27Spleen                                                                                                                                          & 0.9975804                                                                                                                                              & 3813.27Spleen                                                                                                                                          & AAAACCAT                                                                                                                                               & GTGCCAGCMGCCGCGGTAA                                                                                                                                    & 27                                                                                                                                                     & C29                                                                                                                                                    & M                                                                                                                                                      & ...                                                                                                                                                    & 24.78                                                                                                                                                  & normal                                                                                                                                                 & 3813.27\\_Spleen                                                                                                                                       & k\\_\\_Bacteria                                                                                                                                        & p\\_\\_Firmicutes                                                                                                                                      & c\\_\\_Clostridia                                                                                                                                      & o\\_\\_Clostridiales                                                                                                                                   & f\\_\\_Peptostreptococcaceae                                                                                                                           & g\\_\\_                                                                                                                                                & s\\_\\_                                                                                                                                               \\\\\n",
       "\\end{tabular}\n"
      ],
      "text/markdown": [
       "\n",
       "| X | OTU | Sample | Abundance | X.SampleID | BarcodeSequence | LinkerPrimerSequence | RTL_run | Case_no | Sex | ... | bmi | bmi_category | Description | Rank1 | Rank2 | Rank3 | Rank4 | Rank5 | Rank6 | Rank7 |\n",
       "|---|---|---|---|---|---|---|---|---|---|---|---|---|---|---|---|---|---|---|---|---|\n",
       "| 301828                                                                                                                                                 | TACGTAGGGGGCTAGCGTTATCCGGAATTACTGGGCGTAAAGGGTGCGTAGGCGGTCTTTCAAGCCAGAAGTGAAAGGCTACGGCTCAACCGTAGTAAGCTTTTGGAACTGTAGGACTTGAGTGCAGGAGAGGAGAGTGGAATTCCTAGT | 4522.C1Liver                                                                                                                                           | 0.9991667                                                                                                                                              | 4522.C1Liver                                                                                                                                           | AAAACAAC                                                                                                                                               | GTGCCAGCMGCCGCGGTAA                                                                                                                                    | 4522                                                                                                                                                   | C1                                                                                                                                                     | M                                                                                                                                                      | ...                                                                                                                                                    | 25.31                                                                                                                                                  | overweight                                                                                                                                             | 4522.C1_Liver                                                                                                                                          | k__Bacteria                                                                                                                                            | p__Firmicutes                                                                                                                                          | c__Clostridia                                                                                                                                          | o__Clostridiales                                                                                                                                       | f__Peptostreptococcaceae                                                                                                                               | g__                                                                                                                                                    | s__                                                                                                                                                    |\n",
       "| 156553                                                                                                                                                 | TACGGAGGGTGCAAGCGTTAATCGGAATTACTGGGCGTAAAGCGCACGCAGGCGGTTTGTTAAGTCAGATGTGAAATCCCCGCGCTTAACGTGGGAACTGCATTTGAAACTGGCAAGCTAGAGTCTTGTAGAGGGGGGTAGAATTCCAGG | 4885.44Liver                                                                                                                                           | 0.9991332                                                                                                                                              | 4885.44Liver                                                                                                                                           | AAAACAGA                                                                                                                                               | GTGCCAGCMGCCGCGGTAA                                                                                                                                    | 4885                                                                                                                                                   | L630                                                                                                                                                   | F                                                                                                                                                      | ...                                                                                                                                                    | 45.90                                                                                                                                                  | obese                                                                                                                                                  | 4885.44_Liver                                                                                                                                          | k__Bacteria                                                                                                                                            | p__Proteobacteria                                                                                                                                      | c__Gammaproteobacteria                                                                                                                                 | o__Enterobacteriales                                                                                                                                   | f__Enterobacteriaceae                                                                                                                                  | g__                                                                                                                                                    | s__                                                                                                                                                    |\n",
       "|  31705                                                                                                                                                 | TACAGAGGGTGCAAGCGTTAATCGGAATTACTGGGCGTAAAGCGCGCGTAGGTGGTTTGTTAAGTTGGATGTGAAATCCCCGGGCTCAACCTGGGAACTGCATTCAAAACTGACTGACTAGAGTATGGTAGAGGGTGGTGGAATTTCCTG | 3813.35Heart                                                                                                                                           | 0.9986475                                                                                                                                              | 3813.35Heart                                                                                                                                           | AAAACCTA                                                                                                                                               | GTGCCAGCMGCCGCGGTAA                                                                                                                                    | 35                                                                                                                                                     | C38                                                                                                                                                    | F                                                                                                                                                      | ...                                                                                                                                                    | 15.85                                                                                                                                                  | underweight                                                                                                                                            | 3813.35_Heart                                                                                                                                          | k__Bacteria                                                                                                                                            | p__Proteobacteria                                                                                                                                      | c__Gammaproteobacteria                                                                                                                                 | o__Pseudomonadales                                                                                                                                     | f__Pseudomonadaceae                                                                                                                                    | g__Pseudomonas                                                                                                                                         | s__                                                                                                                                                    |\n",
       "|  31867                                                                                                                                                 | TACAGAGGGTGCAAGCGTTAATCGGAATTACTGGGCGTAAAGCGCGCGTAGGTGGTTTGTTAAGTTGGATGTGAAATCCCCGGGCTCAACCTGGGAACTGCATTCAAAACTGACTGACTAGAGTATGGTAGAGGGTGGTGGAATTTCCTG | 3813.34Brain                                                                                                                                           | 0.9985421                                                                                                                                              | 3813.34Brain                                                                                                                                           | AAAACCGT                                                                                                                                               | GTGCCAGCMGCCGCGGTAA                                                                                                                                    | 34                                                                                                                                                     | C38                                                                                                                                                    | F                                                                                                                                                      | ...                                                                                                                                                    | 15.85                                                                                                                                                  | underweight                                                                                                                                            | 3813.34_Brain                                                                                                                                          | k__Bacteria                                                                                                                                            | p__Proteobacteria                                                                                                                                      | c__Gammaproteobacteria                                                                                                                                 | o__Pseudomonadales                                                                                                                                     | f__Pseudomonadaceae                                                                                                                                    | g__Pseudomonas                                                                                                                                         | s__                                                                                                                                                    |\n",
       "| 367357                                                                                                                                                 | TACGTAGGTGGCAAGCGTTATCCGGAATTATTGGGCGTAAAGCGCGCGTAGGCGGTTTTTTAAGTCTGATGTGAAAGCCCACGGCTCAACCGTGGAGGGTCATTGGAAACTGGAAAACTTGAGTGCAGAAGAGGAAAGTGGAATTCCATG | 4885.5Liver                                                                                                                                            | 0.9983525                                                                                                                                              | 4885.5Liver                                                                                                                                            | AAAACATG                                                                                                                                               | GTGCCAGCMGCCGCGGTAA                                                                                                                                    | 4885                                                                                                                                                   | L641                                                                                                                                                   | M                                                                                                                                                      | ...                                                                                                                                                    | 28.65                                                                                                                                                  | overweight                                                                                                                                             | 4885.5_Liver                                                                                                                                           | k__Bacteria                                                                                                                                            | p__Firmicutes                                                                                                                                          | c__Bacilli                                                                                                                                             | o__Bacillales                                                                                                                                          | f__Staphylococcaceae                                                                                                                                   | g__Staphylococcus                                                                                                                                      | s__                                                                                                                                                    |\n",
       "| 301887                                                                                                                                                 | TACGTAGGGGGCTAGCGTTATCCGGAATTACTGGGCGTAAAGGGTGCGTAGGCGGTCTTTCAAGCCAGAAGTGAAAGGCTACGGCTCAACCGTAGTAAGCTTTTGGAACTGTAGGACTTGAGTGCAGGAGAGGAGAGTGGAATTCCTAGT | 3813.27Spleen                                                                                                                                          | 0.9975804                                                                                                                                              | 3813.27Spleen                                                                                                                                          | AAAACCAT                                                                                                                                               | GTGCCAGCMGCCGCGGTAA                                                                                                                                    | 27                                                                                                                                                     | C29                                                                                                                                                    | M                                                                                                                                                      | ...                                                                                                                                                    | 24.78                                                                                                                                                  | normal                                                                                                                                                 | 3813.27_Spleen                                                                                                                                         | k__Bacteria                                                                                                                                            | p__Firmicutes                                                                                                                                          | c__Clostridia                                                                                                                                          | o__Clostridiales                                                                                                                                       | f__Peptostreptococcaceae                                                                                                                               | g__                                                                                                                                                    | s__                                                                                                                                                    |\n",
       "\n"
      ],
      "text/plain": [
       "  X     \n",
       "1 301828\n",
       "2 156553\n",
       "3  31705\n",
       "4  31867\n",
       "5 367357\n",
       "6 301887\n",
       "  OTU                                                                                                                                                   \n",
       "1 TACGTAGGGGGCTAGCGTTATCCGGAATTACTGGGCGTAAAGGGTGCGTAGGCGGTCTTTCAAGCCAGAAGTGAAAGGCTACGGCTCAACCGTAGTAAGCTTTTGGAACTGTAGGACTTGAGTGCAGGAGAGGAGAGTGGAATTCCTAGT\n",
       "2 TACGGAGGGTGCAAGCGTTAATCGGAATTACTGGGCGTAAAGCGCACGCAGGCGGTTTGTTAAGTCAGATGTGAAATCCCCGCGCTTAACGTGGGAACTGCATTTGAAACTGGCAAGCTAGAGTCTTGTAGAGGGGGGTAGAATTCCAGG\n",
       "3 TACAGAGGGTGCAAGCGTTAATCGGAATTACTGGGCGTAAAGCGCGCGTAGGTGGTTTGTTAAGTTGGATGTGAAATCCCCGGGCTCAACCTGGGAACTGCATTCAAAACTGACTGACTAGAGTATGGTAGAGGGTGGTGGAATTTCCTG\n",
       "4 TACAGAGGGTGCAAGCGTTAATCGGAATTACTGGGCGTAAAGCGCGCGTAGGTGGTTTGTTAAGTTGGATGTGAAATCCCCGGGCTCAACCTGGGAACTGCATTCAAAACTGACTGACTAGAGTATGGTAGAGGGTGGTGGAATTTCCTG\n",
       "5 TACGTAGGTGGCAAGCGTTATCCGGAATTATTGGGCGTAAAGCGCGCGTAGGCGGTTTTTTAAGTCTGATGTGAAAGCCCACGGCTCAACCGTGGAGGGTCATTGGAAACTGGAAAACTTGAGTGCAGAAGAGGAAAGTGGAATTCCATG\n",
       "6 TACGTAGGGGGCTAGCGTTATCCGGAATTACTGGGCGTAAAGGGTGCGTAGGCGGTCTTTCAAGCCAGAAGTGAAAGGCTACGGCTCAACCGTAGTAAGCTTTTGGAACTGTAGGACTTGAGTGCAGGAGAGGAGAGTGGAATTCCTAGT\n",
       "  Sample        Abundance X.SampleID    BarcodeSequence LinkerPrimerSequence\n",
       "1 4522.C1Liver  0.9991667 4522.C1Liver  AAAACAAC        GTGCCAGCMGCCGCGGTAA \n",
       "2 4885.44Liver  0.9991332 4885.44Liver  AAAACAGA        GTGCCAGCMGCCGCGGTAA \n",
       "3 3813.35Heart  0.9986475 3813.35Heart  AAAACCTA        GTGCCAGCMGCCGCGGTAA \n",
       "4 3813.34Brain  0.9985421 3813.34Brain  AAAACCGT        GTGCCAGCMGCCGCGGTAA \n",
       "5 4885.5Liver   0.9983525 4885.5Liver   AAAACATG        GTGCCAGCMGCCGCGGTAA \n",
       "6 3813.27Spleen 0.9975804 3813.27Spleen AAAACCAT        GTGCCAGCMGCCGCGGTAA \n",
       "  RTL_run Case_no Sex ... bmi   bmi_category Description    Rank1      \n",
       "1 4522    C1      M   ... 25.31 overweight   4522.C1_Liver  k__Bacteria\n",
       "2 4885    L630    F   ... 45.90 obese        4885.44_Liver  k__Bacteria\n",
       "3 35      C38     F   ... 15.85 underweight  3813.35_Heart  k__Bacteria\n",
       "4 34      C38     F   ... 15.85 underweight  3813.34_Brain  k__Bacteria\n",
       "5 4885    L641    M   ... 28.65 overweight   4885.5_Liver   k__Bacteria\n",
       "6 27      C29     M   ... 24.78 normal       3813.27_Spleen k__Bacteria\n",
       "  Rank2             Rank3                  Rank4               \n",
       "1 p__Firmicutes     c__Clostridia          o__Clostridiales    \n",
       "2 p__Proteobacteria c__Gammaproteobacteria o__Enterobacteriales\n",
       "3 p__Proteobacteria c__Gammaproteobacteria o__Pseudomonadales  \n",
       "4 p__Proteobacteria c__Gammaproteobacteria o__Pseudomonadales  \n",
       "5 p__Firmicutes     c__Bacilli             o__Bacillales       \n",
       "6 p__Firmicutes     c__Clostridia          o__Clostridiales    \n",
       "  Rank5                    Rank6             Rank7\n",
       "1 f__Peptostreptococcaceae g__               s__  \n",
       "2 f__Enterobacteriaceae    g__               s__  \n",
       "3 f__Pseudomonadaceae      g__Pseudomonas    s__  \n",
       "4 f__Pseudomonadaceae      g__Pseudomonas    s__  \n",
       "5 f__Staphylococcaceae     g__Staphylococcus s__  \n",
       "6 f__Peptostreptococcaceae g__               s__  "
      ]
     },
     "metadata": {},
     "output_type": "display_data"
    }
   ],
   "source": [
    "head(cadaver.mdf)"
   ]
  },
  {
   "cell_type": "code",
   "execution_count": 21,
   "metadata": {},
   "outputs": [],
   "source": [
    "cadaver.mdf = read.csv(\"/gpfs/data/gilbert-lab/Lutz/Cadaver/All_cohorts/MDFfiles/cadaver.mdf.csv\")"
   ]
  },
  {
   "cell_type": "code",
   "execution_count": 40,
   "metadata": {},
   "outputs": [
    {
     "name": "stderr",
     "output_type": "stream",
     "text": [
      "Selecting by m\n"
     ]
    }
   ],
   "source": [
    "N = 10\n",
    "\n",
    "topN = cadaver.mdf %>%\n",
    "    group_by(OTU) %>%\n",
    "    summarize(Abundance = sum(Abundance)) %>%\n",
    "    group_by(OTU) %>%\n",
    "    summarize(m = mean(Abundance)) %>%\n",
    "    top_n(N) %>%\n",
    "    arrange(desc(m)) %>%\n",
    "    magrittr::extract2(\"OTU\")\n",
    "\n",
    "mdf.other = cadaver.mdf %>%\n",
    "    mutate(OTU.other = ifelse(OTU %in% topN, as.character(OTU), \"Other\")) %>%\n",
    "    group_by(Sample,Organ, OTU.other) %>%\n",
    "    summarize(Abundance = mean(Abundance)) %>%\n",
    "    arrange(Abundance)\n",
    "\n",
    "mdf.summary = mdf.other %>%\n",
    "    group_by(Organ, OTU.other) %>%\n",
    "    summarise(avg = mean(Abundance), \n",
    "              sd = sd(Abundance), \n",
    "              sem = sd/sqrt(length(Abundance)),\n",
    "              proportion = round(avg*100,2)) %>%\n",
    "    arrange((OTU.other))"
   ]
  },
  {
   "cell_type": "code",
   "execution_count": 27,
   "metadata": {},
   "outputs": [],
   "source": [
    "tax = tax_table(cadaver)"
   ]
  },
  {
   "cell_type": "code",
   "execution_count": 41,
   "metadata": {},
   "outputs": [],
   "source": [
    "write.csv(mdf.summary, \"/gpfs/data/gilbert-lab/Lutz/Cadaver/All_cohorts/update_march2019/rank_abundance/cadaver.mdf.top10_OTU.byorgan.summary.csv\")\n",
    "write.csv(mdf.other, \"/gpfs/data/gilbert-lab/Lutz/Cadaver/All_cohorts/update_march2019/rank_abundance/cadaver.mdf.top10_OTU.byorgan.other.csv\")\n",
    "write.csv(tax, \"/gpfs/data/gilbert-lab/Lutz/Cadaver/All_cohorts/update_march2019/rank_abundance/cadaver.complete.taxtable.csv\" )"
   ]
  },
  {
   "cell_type": "code",
   "execution_count": null,
   "metadata": {},
   "outputs": [],
   "source": []
  },
  {
   "cell_type": "markdown",
   "metadata": {},
   "source": [
    "#### USA - Clostridiales"
   ]
  },
  {
   "cell_type": "code",
   "execution_count": 16,
   "metadata": {},
   "outputs": [],
   "source": [
    "usa = subset_samples(cadaver, Location==\"USA\")\n",
    "usa.clostridia = subset_taxa(usa, Rank4==\"o__Clostridiales\")"
   ]
  },
  {
   "cell_type": "code",
   "execution_count": 20,
   "metadata": {},
   "outputs": [],
   "source": []
  },
  {
   "cell_type": "code",
   "execution_count": null,
   "metadata": {},
   "outputs": [],
   "source": []
  },
  {
   "cell_type": "code",
   "execution_count": null,
   "metadata": {},
   "outputs": [],
   "source": []
  }
 ],
 "metadata": {
  "kernelspec": {
   "display_name": "R 3.4.1",
   "language": "R",
   "name": "ir3.4.1"
  },
  "language_info": {
   "codemirror_mode": "r",
   "file_extension": ".r",
   "mimetype": "text/x-r-source",
   "name": "R",
   "pygments_lexer": "r",
   "version": "3.4.1"
  }
 },
 "nbformat": 4,
 "nbformat_minor": 2
}
