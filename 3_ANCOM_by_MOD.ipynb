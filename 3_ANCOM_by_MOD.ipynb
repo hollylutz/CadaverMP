{
 "cells": [
  {
   "cell_type": "code",
   "execution_count": 2,
   "metadata": {},
   "outputs": [],
   "source": [
    "library(phyloseq)\n",
    "library(ggplot2)\n",
    "library(vegan)\n",
    "library(readr)\n",
    "library(data.table)\n",
    "library(dplyr)\n",
    "library(stats)\n",
    "library(ggpubr)\n",
    "library(dunn.test)"
   ]
  },
  {
   "cell_type": "code",
   "execution_count": 1,
   "metadata": {},
   "outputs": [],
   "source": [
    "#5krare\n",
    "cadaver = readRDS(\"/gpfs/data/gilbert-lab/Lutz/Cadaver/All_cohorts/RDSfiles/all_cohorts_cadaver_5krare.rds\")\n",
    "\n",
    "#otu.5k = data.frame(otu_table(cadaver))\n",
    "#meta.5k = data.frame(sample_data(cadaver))\n"
   ]
  },
  {
   "cell_type": "code",
   "execution_count": 4,
   "metadata": {},
   "outputs": [],
   "source": [
    "#Read in/out to format for ANCOM\n",
    "otu.5k = read.csv(\"/gpfs/data/gilbert-lab/Lutz/Cadaver/All_cohorts/update_march2019/CSVfiles/5k_otu.csv\")\n",
    "meta.5k = read.csv(\"/gpfs/data/gilbert-lab/Lutz/Cadaver/All_cohorts/update_march2019/CSVfiles/5k_meta.csv\")"
   ]
  },
  {
   "cell_type": "markdown",
   "metadata": {},
   "source": [
    "#### ANCOM with Covariates"
   ]
  },
  {
   "cell_type": "code",
   "execution_count": 5,
   "metadata": {},
   "outputs": [
    {
     "data": {
      "text/html": [
       "<ol class=list-inline>\n",
       "\t<li>Natural</li>\n",
       "\t<li>Natural</li>\n",
       "\t<li>Natural</li>\n",
       "\t<li>Natural</li>\n",
       "\t<li>Natural</li>\n",
       "\t<li>Accident</li>\n",
       "</ol>\n",
       "\n",
       "<details>\n",
       "\t<summary style=display:list-item;cursor:pointer>\n",
       "\t\t<strong>Levels</strong>:\n",
       "\t</summary>\n",
       "\t<ol class=list-inline>\n",
       "\t\t<li>'Accident'</li>\n",
       "\t\t<li>'Homicide'</li>\n",
       "\t\t<li>'Natural'</li>\n",
       "\t\t<li>'Suicide'</li>\n",
       "\t</ol>\n",
       "</details>"
      ],
      "text/latex": [
       "\\begin{enumerate*}\n",
       "\\item Natural\n",
       "\\item Natural\n",
       "\\item Natural\n",
       "\\item Natural\n",
       "\\item Natural\n",
       "\\item Accident\n",
       "\\end{enumerate*}\n",
       "\n",
       "\\emph{Levels}: \\begin{enumerate*}\n",
       "\\item 'Accident'\n",
       "\\item 'Homicide'\n",
       "\\item 'Natural'\n",
       "\\item 'Suicide'\n",
       "\\end{enumerate*}\n"
      ],
      "text/markdown": [
       "1. Natural\n",
       "2. Natural\n",
       "3. Natural\n",
       "4. Natural\n",
       "5. Natural\n",
       "6. Accident\n",
       "\n",
       "\n",
       "\n",
       "**Levels**: 1. 'Accident'\n",
       "2. 'Homicide'\n",
       "3. 'Natural'\n",
       "4. 'Suicide'\n",
       "\n",
       "\n"
      ],
      "text/plain": [
       "[1] Natural  Natural  Natural  Natural  Natural  Accident\n",
       "Levels: Accident Homicide Natural Suicide"
      ]
     },
     "metadata": {},
     "output_type": "display_data"
    }
   ],
   "source": [
    "meta.5k$The_manner_of_death = as.character(meta.5k$The_manner_of_death)\n",
    "meta.5k$The_manner_of_death[which(meta.5k$The_manner_of_death == \"Accident_road traffic accident\")] = \"Accident\"\n",
    "meta.5k$The_manner_of_death[which(meta.5k$The_manner_of_death == \"Accident_Road traffic accident\")] = \"Accident\"\n",
    "meta.5k$The_manner_of_death[which(meta.5k$The_manner_of_death == \"Natural death\")] = \"Natural\"\n",
    "meta.5k$The_manner_of_death[which(meta.5k$The_manner_of_death == \"Undetermined\")] = \"Natural\"\n",
    "head(as.factor(meta.5k$The_manner_of_death))"
   ]
  },
  {
   "cell_type": "markdown",
   "metadata": {},
   "source": [
    "##### MOD: Accident w all organs"
   ]
  },
  {
   "cell_type": "code",
   "execution_count": 6,
   "metadata": {},
   "outputs": [
    {
     "data": {
      "text/html": [
       "<ol class=list-inline>\n",
       "\t<li>Other</li>\n",
       "\t<li>Other</li>\n",
       "\t<li>Other</li>\n",
       "\t<li>Other</li>\n",
       "\t<li>Other</li>\n",
       "\t<li>Accident</li>\n",
       "</ol>\n",
       "\n",
       "<details>\n",
       "\t<summary style=display:list-item;cursor:pointer>\n",
       "\t\t<strong>Levels</strong>:\n",
       "\t</summary>\n",
       "\t<ol class=list-inline>\n",
       "\t\t<li>'Accident'</li>\n",
       "\t\t<li>'Other'</li>\n",
       "\t</ol>\n",
       "</details>"
      ],
      "text/latex": [
       "\\begin{enumerate*}\n",
       "\\item Other\n",
       "\\item Other\n",
       "\\item Other\n",
       "\\item Other\n",
       "\\item Other\n",
       "\\item Accident\n",
       "\\end{enumerate*}\n",
       "\n",
       "\\emph{Levels}: \\begin{enumerate*}\n",
       "\\item 'Accident'\n",
       "\\item 'Other'\n",
       "\\end{enumerate*}\n"
      ],
      "text/markdown": [
       "1. Other\n",
       "2. Other\n",
       "3. Other\n",
       "4. Other\n",
       "5. Other\n",
       "6. Accident\n",
       "\n",
       "\n",
       "\n",
       "**Levels**: 1. 'Accident'\n",
       "2. 'Other'\n",
       "\n",
       "\n"
      ],
      "text/plain": [
       "[1] Other    Other    Other    Other    Other    Accident\n",
       "Levels: Accident Other"
      ]
     },
     "metadata": {},
     "output_type": "display_data"
    }
   ],
   "source": [
    "accident = meta.5k %>%\n",
    "mutate(Single_MOD = The_manner_of_death)\n",
    "\n",
    "accident$Single_MOD = as.character(accident$Single_MOD)\n",
    "accident$Single_MOD[which(accident$The_manner_of_death != \"Accident\")] = \"Other\"\n",
    "accident$Single_MOD = as.factor(accident$Single_MOD)\n",
    "head(accident$Single_MOD)"
   ]
  },
  {
   "cell_type": "code",
   "execution_count": 9,
   "metadata": {},
   "outputs": [
    {
     "data": {
      "text/html": [
       "<table>\n",
       "<thead><tr><th></th><th scope=col>otu.names</th><th scope=col>W_stat</th><th scope=col>detected_0.9</th><th scope=col>detected_0.8</th><th scope=col>detected_0.7</th><th scope=col>detected_0.6</th></tr></thead>\n",
       "<tbody>\n",
       "\t<tr><th scope=row>33</th><td>TACGTAGGTGGCAAGCGTTGTCCGGATTTATTGGGCGTAAAGCGAGCGCAGGCGGTTTCTTAAGTCTGATGTGAAAGCCTTCGGCTCAACCGAAGAAGTGCATCGGAAACTGGGAAACTTGAGTGCAGAAGAGGACAGTGGAACTCCATG</td><td>128                                                                                                                                                   </td><td> TRUE                                                                                                                                                 </td><td> TRUE                                                                                                                                                 </td><td> TRUE                                                                                                                                                 </td><td> TRUE                                                                                                                                                 </td></tr>\n",
       "\t<tr><th scope=row>77</th><td>TACGGAGGGTGCAAGCGTTAATCGGAATTACTGGGCGTAAAGCGCACGCAGGCGGTTTGTTAAGTCAGATGTGAAATCCCCGCGCTTAACGTGGGAACTGCATTTGAAACTGGCAAGCTAGAGTCTTGTAGAGGGGGGTAGAATTCCAGG</td><td>128                                                                                                                                                   </td><td> TRUE                                                                                                                                                 </td><td> TRUE                                                                                                                                                 </td><td> TRUE                                                                                                                                                 </td><td> TRUE                                                                                                                                                 </td></tr>\n",
       "\t<tr><th scope=row>18</th><td>TACGTAGGTGGCGAGCGTTATCCGGATTTACTGGGCGTAAAGGGAGCGTAGGCGGATGATTAAGTGGGATGTGAAATACCCGGGCTCAACTTGGGTGCTGCATTCCAAACTGGTTATCTAGAGTGCAGGAGAGGAGAGTGGAATTCCTAG</td><td>107                                                                                                                                                   </td><td>FALSE                                                                                                                                                 </td><td>FALSE                                                                                                                                                 </td><td> TRUE                                                                                                                                                 </td><td> TRUE                                                                                                                                                 </td></tr>\n",
       "\t<tr><th scope=row>42</th><td>TACGTAGGTCCCGAGCGTTGTCCGGATTTATTGGGCGTAAAGCGAGCGCAGGTGGTTTATTAAGTCTGGTGTAAAAGGCAGTGGCTCAACCATTGTATGCATTGGAAACTGGTAGACTTGAGTGCAGGAGAGGAGAGTGGAATTCCATGT</td><td> 93                                                                                                                                                   </td><td>FALSE                                                                                                                                                 </td><td>FALSE                                                                                                                                                 </td><td>FALSE                                                                                                                                                 </td><td> TRUE                                                                                                                                                 </td></tr>\n",
       "\t<tr><th scope=row>120</th><td>TACGGAGGGTGCAAGCGTTATCCGGATTCACTGGGTTTAAAGGGTGCGTAGGCGGGCAGGTAAGTCAGTGGTGAAATCCTGGAGCTTAACTCCAGAACTGCCATTGATACTATCTGTCTTGAATATTGTGGAGGTAAGCGGAATATGTCA</td><td> 77                                                                                                                                                   </td><td>FALSE                                                                                                                                                 </td><td>FALSE                                                                                                                                                 </td><td>FALSE                                                                                                                                                 </td><td>FALSE                                                                                                                                                 </td></tr>\n",
       "\t<tr><th scope=row>55</th><td>GACGTAGGATGCAAGCGTTGTCCGGATTTATTGGGCGTAAAGAGTTCGTAGGTGGTTTGTTAAGTTTGGTGTTAAAGATTGGGGCTCAACCCTGAAACTGCACTGAATACTGGCAGACTCGAGTGTGGTAGAGGCTAGTGGAATTCCCAG</td><td> 76                                                                                                                                                   </td><td>FALSE                                                                                                                                                 </td><td>FALSE                                                                                                                                                 </td><td>FALSE                                                                                                                                                 </td><td>FALSE                                                                                                                                                 </td></tr>\n",
       "</tbody>\n",
       "</table>\n"
      ],
      "text/latex": [
       "\\begin{tabular}{r|llllll}\n",
       "  & otu.names & W\\_stat & detected\\_0.9 & detected\\_0.8 & detected\\_0.7 & detected\\_0.6\\\\\n",
       "\\hline\n",
       "\t33 & TACGTAGGTGGCAAGCGTTGTCCGGATTTATTGGGCGTAAAGCGAGCGCAGGCGGTTTCTTAAGTCTGATGTGAAAGCCTTCGGCTCAACCGAAGAAGTGCATCGGAAACTGGGAAACTTGAGTGCAGAAGAGGACAGTGGAACTCCATG & 128                                                                                                                                                    &  TRUE                                                                                                                                                  &  TRUE                                                                                                                                                  &  TRUE                                                                                                                                                  &  TRUE                                                                                                                                                 \\\\\n",
       "\t77 & TACGGAGGGTGCAAGCGTTAATCGGAATTACTGGGCGTAAAGCGCACGCAGGCGGTTTGTTAAGTCAGATGTGAAATCCCCGCGCTTAACGTGGGAACTGCATTTGAAACTGGCAAGCTAGAGTCTTGTAGAGGGGGGTAGAATTCCAGG & 128                                                                                                                                                    &  TRUE                                                                                                                                                  &  TRUE                                                                                                                                                  &  TRUE                                                                                                                                                  &  TRUE                                                                                                                                                 \\\\\n",
       "\t18 & TACGTAGGTGGCGAGCGTTATCCGGATTTACTGGGCGTAAAGGGAGCGTAGGCGGATGATTAAGTGGGATGTGAAATACCCGGGCTCAACTTGGGTGCTGCATTCCAAACTGGTTATCTAGAGTGCAGGAGAGGAGAGTGGAATTCCTAG & 107                                                                                                                                                    & FALSE                                                                                                                                                  & FALSE                                                                                                                                                  &  TRUE                                                                                                                                                  &  TRUE                                                                                                                                                 \\\\\n",
       "\t42 & TACGTAGGTCCCGAGCGTTGTCCGGATTTATTGGGCGTAAAGCGAGCGCAGGTGGTTTATTAAGTCTGGTGTAAAAGGCAGTGGCTCAACCATTGTATGCATTGGAAACTGGTAGACTTGAGTGCAGGAGAGGAGAGTGGAATTCCATGT &  93                                                                                                                                                    & FALSE                                                                                                                                                  & FALSE                                                                                                                                                  & FALSE                                                                                                                                                  &  TRUE                                                                                                                                                 \\\\\n",
       "\t120 & TACGGAGGGTGCAAGCGTTATCCGGATTCACTGGGTTTAAAGGGTGCGTAGGCGGGCAGGTAAGTCAGTGGTGAAATCCTGGAGCTTAACTCCAGAACTGCCATTGATACTATCTGTCTTGAATATTGTGGAGGTAAGCGGAATATGTCA &  77                                                                                                                                                    & FALSE                                                                                                                                                  & FALSE                                                                                                                                                  & FALSE                                                                                                                                                  & FALSE                                                                                                                                                 \\\\\n",
       "\t55 & GACGTAGGATGCAAGCGTTGTCCGGATTTATTGGGCGTAAAGAGTTCGTAGGTGGTTTGTTAAGTTTGGTGTTAAAGATTGGGGCTCAACCCTGAAACTGCACTGAATACTGGCAGACTCGAGTGTGGTAGAGGCTAGTGGAATTCCCAG &  76                                                                                                                                                    & FALSE                                                                                                                                                  & FALSE                                                                                                                                                  & FALSE                                                                                                                                                  & FALSE                                                                                                                                                 \\\\\n",
       "\\end{tabular}\n"
      ],
      "text/markdown": [
       "\n",
       "| <!--/--> | otu.names | W_stat | detected_0.9 | detected_0.8 | detected_0.7 | detected_0.6 |\n",
       "|---|---|---|---|---|---|---|\n",
       "| 33 | TACGTAGGTGGCAAGCGTTGTCCGGATTTATTGGGCGTAAAGCGAGCGCAGGCGGTTTCTTAAGTCTGATGTGAAAGCCTTCGGCTCAACCGAAGAAGTGCATCGGAAACTGGGAAACTTGAGTGCAGAAGAGGACAGTGGAACTCCATG | 128                                                                                                                                                    |  TRUE                                                                                                                                                  |  TRUE                                                                                                                                                  |  TRUE                                                                                                                                                  |  TRUE                                                                                                                                                  |\n",
       "| 77 | TACGGAGGGTGCAAGCGTTAATCGGAATTACTGGGCGTAAAGCGCACGCAGGCGGTTTGTTAAGTCAGATGTGAAATCCCCGCGCTTAACGTGGGAACTGCATTTGAAACTGGCAAGCTAGAGTCTTGTAGAGGGGGGTAGAATTCCAGG | 128                                                                                                                                                    |  TRUE                                                                                                                                                  |  TRUE                                                                                                                                                  |  TRUE                                                                                                                                                  |  TRUE                                                                                                                                                  |\n",
       "| 18 | TACGTAGGTGGCGAGCGTTATCCGGATTTACTGGGCGTAAAGGGAGCGTAGGCGGATGATTAAGTGGGATGTGAAATACCCGGGCTCAACTTGGGTGCTGCATTCCAAACTGGTTATCTAGAGTGCAGGAGAGGAGAGTGGAATTCCTAG | 107                                                                                                                                                    | FALSE                                                                                                                                                  | FALSE                                                                                                                                                  |  TRUE                                                                                                                                                  |  TRUE                                                                                                                                                  |\n",
       "| 42 | TACGTAGGTCCCGAGCGTTGTCCGGATTTATTGGGCGTAAAGCGAGCGCAGGTGGTTTATTAAGTCTGGTGTAAAAGGCAGTGGCTCAACCATTGTATGCATTGGAAACTGGTAGACTTGAGTGCAGGAGAGGAGAGTGGAATTCCATGT |  93                                                                                                                                                    | FALSE                                                                                                                                                  | FALSE                                                                                                                                                  | FALSE                                                                                                                                                  |  TRUE                                                                                                                                                  |\n",
       "| 120 | TACGGAGGGTGCAAGCGTTATCCGGATTCACTGGGTTTAAAGGGTGCGTAGGCGGGCAGGTAAGTCAGTGGTGAAATCCTGGAGCTTAACTCCAGAACTGCCATTGATACTATCTGTCTTGAATATTGTGGAGGTAAGCGGAATATGTCA |  77                                                                                                                                                    | FALSE                                                                                                                                                  | FALSE                                                                                                                                                  | FALSE                                                                                                                                                  | FALSE                                                                                                                                                  |\n",
       "| 55 | GACGTAGGATGCAAGCGTTGTCCGGATTTATTGGGCGTAAAGAGTTCGTAGGTGGTTTGTTAAGTTTGGTGTTAAAGATTGGGGCTCAACCCTGAAACTGCACTGAATACTGGCAGACTCGAGTGTGGTAGAGGCTAGTGGAATTCCCAG |  76                                                                                                                                                    | FALSE                                                                                                                                                  | FALSE                                                                                                                                                  | FALSE                                                                                                                                                  | FALSE                                                                                                                                                  |\n",
       "\n"
      ],
      "text/plain": [
       "    otu.names                                                                                                                                             \n",
       "33  TACGTAGGTGGCAAGCGTTGTCCGGATTTATTGGGCGTAAAGCGAGCGCAGGCGGTTTCTTAAGTCTGATGTGAAAGCCTTCGGCTCAACCGAAGAAGTGCATCGGAAACTGGGAAACTTGAGTGCAGAAGAGGACAGTGGAACTCCATG\n",
       "77  TACGGAGGGTGCAAGCGTTAATCGGAATTACTGGGCGTAAAGCGCACGCAGGCGGTTTGTTAAGTCAGATGTGAAATCCCCGCGCTTAACGTGGGAACTGCATTTGAAACTGGCAAGCTAGAGTCTTGTAGAGGGGGGTAGAATTCCAGG\n",
       "18  TACGTAGGTGGCGAGCGTTATCCGGATTTACTGGGCGTAAAGGGAGCGTAGGCGGATGATTAAGTGGGATGTGAAATACCCGGGCTCAACTTGGGTGCTGCATTCCAAACTGGTTATCTAGAGTGCAGGAGAGGAGAGTGGAATTCCTAG\n",
       "42  TACGTAGGTCCCGAGCGTTGTCCGGATTTATTGGGCGTAAAGCGAGCGCAGGTGGTTTATTAAGTCTGGTGTAAAAGGCAGTGGCTCAACCATTGTATGCATTGGAAACTGGTAGACTTGAGTGCAGGAGAGGAGAGTGGAATTCCATGT\n",
       "120 TACGGAGGGTGCAAGCGTTATCCGGATTCACTGGGTTTAAAGGGTGCGTAGGCGGGCAGGTAAGTCAGTGGTGAAATCCTGGAGCTTAACTCCAGAACTGCCATTGATACTATCTGTCTTGAATATTGTGGAGGTAAGCGGAATATGTCA\n",
       "55  GACGTAGGATGCAAGCGTTGTCCGGATTTATTGGGCGTAAAGAGTTCGTAGGTGGTTTGTTAAGTTTGGTGTTAAAGATTGGGGCTCAACCCTGAAACTGCACTGAATACTGGCAGACTCGAGTGTGGTAGAGGCTAGTGGAATTCCCAG\n",
       "    W_stat detected_0.9 detected_0.8 detected_0.7 detected_0.6\n",
       "33  128     TRUE         TRUE         TRUE         TRUE       \n",
       "77  128     TRUE         TRUE         TRUE         TRUE       \n",
       "18  107    FALSE        FALSE         TRUE         TRUE       \n",
       "42   93    FALSE        FALSE        FALSE         TRUE       \n",
       "120  77    FALSE        FALSE        FALSE        FALSE       \n",
       "55   76    FALSE        FALSE        FALSE        FALSE       "
      ]
     },
     "metadata": {},
     "output_type": "display_data"
    }
   ],
   "source": [
    "#RUN ANCOM\n",
    "#variable \"Organ\" takes values Liver and Other\n",
    "\n",
    "comparison_test=ANCOM.main(OTUdat=otu.5k,\n",
    "                           Vardat=accident,\n",
    "                           adjusted=TRUE,\n",
    "                           repeated=F,\n",
    "                           main.var=\"Single_MOD\",\n",
    "                           adj.formula=\"Location+Sex+Age+Ethnicity+PMI+bmi_category+Organ\", #covariates\n",
    "                           repeat.var=NULL,\n",
    "                           longitudinal=FALSE,\n",
    "                           random.formula=NULL,\n",
    "                           multcorr=2, #2 corresponds to BH FDR correction\n",
    "                           sig=0.05,\n",
    "                           prev.cut=0.90)\n",
    "\n",
    "accident.allorgan.ancom = comparison_test$W.taxa\n",
    "head(accident.allorgan.ancom)"
   ]
  },
  {
   "cell_type": "code",
   "execution_count": 10,
   "metadata": {},
   "outputs": [],
   "source": [
    "write.csv(accident.allorgan.ancom, \"/gpfs/data/gilbert-lab/Lutz/Cadaver/All_cohorts/update_march2019/ANCOM/MOD.accident.allorgan.ancom_cov_organ.csv\")"
   ]
  },
  {
   "cell_type": "markdown",
   "metadata": {},
   "source": [
    "##### Natural w all organs"
   ]
  },
  {
   "cell_type": "code",
   "execution_count": 11,
   "metadata": {},
   "outputs": [
    {
     "data": {
      "text/html": [
       "<ol class=list-inline>\n",
       "\t<li>Natural</li>\n",
       "\t<li>Natural</li>\n",
       "\t<li>Natural</li>\n",
       "\t<li>Natural</li>\n",
       "\t<li>Natural</li>\n",
       "\t<li>Other</li>\n",
       "</ol>\n",
       "\n",
       "<details>\n",
       "\t<summary style=display:list-item;cursor:pointer>\n",
       "\t\t<strong>Levels</strong>:\n",
       "\t</summary>\n",
       "\t<ol class=list-inline>\n",
       "\t\t<li>'Natural'</li>\n",
       "\t\t<li>'Other'</li>\n",
       "\t</ol>\n",
       "</details>"
      ],
      "text/latex": [
       "\\begin{enumerate*}\n",
       "\\item Natural\n",
       "\\item Natural\n",
       "\\item Natural\n",
       "\\item Natural\n",
       "\\item Natural\n",
       "\\item Other\n",
       "\\end{enumerate*}\n",
       "\n",
       "\\emph{Levels}: \\begin{enumerate*}\n",
       "\\item 'Natural'\n",
       "\\item 'Other'\n",
       "\\end{enumerate*}\n"
      ],
      "text/markdown": [
       "1. Natural\n",
       "2. Natural\n",
       "3. Natural\n",
       "4. Natural\n",
       "5. Natural\n",
       "6. Other\n",
       "\n",
       "\n",
       "\n",
       "**Levels**: 1. 'Natural'\n",
       "2. 'Other'\n",
       "\n",
       "\n"
      ],
      "text/plain": [
       "[1] Natural Natural Natural Natural Natural Other  \n",
       "Levels: Natural Other"
      ]
     },
     "metadata": {},
     "output_type": "display_data"
    }
   ],
   "source": [
    "natural = meta.5k %>%\n",
    "mutate(Single_MOD = The_manner_of_death)\n",
    "\n",
    "natural$Single_MOD = as.character(natural$Single_MOD)\n",
    "natural$Single_MOD[which(natural$The_manner_of_death != \"Natural\")] = \"Other\"\n",
    "natural$Single_MOD = as.factor(natural$Single_MOD)\n",
    "head(natural$Single_MOD)"
   ]
  },
  {
   "cell_type": "code",
   "execution_count": 12,
   "metadata": {},
   "outputs": [],
   "source": [
    "#RUN ANCOM\n",
    "\n",
    "comparison_test=ANCOM.main(OTUdat=otu.5k,\n",
    "                           Vardat=natural,\n",
    "                           adjusted=TRUE,\n",
    "                           repeated=F,\n",
    "                           main.var=\"Single_MOD\",\n",
    "                           adj.formula=\"Location+Sex+Age+Ethnicity+PMI+bmi_category+Organ\", #covariates\n",
    "                           repeat.var=NULL,\n",
    "                           longitudinal=FALSE,\n",
    "                           random.formula=NULL,\n",
    "                           multcorr=2, #2 corresponds to BH FDR correction\n",
    "                           sig=0.05,\n",
    "                           prev.cut=0.90)\n",
    "\n",
    "natural.allorgan.ancom = comparison_test$W.taxa\n",
    "\n",
    "write.csv(natural.allorgan.ancom, \"/gpfs/data/gilbert-lab/Lutz/Cadaver/All_cohorts/update_march2019/ANCOM/MOD.natural.allorgan.ancom_cov_organ.csv\")\n"
   ]
  },
  {
   "cell_type": "markdown",
   "metadata": {},
   "source": [
    "##### Homicide w all organs"
   ]
  },
  {
   "cell_type": "code",
   "execution_count": 13,
   "metadata": {},
   "outputs": [
    {
     "data": {
      "text/html": [
       "<ol class=list-inline>\n",
       "\t<li>Other</li>\n",
       "\t<li>Other</li>\n",
       "\t<li>Other</li>\n",
       "\t<li>Other</li>\n",
       "\t<li>Other</li>\n",
       "\t<li>Other</li>\n",
       "</ol>\n",
       "\n",
       "<details>\n",
       "\t<summary style=display:list-item;cursor:pointer>\n",
       "\t\t<strong>Levels</strong>:\n",
       "\t</summary>\n",
       "\t<ol class=list-inline>\n",
       "\t\t<li>'Homicide'</li>\n",
       "\t\t<li>'Other'</li>\n",
       "\t</ol>\n",
       "</details>"
      ],
      "text/latex": [
       "\\begin{enumerate*}\n",
       "\\item Other\n",
       "\\item Other\n",
       "\\item Other\n",
       "\\item Other\n",
       "\\item Other\n",
       "\\item Other\n",
       "\\end{enumerate*}\n",
       "\n",
       "\\emph{Levels}: \\begin{enumerate*}\n",
       "\\item 'Homicide'\n",
       "\\item 'Other'\n",
       "\\end{enumerate*}\n"
      ],
      "text/markdown": [
       "1. Other\n",
       "2. Other\n",
       "3. Other\n",
       "4. Other\n",
       "5. Other\n",
       "6. Other\n",
       "\n",
       "\n",
       "\n",
       "**Levels**: 1. 'Homicide'\n",
       "2. 'Other'\n",
       "\n",
       "\n"
      ],
      "text/plain": [
       "[1] Other Other Other Other Other Other\n",
       "Levels: Homicide Other"
      ]
     },
     "metadata": {},
     "output_type": "display_data"
    }
   ],
   "source": [
    "homicide = meta.5k %>%\n",
    "mutate(Single_MOD = The_manner_of_death)\n",
    "\n",
    "homicide$Single_MOD = as.character(homicide$Single_MOD)\n",
    "homicide$Single_MOD[which(homicide$The_manner_of_death != \"Homicide\")] = \"Other\"\n",
    "homicide$Single_MOD = as.factor(homicide$Single_MOD)\n",
    "head(homicide$Single_MOD)"
   ]
  },
  {
   "cell_type": "code",
   "execution_count": 14,
   "metadata": {},
   "outputs": [],
   "source": [
    "#RUN ANCOM\n",
    "\n",
    "comparison_test=ANCOM.main(OTUdat=otu.5k,\n",
    "                           Vardat=homicide,\n",
    "                           adjusted=TRUE,\n",
    "                           repeated=F,\n",
    "                           main.var=\"Single_MOD\",\n",
    "                           adj.formula=\"Location+Sex+Age+Ethnicity+PMI+bmi_category+Organ\", #covariates\n",
    "                           repeat.var=NULL,\n",
    "                           longitudinal=FALSE,\n",
    "                           random.formula=NULL,\n",
    "                           multcorr=2, #2 corresponds to BH FDR correction\n",
    "                           sig=0.05,\n",
    "                           prev.cut=0.90)\n",
    "\n",
    "homicide.allorgan.ancom = comparison_test$W.taxa\n",
    "\n",
    "write.csv(homicide.allorgan.ancom, \"/gpfs/data/gilbert-lab/Lutz/Cadaver/All_cohorts/update_march2019/ANCOM/MOD.homicide.allorgan.ancom_cov_organ.csv\")\n"
   ]
  },
  {
   "cell_type": "markdown",
   "metadata": {},
   "source": [
    "##### Suicide w all organs"
   ]
  },
  {
   "cell_type": "code",
   "execution_count": 15,
   "metadata": {},
   "outputs": [
    {
     "data": {
      "text/html": [
       "<ol class=list-inline>\n",
       "\t<li>Other</li>\n",
       "\t<li>Other</li>\n",
       "\t<li>Other</li>\n",
       "\t<li>Other</li>\n",
       "\t<li>Other</li>\n",
       "\t<li>Other</li>\n",
       "</ol>\n",
       "\n",
       "<details>\n",
       "\t<summary style=display:list-item;cursor:pointer>\n",
       "\t\t<strong>Levels</strong>:\n",
       "\t</summary>\n",
       "\t<ol class=list-inline>\n",
       "\t\t<li>'Other'</li>\n",
       "\t\t<li>'Suicide'</li>\n",
       "\t</ol>\n",
       "</details>"
      ],
      "text/latex": [
       "\\begin{enumerate*}\n",
       "\\item Other\n",
       "\\item Other\n",
       "\\item Other\n",
       "\\item Other\n",
       "\\item Other\n",
       "\\item Other\n",
       "\\end{enumerate*}\n",
       "\n",
       "\\emph{Levels}: \\begin{enumerate*}\n",
       "\\item 'Other'\n",
       "\\item 'Suicide'\n",
       "\\end{enumerate*}\n"
      ],
      "text/markdown": [
       "1. Other\n",
       "2. Other\n",
       "3. Other\n",
       "4. Other\n",
       "5. Other\n",
       "6. Other\n",
       "\n",
       "\n",
       "\n",
       "**Levels**: 1. 'Other'\n",
       "2. 'Suicide'\n",
       "\n",
       "\n"
      ],
      "text/plain": [
       "[1] Other Other Other Other Other Other\n",
       "Levels: Other Suicide"
      ]
     },
     "metadata": {},
     "output_type": "display_data"
    }
   ],
   "source": [
    "suicide = meta.5k %>%\n",
    "mutate(Single_MOD = The_manner_of_death)\n",
    "\n",
    "suicide$Single_MOD = as.character(suicide$Single_MOD)\n",
    "suicide$Single_MOD[which(suicide$The_manner_of_death != \"Suicide\")] = \"Other\"\n",
    "suicide$Single_MOD = as.factor(suicide$Single_MOD)\n",
    "head(suicide$Single_MOD)"
   ]
  },
  {
   "cell_type": "code",
   "execution_count": 16,
   "metadata": {},
   "outputs": [],
   "source": [
    "#RUN ANCOM\n",
    "\n",
    "comparison_test=ANCOM.main(OTUdat=otu.5k,\n",
    "                           Vardat=suicide,\n",
    "                           adjusted=TRUE,\n",
    "                           repeated=F,\n",
    "                           main.var=\"Single_MOD\",\n",
    "                           adj.formula=\"Location+Sex+Age+Ethnicity+PMI+bmi_category+Organ\", #covariates\n",
    "                           repeat.var=NULL,\n",
    "                           longitudinal=FALSE,\n",
    "                           random.formula=NULL,\n",
    "                           multcorr=2, #2 corresponds to BH FDR correction\n",
    "                           sig=0.05,\n",
    "                           prev.cut=0.90)\n",
    "\n",
    "suicide.allorgan.ancom = comparison_test$W.taxa\n",
    "\n",
    "write.csv(suicide.allorgan.ancom, \"/gpfs/data/gilbert-lab/Lutz/Cadaver/All_cohorts/update_march2019/ANCOM/MOD.suicide.allorgan.ancom_cov_organ.csv\")\n"
   ]
  },
  {
   "cell_type": "markdown",
   "metadata": {},
   "source": [
    "### Run DeSEQ to get log2fold change values for ancom-identified OTUs"
   ]
  },
  {
   "cell_type": "code",
   "execution_count": 23,
   "metadata": {},
   "outputs": [],
   "source": [
    "library(DESeq2)"
   ]
  },
  {
   "cell_type": "code",
   "execution_count": 25,
   "metadata": {},
   "outputs": [],
   "source": [
    "#Read metadata in/out to convert to mapfile for new ps object (retaining Single_MOD column)\n",
    "#write.csv(natural, \"/gpfs/data/gilbert-lab/Lutz/Cadaver/All_cohorts/update_march2019/DESEQ/natural.meta.csv\")\n",
    "#write.csv(accident, \"/gpfs/data/gilbert-lab/Lutz/Cadaver/All_cohorts/update_march2019/DESEQ/accident.meta.csv\")\n",
    "#write.csv(homicide, \"/gpfs/data/gilbert-lab/Lutz/Cadaver/All_cohorts/update_march2019/DESEQ/homicide.meta.csv\")\n",
    "#write.csv(suicide, \"/gpfs/data/gilbert-lab/Lutz/Cadaver/All_cohorts/update_march2019/DESEQ/suicide.meta.csv\")\n",
    "\n",
    "natural.map = import_qiime_sample_data(\"/gpfs/data/gilbert-lab/Lutz/Cadaver/All_cohorts/update_march2019/DESEQ/natural.meta.txt\")\n",
    "accident.map = import_qiime_sample_data(\"/gpfs/data/gilbert-lab/Lutz/Cadaver/All_cohorts/update_march2019/DESEQ/accident.meta.txt\")\n",
    "homicide.map = import_qiime_sample_data(\"/gpfs/data/gilbert-lab/Lutz/Cadaver/All_cohorts/update_march2019/DESEQ/homicide.meta.txt\")\n",
    "suicide.map = import_qiime_sample_data(\"/gpfs/data/gilbert-lab/Lutz/Cadaver/All_cohorts/update_march2019/DESEQ/suicide.meta.txt\")\n",
    "\n",
    "#create new ps objects \n",
    "\n",
    "tree = phy_tree(cadaver)\n",
    "otu = otu_table(cadaver)\n",
    "tax = tax_table(cadaver)\n",
    "\n",
    "natural.ps = merge_phyloseq(natural.map, tree, otu, tax)\n",
    "accident.ps = merge_phyloseq(accident.map, tree, otu, tax)\n",
    "homicide.ps = merge_phyloseq(homicide.map, tree, otu, tax)\n",
    "suicide.ps = merge_phyloseq(suicide.map, tree, otu, tax)\n"
   ]
  },
  {
   "cell_type": "code",
   "execution_count": 28,
   "metadata": {},
   "outputs": [
    {
     "name": "stderr",
     "output_type": "stream",
     "text": [
      "converting counts to integer mode\n",
      "converting counts to integer mode\n",
      "converting counts to integer mode\n",
      "converting counts to integer mode\n"
     ]
    }
   ],
   "source": [
    "#convert ps to deseq object\n",
    "\n",
    "natural_dds = phyloseq_to_deseq2(natural.ps, ~Single_MOD)\n",
    "accident_dds = phyloseq_to_deseq2(accident.ps, ~Single_MOD)\n",
    "homicide_dds = phyloseq_to_deseq2(homicide.ps, ~Single_MOD)\n",
    "suicide_dds = phyloseq_to_deseq2(suicide.ps, ~Single_MOD)"
   ]
  },
  {
   "cell_type": "code",
   "execution_count": 30,
   "metadata": {},
   "outputs": [
    {
     "name": "stderr",
     "output_type": "stream",
     "text": [
      "found already estimated dispersions, replacing these\n",
      "gene-wise dispersion estimates\n",
      "mean-dispersion relationship\n",
      "final dispersion estimates\n",
      "using pre-existing size factors\n",
      "estimating dispersions\n",
      "found already estimated dispersions, replacing these\n",
      "gene-wise dispersion estimates\n",
      "mean-dispersion relationship\n",
      "final dispersion estimates\n",
      "fitting model and testing\n",
      "-- replacing outliers and refitting for 503 genes\n",
      "-- DESeq argument 'minReplicatesForReplace' = 7 \n",
      "-- original counts are preserved in counts(dds)\n",
      "estimating dispersions\n",
      "fitting model and testing\n"
     ]
    }
   ],
   "source": [
    "#Run DESeq - natural 5k rarefied\n",
    "\n",
    "gm_mean = function(x, na.rm=TRUE){\n",
    "  exp(sum(log(x[x > 0]), na.rm=na.rm) / length(x))\n",
    "}\n",
    "\n",
    "geoMeans = apply(DESeq2::counts(natural_dds), 1, gm_mean)\n",
    "\n",
    "\n",
    "natural_dds = estimateSizeFactors(natural_dds, geoMeans = geoMeans)\n",
    "natural_dds = estimateDispersions(natural_dds)\n",
    "abund = getVarianceStabilizedData(natural_dds)\n",
    "\n",
    "natural_dds = DESeq(natural_dds, test=\"Wald\", fitType=\"parametric\")\n",
    "\n",
    "res = results(natural_dds)\n",
    "res.tax = cbind(as(res, \"data.frame\"), as(tax_table(natural.ps)[rownames(res), ], \"matrix\"))\n",
    "\n",
    "#don't ned significance values, just want log2fold change\n",
    "#alpha = 0.05\n",
    "#sigtab = res[which(res$padj < alpha), ]\n",
    "#sigtab = cbind(as(sigtab, \"data.frame\"), as(tax_table(natural_pc)[rownames(sigtab), ], \"matrix\"))\n",
    "\n",
    "write.csv(res.tax, file=\"/gpfs/data/gilbert-lab/Lutz/Cadaver/All_cohorts/update_march2019/DESEQ/natural.deseq.log2fold.csv\")\n"
   ]
  },
  {
   "cell_type": "code",
   "execution_count": 31,
   "metadata": {},
   "outputs": [
    {
     "name": "stderr",
     "output_type": "stream",
     "text": [
      "gene-wise dispersion estimates\n",
      "mean-dispersion relationship\n",
      "final dispersion estimates\n",
      "using pre-existing size factors\n",
      "estimating dispersions\n",
      "found already estimated dispersions, replacing these\n",
      "gene-wise dispersion estimates\n",
      "mean-dispersion relationship\n",
      "final dispersion estimates\n",
      "fitting model and testing\n",
      "-- replacing outliers and refitting for 525 genes\n",
      "-- DESeq argument 'minReplicatesForReplace' = 7 \n",
      "-- original counts are preserved in counts(dds)\n",
      "estimating dispersions\n",
      "fitting model and testing\n"
     ]
    }
   ],
   "source": [
    "#Run DESeq - accident 5k rarefied\n",
    "\n",
    "gm_mean = function(x, na.rm=TRUE){\n",
    "  exp(sum(log(x[x > 0]), na.rm=na.rm) / length(x))\n",
    "}\n",
    "\n",
    "geoMeans = apply(DESeq2::counts(accident_dds), 1, gm_mean)\n",
    "\n",
    "\n",
    "accident_dds = estimateSizeFactors(accident_dds, geoMeans = geoMeans)\n",
    "accident_dds = estimateDispersions(accident_dds)\n",
    "abund = getVarianceStabilizedData(accident_dds)\n",
    "\n",
    "accident_dds = DESeq(accident_dds, test=\"Wald\", fitType=\"parametric\")\n",
    "\n",
    "res = results(accident_dds)\n",
    "res.tax = cbind(as(res, \"data.frame\"), as(tax_table(accident.ps)[rownames(res), ], \"matrix\"))\n",
    "\n",
    "#don't ned significance values, just want log2fold change\n",
    "#alpha = 0.05\n",
    "#sigtab = res[which(res$padj < alpha), ]\n",
    "#sigtab = cbind(as(sigtab, \"data.frame\"), as(tax_table(accident_pc)[rownames(sigtab), ], \"matrix\"))\n",
    "\n",
    "write.csv(res.tax, file=\"/gpfs/data/gilbert-lab/Lutz/Cadaver/All_cohorts/update_march2019/DESEQ/accident.deseq.log2fold.csv\")\n"
   ]
  },
  {
   "cell_type": "code",
   "execution_count": 32,
   "metadata": {},
   "outputs": [
    {
     "name": "stderr",
     "output_type": "stream",
     "text": [
      "gene-wise dispersion estimates\n",
      "mean-dispersion relationship\n",
      "final dispersion estimates\n",
      "using pre-existing size factors\n",
      "estimating dispersions\n",
      "found already estimated dispersions, replacing these\n",
      "gene-wise dispersion estimates\n",
      "mean-dispersion relationship\n",
      "final dispersion estimates\n",
      "fitting model and testing\n",
      "-- replacing outliers and refitting for 487 genes\n",
      "-- DESeq argument 'minReplicatesForReplace' = 7 \n",
      "-- original counts are preserved in counts(dds)\n",
      "estimating dispersions\n",
      "fitting model and testing\n"
     ]
    }
   ],
   "source": [
    "#Run DESeq - homicide 5k rarefied\n",
    "\n",
    "gm_mean = function(x, na.rm=TRUE){\n",
    "  exp(sum(log(x[x > 0]), na.rm=na.rm) / length(x))\n",
    "}\n",
    "\n",
    "geoMeans = apply(DESeq2::counts(homicide_dds), 1, gm_mean)\n",
    "\n",
    "\n",
    "homicide_dds = estimateSizeFactors(homicide_dds, geoMeans = geoMeans)\n",
    "homicide_dds = estimateDispersions(homicide_dds)\n",
    "abund = getVarianceStabilizedData(homicide_dds)\n",
    "\n",
    "homicide_dds = DESeq(homicide_dds, test=\"Wald\", fitType=\"parametric\")\n",
    "\n",
    "res = results(homicide_dds)\n",
    "res.tax = cbind(as(res, \"data.frame\"), as(tax_table(homicide.ps)[rownames(res), ], \"matrix\"))\n",
    "\n",
    "#don't ned significance values, just want log2fold change\n",
    "#alpha = 0.05\n",
    "#sigtab = res[which(res$padj < alpha), ]\n",
    "#sigtab = cbind(as(sigtab, \"data.frame\"), as(tax_table(homicide_pc)[rownames(sigtab), ], \"matrix\"))\n",
    "\n",
    "write.csv(res.tax, file=\"/gpfs/data/gilbert-lab/Lutz/Cadaver/All_cohorts/update_march2019/DESEQ/homicide.deseq.log2fold.csv\")\n"
   ]
  },
  {
   "cell_type": "code",
   "execution_count": 33,
   "metadata": {},
   "outputs": [
    {
     "name": "stderr",
     "output_type": "stream",
     "text": [
      "gene-wise dispersion estimates\n",
      "mean-dispersion relationship\n",
      "final dispersion estimates\n",
      "using pre-existing size factors\n",
      "estimating dispersions\n",
      "found already estimated dispersions, replacing these\n",
      "gene-wise dispersion estimates\n",
      "mean-dispersion relationship\n",
      "final dispersion estimates\n",
      "fitting model and testing\n",
      "-- replacing outliers and refitting for 511 genes\n",
      "-- DESeq argument 'minReplicatesForReplace' = 7 \n",
      "-- original counts are preserved in counts(dds)\n",
      "estimating dispersions\n",
      "fitting model and testing\n"
     ]
    }
   ],
   "source": [
    "#Run DESeq - suicide 5k rarefied\n",
    "\n",
    "gm_mean = function(x, na.rm=TRUE){\n",
    "  exp(sum(log(x[x > 0]), na.rm=na.rm) / length(x))\n",
    "}\n",
    "\n",
    "geoMeans = apply(DESeq2::counts(suicide_dds), 1, gm_mean)\n",
    "\n",
    "\n",
    "suicide_dds = estimateSizeFactors(suicide_dds, geoMeans = geoMeans)\n",
    "suicide_dds = estimateDispersions(suicide_dds)\n",
    "abund = getVarianceStabilizedData(suicide_dds)\n",
    "\n",
    "suicide_dds = DESeq(suicide_dds, test=\"Wald\", fitType=\"parametric\")\n",
    "\n",
    "res = results(suicide_dds)\n",
    "res.tax = cbind(as(res, \"data.frame\"), as(tax_table(suicide.ps)[rownames(res), ], \"matrix\"))\n",
    "\n",
    "#don't ned significance values, just want log2fold change\n",
    "#alpha = 0.05\n",
    "#sigtab = res[which(res$padj < alpha), ]\n",
    "#sigtab = cbind(as(sigtab, \"data.frame\"), as(tax_table(suicide_pc)[rownames(sigtab), ], \"matrix\"))\n",
    "\n",
    "write.csv(res.tax, file=\"/gpfs/data/gilbert-lab/Lutz/Cadaver/All_cohorts/update_march2019/DESEQ/suicide.deseq.log2fold.csv\")\n"
   ]
  },
  {
   "cell_type": "markdown",
   "metadata": {},
   "source": [
    "#### Plot log2Fold change values of ANCOM results"
   ]
  },
  {
   "cell_type": "code",
   "execution_count": 6,
   "metadata": {},
   "outputs": [],
   "source": [
    "ancom_0.60.mod = read.csv(\"/gpfs/data/gilbert-lab/Lutz/Cadaver/All_cohorts/update_march2019/ANCOM/MOD.allorgan.ancom_0.60.tax.summary.csv\")\n",
    "ancom_0.70.mod = read.csv(\"/gpfs/data/gilbert-lab/Lutz/Cadaver/All_cohorts/update_march2019/ANCOM/MOD.allorgan.ancom_0.70.tax.summary.csv\")\n",
    "\n"
   ]
  },
  {
   "cell_type": "code",
   "execution_count": 7,
   "metadata": {},
   "outputs": [
    {
     "data": {
      "image/png": "[encoded data removed]",
      "text/plain": [
       "plot without title"
      ]
     },
     "metadata": {},
     "output_type": "display_data"
    },
    {
     "data": {
      "text/html": [
       "<strong>png:</strong> 2"
      ],
      "text/latex": [
       "\\textbf{png:} 2"
      ],
      "text/markdown": [
       "**png:** 2"
      ],
      "text/plain": [
       "png \n",
       "  2 "
      ]
     },
     "metadata": {},
     "output_type": "display_data"
    },
    {
     "data": {
      "image/png": "[encoded data removed]",
      "text/plain": [
       "plot without title"
      ]
     },
     "metadata": {},
     "output_type": "display_data"
    }
   ],
   "source": [
    "library(viridis)\n",
    "p = ggplot(ancom_0.70.mod, aes(x = Taxon, y = log2FoldChange, fill=Rank3)) + geom_bar(stat=\"identity\")\n",
    "\n",
    "p = p + scale_fill_viridis(option=\"viridis\", discrete=TRUE, direction=1)\n",
    "\n",
    "p = p + theme_bw() + theme(text=element_text(size=10, color=\"black\",family=\"Calibri\"),\n",
    "                           #legend.key = element_blank(),\n",
    "                           axis.text.x = element_text(angle = 90, hjust = 1),\n",
    "                           plot.title = element_text(hjust = 0.5),\n",
    "                           legend.position = \"bottom\",\n",
    "                           #axis.title.y=element_blank(),\n",
    "                           panel.grid.major = element_blank(),\n",
    "                           panel.grid.minor = element_blank())\n",
    "\n",
    "p\n",
    "\n",
    "p2 = p + facet_wrap(~MOD)\n",
    "p2\n",
    "\n",
    "png('MOD_ANCOM_log2foldchange_0.70.png', width=10, height=10, units='in', res=300)\n",
    "plot(p)\n",
    "dev.off()"
   ]
  },
  {
   "cell_type": "code",
   "execution_count": null,
   "metadata": {},
   "outputs": [],
   "source": []
  },
  {
   "cell_type": "code",
   "execution_count": null,
   "metadata": {},
   "outputs": [],
   "source": []
  },
  {
   "cell_type": "markdown",
   "metadata": {},
   "source": [
    "##### ANCOM: raw code from Knight Lab"
   ]
  },
  {
   "cell_type": "code",
   "execution_count": 8,
   "metadata": {},
   "outputs": [
    {
     "name": "stderr",
     "output_type": "stream",
     "text": [
      " Package ‘exactRankTests’ is no longer under development.\n",
      " Please consider using package ‘coin’ instead.\n",
      "\n",
      "\n",
      "Attaching package: ‘nlme’\n",
      "\n",
      "The following object is masked from ‘package:dplyr’:\n",
      "\n",
      "    collapse\n",
      "\n"
     ]
    }
   ],
   "source": [
    "library(exactRankTests)\n",
    "library(nlme)\n",
    "library(ggplot2)\n",
    "\n",
    "ancom.W = function(otu_data,var_data,\n",
    "                   adjusted,repeated,\n",
    "                   main.var,adj.formula,\n",
    "                   repeat.var,long,rand.formula,\n",
    "                   multcorr,sig){\n",
    "  \n",
    "  n_otu=dim(otu_data)[2]-1\n",
    "  \n",
    "  otu_ids=colnames(otu_data)[-1]\n",
    "  \n",
    "  if(repeated==F){\n",
    "    data_comp=data.frame(merge(otu_data,var_data,by=\"Sample.ID\",all.y=T),row.names=NULL)\n",
    "    #data_comp=data.frame(merge(otu_data,var_data[,c(\"Sample.ID\",main.var)],by=\"Sample.ID\",all.y=T),row.names=NULL)\n",
    "  }else if(repeated==T){\n",
    "    data_comp=data.frame(merge(otu_data,var_data,by=\"Sample.ID\"),row.names=NULL)\n",
    "   # data_comp=data.frame(merge(otu_data,var_data[,c(\"Sample.ID\",main.var,repeat.var)],by=\"Sample.ID\"),row.names=NULL)\n",
    "  }\n",
    "  \n",
    "  base.formula = paste0(\"lr ~ \",main.var)\n",
    "  if(repeated==T){\n",
    "    repeat.formula = paste0(base.formula,\" | \", repeat.var)\n",
    "  }\n",
    "  if(adjusted==T){\n",
    "    adjusted.formula = paste0(base.formula,\" + \", adj.formula)\n",
    "  }\n",
    "  \n",
    "  if( adjusted == F & repeated == F ){\n",
    "    fformula  <- formula(base.formula)\n",
    "  } else if( adjusted == F & repeated == T & long == T ){\n",
    "    fformula  <- formula(base.formula)   \n",
    "  }else if( adjusted == F & repeated == T & long == F ){\n",
    "    fformula  <- formula(repeat.formula)   \n",
    "  }else if( adjusted == T & repeated == F  ){\n",
    "    fformula  <- formula(adjusted.formula)   \n",
    "  }else if( adjusted == T & repeated == T  ){\n",
    "    fformula  <- formula(adjusted.formula)   \n",
    "  }else{\n",
    "    stop(\"Problem with data. Dataset should contain OTU abundances, groups, \n",
    "         and optionally an ID for repeated measures.\")\n",
    "  }\n",
    "  \n",
    "  \n",
    "  \n",
    "    if( repeated==FALSE & adjusted == FALSE){\n",
    "       if( length(unique(data_comp[,which(colnames(data_comp)==main.var)]))==2 ){\n",
    "          tfun <- exactRankTests::wilcox.exact\n",
    "       } else{\n",
    "          tfun <- stats::kruskal.test\n",
    "    }\n",
    "    }else if( repeated==FALSE & adjusted == TRUE){\n",
    "      tfun <- stats::aov\n",
    "    }else if( repeated== TRUE & adjusted == FALSE & long == FALSE){\n",
    "      tfun <- stats::friedman.test\n",
    "    }else if( repeated== TRUE & adjusted == FALSE & long == TRUE){\n",
    "      tfun <- nlme::lme\n",
    "    }else if( repeated== TRUE & adjusted == TRUE){\n",
    "      tfun <- nlme::lme\n",
    "    }\n",
    "  \n",
    "  logratio.mat <- matrix(NA, nrow=n_otu, ncol=n_otu)\n",
    "  for(ii in 1:(n_otu-1)){\n",
    "    for(jj in (ii+1):n_otu){\n",
    "      data.pair <- data_comp[,which(colnames(data_comp)%in%otu_ids[c(ii,jj)])]\n",
    "      lr <- log((1+as.numeric(data.pair[,1]))/(1+as.numeric(data.pair[,2])))\n",
    "      \n",
    "      lr_dat <- data.frame( lr=lr, data_comp,row.names=NULL )\n",
    "      \n",
    "      if(adjusted==FALSE&repeated==FALSE){  ## Wilcox, Kruskal Wallis\n",
    "        logratio.mat[ii,jj] <- tfun( formula=fformula, data = lr_dat)$p.value\n",
    "      }else if(adjusted==FALSE&repeated==TRUE&long==FALSE){ ## Friedman's \n",
    "        logratio.mat[ii,jj] <- tfun( formula=fformula, data = lr_dat)$p.value\n",
    "      }else if(adjusted==TRUE&repeated==FALSE){ ## ANOVA\n",
    "        model=tfun(formula=fformula, data = lr_dat,na.action=na.omit)   \n",
    "        picker=which(gsub(\" \",\"\",row.names(summary(model)[[1]]))==main.var)  \n",
    "        logratio.mat[ii,jj] <- summary(model)[[1]][[\"Pr(>F)\"]][picker]\n",
    "      }else if(repeated==TRUE&long==TRUE){ ## GEE\n",
    "        model=tfun(fixed=fformula,data = lr_dat,\n",
    "                   random = formula(rand.formula),\n",
    "                   correlation=corAR1(),\n",
    "                   na.action=na.omit)   \n",
    "        picker=which(gsub(\" \",\"\",row.names(anova(model)))==main.var)\n",
    "        logratio.mat[ii,jj] <- anova(model)[[\"p-value\"]][picker]\n",
    "      }\n",
    "      \n",
    "    }\n",
    "  } \n",
    "  \n",
    "  ind <- lower.tri(logratio.mat)\n",
    "  logratio.mat[ind] <- t(logratio.mat)[ind]\n",
    "  \n",
    "  \n",
    "  logratio.mat[which(is.finite(logratio.mat)==FALSE)] <- 1\n",
    "  \n",
    "  mc.pval <- t(apply(logratio.mat,1,function(x){\n",
    "    s <- p.adjust(x, method = \"BH\")\n",
    "    return(s)\n",
    "  }))\n",
    "  \n",
    "  a <- logratio.mat[upper.tri(logratio.mat,diag=FALSE)==TRUE]\n",
    "  \n",
    "  b <- matrix(0,ncol=n_otu,nrow=n_otu)\n",
    "  b[upper.tri(b)==T] <- p.adjust(a, method = \"BH\")\n",
    "  diag(b)  <- NA\n",
    "  ind.1    <- lower.tri(b)\n",
    "  b[ind.1] <- t(b)[ind.1]\n",
    "  \n",
    "  #########################################\n",
    "  ### Code to extract surrogate p-value\n",
    "  surr.pval <- apply(mc.pval,1,function(x){\n",
    "    s0=quantile(x[which(as.numeric(as.character(x))<sig)],0.95)\n",
    "    # s0=max(x[which(as.numeric(as.character(x))<alpha)])\n",
    "    return(s0)\n",
    "  })\n",
    "  #########################################\n",
    "  ### Conservative\n",
    "  if(multcorr==1){\n",
    "    W <- apply(b,1,function(x){\n",
    "      subp <- length(which(x<sig))\n",
    "    })\n",
    "    ### Moderate\n",
    "  } else if(multcorr==2){\n",
    "    W <- apply(mc.pval,1,function(x){\n",
    "      subp <- length(which(x<sig))\n",
    "    })\n",
    "    ### No correction\n",
    "  } else if(multcorr==3){\n",
    "    W <- apply(logratio.mat,1,function(x){\n",
    "      subp <- length(which(x<sig))\n",
    "    })\n",
    "  }\n",
    "  \n",
    "  return(W)\n",
    "  }\n",
    "\n",
    "\n",
    "\n",
    "ANCOM.main = function(OTUdat,Vardat,\n",
    "                      adjusted,repeated,\n",
    "                      main.var,adj.formula,\n",
    "                      repeat.var,longitudinal,\n",
    "                      random.formula,\n",
    "                      multcorr,sig,\n",
    "                      prev.cut){\n",
    "  \n",
    "  p.zeroes=apply(OTUdat[,-1],2,function(x){\n",
    "    s=length(which(x==0))/length(x)\n",
    "  })\n",
    "  \n",
    "  zeroes.dist=data.frame(colnames(OTUdat)[-1],p.zeroes,row.names=NULL)\n",
    "  colnames(zeroes.dist)=c(\"Taxon\",\"Proportion_zero\")\n",
    "  \n",
    "  zero.plot = ggplot(zeroes.dist, aes(x=Proportion_zero)) + \n",
    "              geom_histogram(binwidth=0.1,colour=\"black\",fill=\"white\") + \n",
    "              xlab(\"Proportion of zeroes\") + ylab(\"Number of taxa\") +\n",
    "              theme_bw()\n",
    "  \n",
    "  #print(zero.plot)\n",
    "  \n",
    "  OTUdat.thinned=OTUdat\n",
    "  OTUdat.thinned=OTUdat.thinned[,c(1,1+which(p.zeroes<prev.cut))]\n",
    "  \n",
    "  otu.names=colnames(OTUdat.thinned)[-1]\n",
    "  \n",
    "  W.detected   <- ancom.W(OTUdat.thinned,Vardat,\n",
    "                          adjusted,repeated,\n",
    "                          main.var,adj.formula,\n",
    "                          repeat.var,longitudinal,random.formula,\n",
    "                          multcorr,sig)\n",
    "  \n",
    "  W_stat       <- W.detected\n",
    "  \n",
    "  \n",
    "  ### Bubble plot\n",
    "  \n",
    "  W_frame = data.frame(otu.names,W_stat,row.names=NULL)\n",
    "  W_frame = W_frame[order(-W_frame$W_stat),]\n",
    "  \n",
    "  W_frame$detected_0.9=rep(FALSE,dim(W_frame)[1])\n",
    "  W_frame$detected_0.8=rep(FALSE,dim(W_frame)[1])\n",
    "  W_frame$detected_0.7=rep(FALSE,dim(W_frame)[1])\n",
    "  W_frame$detected_0.6=rep(FALSE,dim(W_frame)[1])\n",
    "  \n",
    "  W_frame$detected_0.9[which(W_frame$W_stat>0.9*(dim(OTUdat.thinned[,-1])[2]-1))]=TRUE\n",
    "  W_frame$detected_0.8[which(W_frame$W_stat>0.8*(dim(OTUdat.thinned[,-1])[2]-1))]=TRUE\n",
    "  W_frame$detected_0.7[which(W_frame$W_stat>0.7*(dim(OTUdat.thinned[,-1])[2]-1))]=TRUE\n",
    "  W_frame$detected_0.6[which(W_frame$W_stat>0.6*(dim(OTUdat.thinned[,-1])[2]-1))]=TRUE\n",
    "  \n",
    "  final_results=list(W_frame,zero.plot)\n",
    "  names(final_results)=c(\"W.taxa\",\"PLot.zeroes\")\n",
    "  return(final_results)\n",
    "    }"
   ]
  }
 ],
 "metadata": {
  "kernelspec": {
   "display_name": "R 3.4.1",
   "language": "R",
   "name": "ir3.4.1"
  },
  "language_info": {
   "codemirror_mode": "r",
   "file_extension": ".r",
   "mimetype": "text/x-r-source",
   "name": "R",
   "pygments_lexer": "r",
   "version": "3.4.1"
  }
 },
 "nbformat": 4,
 "nbformat_minor": 2
}
