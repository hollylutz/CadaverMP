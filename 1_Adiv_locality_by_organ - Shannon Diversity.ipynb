{
 "cells": [
  {
   "cell_type": "code",
   "execution_count": 2,
   "metadata": {},
   "outputs": [],
   "source": [
    "library(phyloseq)\n",
    "library(ggplot2)\n",
    "library(vegan)\n",
    "library(readr)\n",
    "library(data.table)\n",
    "library(dplyr)\n",
    "library(stats)\n",
    "library(ggpubr)\n",
    "library(dunn.test)"
   ]
  },
  {
   "cell_type": "code",
   "execution_count": 3,
   "metadata": {},
   "outputs": [],
   "source": [
    "cadaver_5krare = readRDS(\"/gpfs/data/gilbert-lab/Lutz/Cadaver/All_cohorts/RDSfiles/all_cohorts_cadaver_5krare.rds\")\n"
   ]
  },
  {
   "cell_type": "markdown",
   "metadata": {},
   "source": [
    "### Alpha Diversity"
   ]
  },
  {
   "cell_type": "code",
   "execution_count": 4,
   "metadata": {},
   "outputs": [],
   "source": [
    "Ita = subset_samples(cadaver_5krare, Location==\"Italy\")\n",
    "Fin = subset_samples(cadaver_5krare, Location==\"Finland\")\n",
    "USA = subset_samples(cadaver_5krare, Location==\"USA\")\n",
    "\n",
    "Liver = subset_samples(cadaver_5krare, Organ==\"Liver\")"
   ]
  },
  {
   "cell_type": "code",
   "execution_count": 5,
   "metadata": {},
   "outputs": [],
   "source": [
    "sample_tab = read.csv(\"/gpfs/data/gilbert-lab/Lutz/Cadaver/All_cohorts/final_biom/all_cadaver_metadata.csv\")\n",
    "colnames(sample_tab)[1] <- \"SampleID\""
   ]
  },
  {
   "cell_type": "markdown",
   "metadata": {},
   "source": [
    "#### Italy"
   ]
  },
  {
   "cell_type": "code",
   "execution_count": 6,
   "metadata": {
    "scrolled": true
   },
   "outputs": [
    {
     "data": {
      "text/html": [
       "<table>\n",
       "<thead><tr><th scope=col>Organ</th><th scope=col>median</th><th scope=col>mean</th><th scope=col>sd</th><th scope=col>sem</th></tr></thead>\n",
       "<tbody>\n",
       "\t<tr><td>Brain     </td><td>1.527888  </td><td>1.515707  </td><td>0.2842694 </td><td>0.08989389</td></tr>\n",
       "\t<tr><td>Heart     </td><td>1.225674  </td><td>1.013399  </td><td>0.6787137 </td><td>0.22623791</td></tr>\n",
       "\t<tr><td>Liver     </td><td>1.569439  </td><td>1.581582  </td><td>0.4797023 </td><td>0.13304549</td></tr>\n",
       "\t<tr><td>Prostate  </td><td>2.034755  </td><td>2.456180  </td><td>1.2397571 </td><td>0.34384676</td></tr>\n",
       "\t<tr><td>Spleen    </td><td>1.474903  </td><td>1.313862  </td><td>0.7868781 </td><td>0.24883269</td></tr>\n",
       "\t<tr><td>Uterus    </td><td>2.097697  </td><td>2.378224  </td><td>0.5901722 </td><td>0.26393302</td></tr>\n",
       "</tbody>\n",
       "</table>\n"
      ],
      "text/latex": [
       "\\begin{tabular}{r|lllll}\n",
       " Organ & median & mean & sd & sem\\\\\n",
       "\\hline\n",
       "\t Brain      & 1.527888   & 1.515707   & 0.2842694  & 0.08989389\\\\\n",
       "\t Heart      & 1.225674   & 1.013399   & 0.6787137  & 0.22623791\\\\\n",
       "\t Liver      & 1.569439   & 1.581582   & 0.4797023  & 0.13304549\\\\\n",
       "\t Prostate   & 2.034755   & 2.456180   & 1.2397571  & 0.34384676\\\\\n",
       "\t Spleen     & 1.474903   & 1.313862   & 0.7868781  & 0.24883269\\\\\n",
       "\t Uterus     & 2.097697   & 2.378224   & 0.5901722  & 0.26393302\\\\\n",
       "\\end{tabular}\n"
      ],
      "text/markdown": [
       "\n",
       "| Organ | median | mean | sd | sem |\n",
       "|---|---|---|---|---|\n",
       "| Brain      | 1.527888   | 1.515707   | 0.2842694  | 0.08989389 |\n",
       "| Heart      | 1.225674   | 1.013399   | 0.6787137  | 0.22623791 |\n",
       "| Liver      | 1.569439   | 1.581582   | 0.4797023  | 0.13304549 |\n",
       "| Prostate   | 2.034755   | 2.456180   | 1.2397571  | 0.34384676 |\n",
       "| Spleen     | 1.474903   | 1.313862   | 0.7868781  | 0.24883269 |\n",
       "| Uterus     | 2.097697   | 2.378224   | 0.5901722  | 0.26393302 |\n",
       "\n"
      ],
      "text/plain": [
       "  Organ    median   mean     sd        sem       \n",
       "1 Brain    1.527888 1.515707 0.2842694 0.08989389\n",
       "2 Heart    1.225674 1.013399 0.6787137 0.22623791\n",
       "3 Liver    1.569439 1.581582 0.4797023 0.13304549\n",
       "4 Prostate 2.034755 2.456180 1.2397571 0.34384676\n",
       "5 Spleen   1.474903 1.313862 0.7868781 0.24883269\n",
       "6 Uterus   2.097697 2.378224 0.5901722 0.26393302"
      ]
     },
     "metadata": {},
     "output_type": "display_data"
    },
    {
     "data": {
      "text/plain": [
       "\n",
       "\tKruskal-Wallis rank sum test\n",
       "\n",
       "data:  Shannon by Organ\n",
       "Kruskal-Wallis chi-squared = 17.765, df = 5, p-value = 0.003255\n"
      ]
     },
     "metadata": {},
     "output_type": "display_data"
    },
    {
     "name": "stdout",
     "output_type": "stream",
     "text": [
      "  Kruskal-Wallis rank sum test\n",
      "\n",
      "data: x and group\n",
      "Kruskal-Wallis chi-squared = 17.7654, df = 5, p-value = 0\n",
      "\n",
      "\n",
      "                           Comparison of x by group                            \n",
      "                                 (Bonferroni)                                  \n",
      "Col Mean-|\n",
      "Row Mean |      Brain      Heart      Liver   Prostate     Spleen\n",
      "---------+-------------------------------------------------------\n",
      "   Heart |   1.170061\n",
      "         |     1.0000\n",
      "         |\n",
      "   Liver |  -0.120423  -1.356595\n",
      "         |     1.0000     1.0000\n",
      "         |\n",
      "Prostate |  -1.952959  -3.134163  -1.965176\n",
      "         |     0.3812    0.0129*     0.3705\n",
      "         |\n",
      "  Spleen |   0.524951  -0.659111   0.678561   2.511098\n",
      "         |     1.0000     1.0000     1.0000     0.0903\n",
      "         |\n",
      "  Uterus |  -2.247646  -3.170988  -2.243168  -0.778413  -2.676266\n",
      "         |     0.1845    0.0114*     0.1866     1.0000     0.0558\n",
      "\n",
      "alpha = 0.05\n",
      "Reject Ho if p <= alpha/2\n"
     ]
    },
    {
     "data": {
      "text/html": [
       "<dl>\n",
       "\t<dt>$chi2</dt>\n",
       "\t\t<dd>17.7653832142356</dd>\n",
       "\t<dt>$Z</dt>\n",
       "\t\t<dd><ol class=list-inline>\n",
       "\t<li>1.17006162025229</li>\n",
       "\t<li>-0.120423799770111</li>\n",
       "\t<li>-1.35659520196331</li>\n",
       "\t<li>-1.95295988322833</li>\n",
       "\t<li>-3.13416379022639</li>\n",
       "\t<li>-1.96517601546346</li>\n",
       "\t<li>0.524951207724874</li>\n",
       "\t<li>-0.659111634603659</li>\n",
       "\t<li>0.678561932617671</li>\n",
       "\t<li>2.51109801607589</li>\n",
       "\t<li>-2.24764600600406</li>\n",
       "\t<li>-3.17098805350842</li>\n",
       "\t<li>-2.24316875891815</li>\n",
       "\t<li>-0.778413039475329</li>\n",
       "\t<li>-2.6762668722653</li>\n",
       "</ol>\n",
       "</dd>\n",
       "\t<dt>$P</dt>\n",
       "\t\t<dd><ol class=list-inline>\n",
       "\t<li>0.120988086038698</li>\n",
       "\t<li>0.452073719549973</li>\n",
       "\t<li>0.0874549335719325</li>\n",
       "\t<li>0.0254121744803183</li>\n",
       "\t<li>0.000861723134998751</li>\n",
       "\t<li>0.0246969344667562</li>\n",
       "\t<li>0.299808555064167</li>\n",
       "\t<li>0.254912042514123</li>\n",
       "\t<li>0.248707734910041</li>\n",
       "\t<li>0.00601781370301483</li>\n",
       "\t<li>0.0122993857487728</li>\n",
       "\t<li>0.000759606954291132</li>\n",
       "\t<li>0.0124429670355039</li>\n",
       "\t<li>0.218162777037658</li>\n",
       "\t<li>0.00372236693182796</li>\n",
       "</ol>\n",
       "</dd>\n",
       "\t<dt>$P.adjusted</dt>\n",
       "\t\t<dd><ol class=list-inline>\n",
       "\t<li>1</li>\n",
       "\t<li>1</li>\n",
       "\t<li>1</li>\n",
       "\t<li>0.381182617204775</li>\n",
       "\t<li>0.0129258470249813</li>\n",
       "\t<li>0.370454017001343</li>\n",
       "\t<li>1</li>\n",
       "\t<li>1</li>\n",
       "\t<li>1</li>\n",
       "\t<li>0.0902672055452224</li>\n",
       "\t<li>0.184490786231592</li>\n",
       "\t<li>0.011394104314367</li>\n",
       "\t<li>0.186644505532558</li>\n",
       "\t<li>1</li>\n",
       "\t<li>0.0558355039774194</li>\n",
       "</ol>\n",
       "</dd>\n",
       "\t<dt>$comparisons</dt>\n",
       "\t\t<dd><ol class=list-inline>\n",
       "\t<li>'Brain - Heart'</li>\n",
       "\t<li>'Brain - Liver'</li>\n",
       "\t<li>'Heart - Liver'</li>\n",
       "\t<li>'Brain - Prostate'</li>\n",
       "\t<li>'Heart - Prostate'</li>\n",
       "\t<li>'Liver - Prostate'</li>\n",
       "\t<li>'Brain - Spleen'</li>\n",
       "\t<li>'Heart - Spleen'</li>\n",
       "\t<li>'Liver - Spleen'</li>\n",
       "\t<li>'Prostate - Spleen'</li>\n",
       "\t<li>'Brain - Uterus'</li>\n",
       "\t<li>'Heart - Uterus'</li>\n",
       "\t<li>'Liver - Uterus'</li>\n",
       "\t<li>'Prostate - Uterus'</li>\n",
       "\t<li>'Spleen - Uterus'</li>\n",
       "</ol>\n",
       "</dd>\n",
       "</dl>\n"
      ],
      "text/latex": [
       "\\begin{description}\n",
       "\\item[\\$chi2] 17.7653832142356\n",
       "\\item[\\$Z] \\begin{enumerate*}\n",
       "\\item 1.17006162025229\n",
       "\\item -0.120423799770111\n",
       "\\item -1.35659520196331\n",
       "\\item -1.95295988322833\n",
       "\\item -3.13416379022639\n",
       "\\item -1.96517601546346\n",
       "\\item 0.524951207724874\n",
       "\\item -0.659111634603659\n",
       "\\item 0.678561932617671\n",
       "\\item 2.51109801607589\n",
       "\\item -2.24764600600406\n",
       "\\item -3.17098805350842\n",
       "\\item -2.24316875891815\n",
       "\\item -0.778413039475329\n",
       "\\item -2.6762668722653\n",
       "\\end{enumerate*}\n",
       "\n",
       "\\item[\\$P] \\begin{enumerate*}\n",
       "\\item 0.120988086038698\n",
       "\\item 0.452073719549973\n",
       "\\item 0.0874549335719325\n",
       "\\item 0.0254121744803183\n",
       "\\item 0.000861723134998751\n",
       "\\item 0.0246969344667562\n",
       "\\item 0.299808555064167\n",
       "\\item 0.254912042514123\n",
       "\\item 0.248707734910041\n",
       "\\item 0.00601781370301483\n",
       "\\item 0.0122993857487728\n",
       "\\item 0.000759606954291132\n",
       "\\item 0.0124429670355039\n",
       "\\item 0.218162777037658\n",
       "\\item 0.00372236693182796\n",
       "\\end{enumerate*}\n",
       "\n",
       "\\item[\\$P.adjusted] \\begin{enumerate*}\n",
       "\\item 1\n",
       "\\item 1\n",
       "\\item 1\n",
       "\\item 0.381182617204775\n",
       "\\item 0.0129258470249813\n",
       "\\item 0.370454017001343\n",
       "\\item 1\n",
       "\\item 1\n",
       "\\item 1\n",
       "\\item 0.0902672055452224\n",
       "\\item 0.184490786231592\n",
       "\\item 0.011394104314367\n",
       "\\item 0.186644505532558\n",
       "\\item 1\n",
       "\\item 0.0558355039774194\n",
       "\\end{enumerate*}\n",
       "\n",
       "\\item[\\$comparisons] \\begin{enumerate*}\n",
       "\\item 'Brain - Heart'\n",
       "\\item 'Brain - Liver'\n",
       "\\item 'Heart - Liver'\n",
       "\\item 'Brain - Prostate'\n",
       "\\item 'Heart - Prostate'\n",
       "\\item 'Liver - Prostate'\n",
       "\\item 'Brain - Spleen'\n",
       "\\item 'Heart - Spleen'\n",
       "\\item 'Liver - Spleen'\n",
       "\\item 'Prostate - Spleen'\n",
       "\\item 'Brain - Uterus'\n",
       "\\item 'Heart - Uterus'\n",
       "\\item 'Liver - Uterus'\n",
       "\\item 'Prostate - Uterus'\n",
       "\\item 'Spleen - Uterus'\n",
       "\\end{enumerate*}\n",
       "\n",
       "\\end{description}\n"
      ],
      "text/markdown": [
       "$chi2\n",
       ":   17.7653832142356\n",
       "$Z\n",
       ":   1. 1.17006162025229\n",
       "2. -0.120423799770111\n",
       "3. -1.35659520196331\n",
       "4. -1.95295988322833\n",
       "5. -3.13416379022639\n",
       "6. -1.96517601546346\n",
       "7. 0.524951207724874\n",
       "8. -0.659111634603659\n",
       "9. 0.678561932617671\n",
       "10. 2.51109801607589\n",
       "11. -2.24764600600406\n",
       "12. -3.17098805350842\n",
       "13. -2.24316875891815\n",
       "14. -0.778413039475329\n",
       "15. -2.6762668722653\n",
       "\n",
       "\n",
       "\n",
       "$P\n",
       ":   1. 0.120988086038698\n",
       "2. 0.452073719549973\n",
       "3. 0.0874549335719325\n",
       "4. 0.0254121744803183\n",
       "5. 0.000861723134998751\n",
       "6. 0.0246969344667562\n",
       "7. 0.299808555064167\n",
       "8. 0.254912042514123\n",
       "9. 0.248707734910041\n",
       "10. 0.00601781370301483\n",
       "11. 0.0122993857487728\n",
       "12. 0.000759606954291132\n",
       "13. 0.0124429670355039\n",
       "14. 0.218162777037658\n",
       "15. 0.00372236693182796\n",
       "\n",
       "\n",
       "\n",
       "$P.adjusted\n",
       ":   1. 1\n",
       "2. 1\n",
       "3. 1\n",
       "4. 0.381182617204775\n",
       "5. 0.0129258470249813\n",
       "6. 0.370454017001343\n",
       "7. 1\n",
       "8. 1\n",
       "9. 1\n",
       "10. 0.0902672055452224\n",
       "11. 0.184490786231592\n",
       "12. 0.011394104314367\n",
       "13. 0.186644505532558\n",
       "14. 1\n",
       "15. 0.0558355039774194\n",
       "\n",
       "\n",
       "\n",
       "$comparisons\n",
       ":   1. 'Brain - Heart'\n",
       "2. 'Brain - Liver'\n",
       "3. 'Heart - Liver'\n",
       "4. 'Brain - Prostate'\n",
       "5. 'Heart - Prostate'\n",
       "6. 'Liver - Prostate'\n",
       "7. 'Brain - Spleen'\n",
       "8. 'Heart - Spleen'\n",
       "9. 'Liver - Spleen'\n",
       "10. 'Prostate - Spleen'\n",
       "11. 'Brain - Uterus'\n",
       "12. 'Heart - Uterus'\n",
       "13. 'Liver - Uterus'\n",
       "14. 'Prostate - Uterus'\n",
       "15. 'Spleen - Uterus'\n",
       "\n",
       "\n",
       "\n",
       "\n",
       "\n"
      ],
      "text/plain": [
       "$chi2\n",
       "[1] 17.76538\n",
       "\n",
       "$Z\n",
       " [1]  1.1700616 -0.1204238 -1.3565952 -1.9529599 -3.1341638 -1.9651760\n",
       " [7]  0.5249512 -0.6591116  0.6785619  2.5110980 -2.2476460 -3.1709881\n",
       "[13] -2.2431688 -0.7784130 -2.6762669\n",
       "\n",
       "$P\n",
       " [1] 0.1209880860 0.4520737195 0.0874549336 0.0254121745 0.0008617231\n",
       " [6] 0.0246969345 0.2998085551 0.2549120425 0.2487077349 0.0060178137\n",
       "[11] 0.0122993857 0.0007596070 0.0124429670 0.2181627770 0.0037223669\n",
       "\n",
       "$P.adjusted\n",
       " [1] 1.00000000 1.00000000 1.00000000 0.38118262 0.01292585 0.37045402\n",
       " [7] 1.00000000 1.00000000 1.00000000 0.09026721 0.18449079 0.01139410\n",
       "[13] 0.18664451 1.00000000 0.05583550\n",
       "\n",
       "$comparisons\n",
       " [1] \"Brain - Heart\"     \"Brain - Liver\"     \"Heart - Liver\"    \n",
       " [4] \"Brain - Prostate\"  \"Heart - Prostate\"  \"Liver - Prostate\" \n",
       " [7] \"Brain - Spleen\"    \"Heart - Spleen\"    \"Liver - Spleen\"   \n",
       "[10] \"Prostate - Spleen\" \"Brain - Uterus\"    \"Heart - Uterus\"   \n",
       "[13] \"Liver - Uterus\"    \"Prostate - Uterus\" \"Spleen - Uterus\"  \n"
      ]
     },
     "metadata": {},
     "output_type": "display_data"
    }
   ],
   "source": [
    "#By Organ\n",
    "\n",
    "sha = estimate_richness(na.omit(Ita), split = TRUE, measures = \"Shannon\")\n",
    "sha$SampleID = rownames(sha)\n",
    "\n",
    "dfsha = merge(sha, sample_tab, on=\"SampleID\")\n",
    "\n",
    "ordsha = sha %>% group_by(\"Organ\") %>%\n",
    "    summarize(med.sha = median(Shannon)) %>%\n",
    "    arrange(desc(med.sha)) %>%\n",
    "    magrittr::extract2(\"Organ\")\n",
    "\n",
    "stats.sha = dfsha %>%\n",
    "    group_by(Organ) %>%\n",
    "    summarize(median = median(Shannon), \n",
    "              mean = mean(Shannon),\n",
    "              sd = sd(Shannon),\n",
    "              sem = sd(Shannon/sqrt(length(Shannon)))) #%>%\n",
    "    #arrange(-desc(mean))\n",
    "stats.sha\n",
    "\n",
    "#CHECK FOR SIGNIFICANCE\n",
    "stats.krusk = kruskal.test(Shannon~Organ, data=dfsha)\n",
    "stats.krusk\n",
    "\n",
    "#POST-HOC ANALYSIS\n",
    "dunn = dunn.test(dfsha$Shannon, g=dfsha$Organ, method=\"bonferroni\")\n",
    "dunn"
   ]
  },
  {
   "cell_type": "code",
   "execution_count": 7,
   "metadata": {},
   "outputs": [],
   "source": [
    "#Sort by SI\n",
    "\n",
    "avg <- aggregate(Shannon ~ Organ, data = dfsha, mean)\n",
    "dfsha$Organ <-factor(dfsha$Organ, levels=avg[order(avg$Shannon), \"Organ\"])"
   ]
  },
  {
   "cell_type": "code",
   "execution_count": 8,
   "metadata": {},
   "outputs": [
    {
     "name": "stderr",
     "output_type": "stream",
     "text": [
      "Loading required package: viridisLite\n"
     ]
    },
    {
     "data": {
      "text/html": [
       "<strong>png:</strong> 2"
      ],
      "text/latex": [
       "\\textbf{png:} 2"
      ],
      "text/markdown": [
       "**png:** 2"
      ],
      "text/plain": [
       "png \n",
       "  2 "
      ]
     },
     "metadata": {},
     "output_type": "display_data"
    },
    {
     "data": {
      "image/png": "[encoded data removed]",
      "text/plain": [
       "plot without title"
      ]
     },
     "metadata": {},
     "output_type": "display_data"
    }
   ],
   "source": [
    "library(viridis)\n",
    "p = ggplot(na.omit(dfsha), aes(x = Organ, y = Shannon)) + ggtitle(\"Italy - Organ by SI \\n 5krarefied\")\n",
    "\n",
    "p = p + geom_boxplot(lwd=2) + ylab(\"Shannon Index\")\n",
    "\n",
    "p = p + geom_point(size = 6,alpha=1,stroke=1, aes(shape = Organ),\n",
    "                   position = position_jitter(h = 0, w = 0.1)) +\n",
    "                  scale_shape_manual(values=c(15,12,17,3,6,1))\n",
    "\n",
    "p = p + theme_bw() + theme(text=element_text(size=12, color=\"black\",family=\"Times New Roman\"),\n",
    "                           legend.key = element_blank(),\n",
    "                           axis.text.x = element_text(angle = 45, hjust = 1),\n",
    "                           plot.title = element_text(hjust = 0.5),\n",
    "                           legend.position = \"bottom\",\n",
    "                           #axis.title.y=element_blank(),\n",
    "                           panel.grid.major = element_blank(),\n",
    "                           panel.grid.minor = element_blank())\n",
    "\n",
    "p\n",
    "png('Italy_organ_shannon.png', width=10, height=10, units='in', res=300)\n",
    "plot(p)\n",
    "dev.off()"
   ]
  },
  {
   "cell_type": "markdown",
   "metadata": {},
   "source": [
    "#### USA"
   ]
  },
  {
   "cell_type": "code",
   "execution_count": 9,
   "metadata": {
    "scrolled": true
   },
   "outputs": [
    {
     "data": {
      "text/html": [
       "<table>\n",
       "<thead><tr><th scope=col>Organ</th><th scope=col>median</th><th scope=col>mean</th><th scope=col>sd</th><th scope=col>sem</th></tr></thead>\n",
       "<tbody>\n",
       "\t<tr><td>Blood    </td><td>1.5348721</td><td>1.4131166</td><td>0.8290353</td><td>0.3384522</td></tr>\n",
       "\t<tr><td>Brain    </td><td>0.5784634</td><td>1.4018919</td><td>1.4121313</td><td>0.4707104</td></tr>\n",
       "\t<tr><td>Heart    </td><td>0.2407065</td><td>0.8770226</td><td>1.2865635</td><td>0.3879135</td></tr>\n",
       "\t<tr><td>Liver    </td><td>2.5265422</td><td>2.1959796</td><td>1.4476107</td><td>0.2111557</td></tr>\n",
       "\t<tr><td>Spleen   </td><td>0.4207718</td><td>0.9710586</td><td>0.9808713</td><td>0.3101787</td></tr>\n",
       "</tbody>\n",
       "</table>\n"
      ],
      "text/latex": [
       "\\begin{tabular}{r|lllll}\n",
       " Organ & median & mean & sd & sem\\\\\n",
       "\\hline\n",
       "\t Blood     & 1.5348721 & 1.4131166 & 0.8290353 & 0.3384522\\\\\n",
       "\t Brain     & 0.5784634 & 1.4018919 & 1.4121313 & 0.4707104\\\\\n",
       "\t Heart     & 0.2407065 & 0.8770226 & 1.2865635 & 0.3879135\\\\\n",
       "\t Liver     & 2.5265422 & 2.1959796 & 1.4476107 & 0.2111557\\\\\n",
       "\t Spleen    & 0.4207718 & 0.9710586 & 0.9808713 & 0.3101787\\\\\n",
       "\\end{tabular}\n"
      ],
      "text/markdown": [
       "\n",
       "| Organ | median | mean | sd | sem |\n",
       "|---|---|---|---|---|\n",
       "| Blood     | 1.5348721 | 1.4131166 | 0.8290353 | 0.3384522 |\n",
       "| Brain     | 0.5784634 | 1.4018919 | 1.4121313 | 0.4707104 |\n",
       "| Heart     | 0.2407065 | 0.8770226 | 1.2865635 | 0.3879135 |\n",
       "| Liver     | 2.5265422 | 2.1959796 | 1.4476107 | 0.2111557 |\n",
       "| Spleen    | 0.4207718 | 0.9710586 | 0.9808713 | 0.3101787 |\n",
       "\n"
      ],
      "text/plain": [
       "  Organ  median    mean      sd        sem      \n",
       "1 Blood  1.5348721 1.4131166 0.8290353 0.3384522\n",
       "2 Brain  0.5784634 1.4018919 1.4121313 0.4707104\n",
       "3 Heart  0.2407065 0.8770226 1.2865635 0.3879135\n",
       "4 Liver  2.5265422 2.1959796 1.4476107 0.2111557\n",
       "5 Spleen 0.4207718 0.9710586 0.9808713 0.3101787"
      ]
     },
     "metadata": {},
     "output_type": "display_data"
    },
    {
     "data": {
      "text/plain": [
       "\n",
       "\tKruskal-Wallis rank sum test\n",
       "\n",
       "data:  Shannon by Organ\n",
       "Kruskal-Wallis chi-squared = 11.375, df = 4, p-value = 0.02266\n"
      ]
     },
     "metadata": {},
     "output_type": "display_data"
    },
    {
     "name": "stdout",
     "output_type": "stream",
     "text": [
      "  Kruskal-Wallis rank sum test\n",
      "\n",
      "data: x and group\n",
      "Kruskal-Wallis chi-squared = 11.3746, df = 4, p-value = 0.02\n",
      "\n",
      "\n",
      "                           Comparison of x by group                            \n",
      "                                 (Bonferroni)                                  \n",
      "Col Mean-|\n",
      "Row Mean |      Blood      Brain      Heart      Liver\n",
      "---------+--------------------------------------------\n",
      "   Brain |   0.004373\n",
      "         |     1.0000\n",
      "         |\n",
      "   Heart |   0.779051   0.874545\n",
      "         |     1.0000     1.0000\n",
      "         |\n",
      "   Liver |  -1.173137  -1.404113  -2.698881\n",
      "         |     1.0000     0.8014     0.0348\n",
      "         |\n",
      "  Spleen |   0.559696   0.624028  -0.243419   2.290349\n",
      "         |     1.0000     1.0000     1.0000     0.1100\n",
      "\n",
      "alpha = 0.05\n",
      "Reject Ho if p <= alpha/2\n"
     ]
    },
    {
     "data": {
      "text/html": [
       "<dl>\n",
       "\t<dt>$chi2</dt>\n",
       "\t\t<dd>11.3746006222551</dd>\n",
       "\t<dt>$Z</dt>\n",
       "\t\t<dd><ol class=list-inline>\n",
       "\t<li>0.00437311279406945</li>\n",
       "\t<li>0.779051468940622</li>\n",
       "\t<li>0.87454503201481</li>\n",
       "\t<li>-1.17313724853527</li>\n",
       "\t<li>-1.40411310914607</li>\n",
       "\t<li>-2.69888178065943</li>\n",
       "\t<li>0.559696510254896</li>\n",
       "\t<li>0.624028267951077</li>\n",
       "\t<li>-0.243419324094181</li>\n",
       "\t<li>2.29034971044737</li>\n",
       "</ol>\n",
       "</dd>\n",
       "\t<dt>$P</dt>\n",
       "\t\t<dd><ol class=list-inline>\n",
       "\t<li>0.498255385970183</li>\n",
       "\t<li>0.217974698298922</li>\n",
       "\t<li>0.190910753803471</li>\n",
       "\t<li>0.120370385684959</li>\n",
       "\t<li>0.0801425852834342</li>\n",
       "\t<li>0.00347864430033871</li>\n",
       "\t<li>0.287843231542861</li>\n",
       "\t<li>0.266304510382919</li>\n",
       "\t<li>0.403840287734419</li>\n",
       "\t<li>0.0110005261436408</li>\n",
       "</ol>\n",
       "</dd>\n",
       "\t<dt>$P.adjusted</dt>\n",
       "\t\t<dd><ol class=list-inline>\n",
       "\t<li>1</li>\n",
       "\t<li>1</li>\n",
       "\t<li>1</li>\n",
       "\t<li>1</li>\n",
       "\t<li>0.801425852834342</li>\n",
       "\t<li>0.0347864430033871</li>\n",
       "\t<li>1</li>\n",
       "\t<li>1</li>\n",
       "\t<li>1</li>\n",
       "\t<li>0.110005261436408</li>\n",
       "</ol>\n",
       "</dd>\n",
       "\t<dt>$comparisons</dt>\n",
       "\t\t<dd><ol class=list-inline>\n",
       "\t<li>'Blood - Brain'</li>\n",
       "\t<li>'Blood - Heart'</li>\n",
       "\t<li>'Brain - Heart'</li>\n",
       "\t<li>'Blood - Liver'</li>\n",
       "\t<li>'Brain - Liver'</li>\n",
       "\t<li>'Heart - Liver'</li>\n",
       "\t<li>'Blood - Spleen'</li>\n",
       "\t<li>'Brain - Spleen'</li>\n",
       "\t<li>'Heart - Spleen'</li>\n",
       "\t<li>'Liver - Spleen'</li>\n",
       "</ol>\n",
       "</dd>\n",
       "</dl>\n"
      ],
      "text/latex": [
       "\\begin{description}\n",
       "\\item[\\$chi2] 11.3746006222551\n",
       "\\item[\\$Z] \\begin{enumerate*}\n",
       "\\item 0.00437311279406945\n",
       "\\item 0.779051468940622\n",
       "\\item 0.87454503201481\n",
       "\\item -1.17313724853527\n",
       "\\item -1.40411310914607\n",
       "\\item -2.69888178065943\n",
       "\\item 0.559696510254896\n",
       "\\item 0.624028267951077\n",
       "\\item -0.243419324094181\n",
       "\\item 2.29034971044737\n",
       "\\end{enumerate*}\n",
       "\n",
       "\\item[\\$P] \\begin{enumerate*}\n",
       "\\item 0.498255385970183\n",
       "\\item 0.217974698298922\n",
       "\\item 0.190910753803471\n",
       "\\item 0.120370385684959\n",
       "\\item 0.0801425852834342\n",
       "\\item 0.00347864430033871\n",
       "\\item 0.287843231542861\n",
       "\\item 0.266304510382919\n",
       "\\item 0.403840287734419\n",
       "\\item 0.0110005261436408\n",
       "\\end{enumerate*}\n",
       "\n",
       "\\item[\\$P.adjusted] \\begin{enumerate*}\n",
       "\\item 1\n",
       "\\item 1\n",
       "\\item 1\n",
       "\\item 1\n",
       "\\item 0.801425852834342\n",
       "\\item 0.0347864430033871\n",
       "\\item 1\n",
       "\\item 1\n",
       "\\item 1\n",
       "\\item 0.110005261436408\n",
       "\\end{enumerate*}\n",
       "\n",
       "\\item[\\$comparisons] \\begin{enumerate*}\n",
       "\\item 'Blood - Brain'\n",
       "\\item 'Blood - Heart'\n",
       "\\item 'Brain - Heart'\n",
       "\\item 'Blood - Liver'\n",
       "\\item 'Brain - Liver'\n",
       "\\item 'Heart - Liver'\n",
       "\\item 'Blood - Spleen'\n",
       "\\item 'Brain - Spleen'\n",
       "\\item 'Heart - Spleen'\n",
       "\\item 'Liver - Spleen'\n",
       "\\end{enumerate*}\n",
       "\n",
       "\\end{description}\n"
      ],
      "text/markdown": [
       "$chi2\n",
       ":   11.3746006222551\n",
       "$Z\n",
       ":   1. 0.00437311279406945\n",
       "2. 0.779051468940622\n",
       "3. 0.87454503201481\n",
       "4. -1.17313724853527\n",
       "5. -1.40411310914607\n",
       "6. -2.69888178065943\n",
       "7. 0.559696510254896\n",
       "8. 0.624028267951077\n",
       "9. -0.243419324094181\n",
       "10. 2.29034971044737\n",
       "\n",
       "\n",
       "\n",
       "$P\n",
       ":   1. 0.498255385970183\n",
       "2. 0.217974698298922\n",
       "3. 0.190910753803471\n",
       "4. 0.120370385684959\n",
       "5. 0.0801425852834342\n",
       "6. 0.00347864430033871\n",
       "7. 0.287843231542861\n",
       "8. 0.266304510382919\n",
       "9. 0.403840287734419\n",
       "10. 0.0110005261436408\n",
       "\n",
       "\n",
       "\n",
       "$P.adjusted\n",
       ":   1. 1\n",
       "2. 1\n",
       "3. 1\n",
       "4. 1\n",
       "5. 0.801425852834342\n",
       "6. 0.0347864430033871\n",
       "7. 1\n",
       "8. 1\n",
       "9. 1\n",
       "10. 0.110005261436408\n",
       "\n",
       "\n",
       "\n",
       "$comparisons\n",
       ":   1. 'Blood - Brain'\n",
       "2. 'Blood - Heart'\n",
       "3. 'Brain - Heart'\n",
       "4. 'Blood - Liver'\n",
       "5. 'Brain - Liver'\n",
       "6. 'Heart - Liver'\n",
       "7. 'Blood - Spleen'\n",
       "8. 'Brain - Spleen'\n",
       "9. 'Heart - Spleen'\n",
       "10. 'Liver - Spleen'\n",
       "\n",
       "\n",
       "\n",
       "\n",
       "\n"
      ],
      "text/plain": [
       "$chi2\n",
       "[1] 11.3746\n",
       "\n",
       "$Z\n",
       " [1]  0.004373113  0.779051469  0.874545032 -1.173137249 -1.404113109\n",
       " [6] -2.698881781  0.559696510  0.624028268 -0.243419324  2.290349710\n",
       "\n",
       "$P\n",
       " [1] 0.498255386 0.217974698 0.190910754 0.120370386 0.080142585 0.003478644\n",
       " [7] 0.287843232 0.266304510 0.403840288 0.011000526\n",
       "\n",
       "$P.adjusted\n",
       " [1] 1.00000000 1.00000000 1.00000000 1.00000000 0.80142585 0.03478644\n",
       " [7] 1.00000000 1.00000000 1.00000000 0.11000526\n",
       "\n",
       "$comparisons\n",
       " [1] \"Blood - Brain\"  \"Blood - Heart\"  \"Brain - Heart\"  \"Blood - Liver\" \n",
       " [5] \"Brain - Liver\"  \"Heart - Liver\"  \"Blood - Spleen\" \"Brain - Spleen\"\n",
       " [9] \"Heart - Spleen\" \"Liver - Spleen\"\n"
      ]
     },
     "metadata": {},
     "output_type": "display_data"
    }
   ],
   "source": [
    "#By Organ\n",
    "\n",
    "sha = estimate_richness(na.omit(USA), split = TRUE, measures = \"Shannon\")\n",
    "sha$SampleID = rownames(sha)\n",
    "\n",
    "dfsha = merge(sha, sample_tab, on=\"SampleID\")\n",
    "\n",
    "ordsha = sha %>% group_by(\"Organ\") %>%\n",
    "    summarize(med.sha = median(Shannon)) %>%\n",
    "    arrange(desc(med.sha)) %>%\n",
    "    magrittr::extract2(\"Organ\")\n",
    "\n",
    "stats.sha = dfsha %>%\n",
    "    group_by(Organ) %>%\n",
    "    summarize(median = median(Shannon), \n",
    "              mean = mean(Shannon),\n",
    "              sd = sd(Shannon),\n",
    "              sem = sd(Shannon/sqrt(length(Shannon)))) #%>%\n",
    "    #arrange(-desc(mean))\n",
    "stats.sha\n",
    "\n",
    "#CHECK FOR SIGNIFICANCE\n",
    "stats.krusk = kruskal.test(Shannon~Organ, data=dfsha)\n",
    "stats.krusk\n",
    "\n",
    "#POST-HOC ANALYSIS\n",
    "dunn = dunn.test(dfsha$Shannon, g=dfsha$Organ, method=\"bonferroni\")\n",
    "dunn"
   ]
  },
  {
   "cell_type": "code",
   "execution_count": 10,
   "metadata": {},
   "outputs": [],
   "source": [
    "#Sort by SI\n",
    "\n",
    "avg <- aggregate(Shannon ~ Organ, data = dfsha, mean)\n",
    "dfsha$Organ <-factor(dfsha$Organ, levels=avg[order(avg$Shannon), \"Organ\"])"
   ]
  },
  {
   "cell_type": "code",
   "execution_count": 11,
   "metadata": {},
   "outputs": [
    {
     "data": {
      "text/html": [
       "<strong>png:</strong> 2"
      ],
      "text/latex": [
       "\\textbf{png:} 2"
      ],
      "text/markdown": [
       "**png:** 2"
      ],
      "text/plain": [
       "png \n",
       "  2 "
      ]
     },
     "metadata": {},
     "output_type": "display_data"
    },
    {
     "data": {
      "image/png": "[encoded data removed]",
      "text/plain": [
       "plot without title"
      ]
     },
     "metadata": {},
     "output_type": "display_data"
    }
   ],
   "source": [
    "p = ggplot(na.omit(dfsha), aes(x = Organ, y = Shannon)) + ggtitle(\"USA - Organ by Observed Richness \\n 5k rarefied\")\n",
    "\n",
    "p = p + geom_boxplot(lwd=2) + ylab(\"Shannon Index\")\n",
    "\n",
    "p = p + geom_point(size = 6,alpha=1,stroke=1, aes(shape = Organ),\n",
    "                   position = position_jitter(h = 0, w = 0.1)) +\n",
    "                   scale_shape_manual(values = c(15,12,17,4,3))\n",
    "\n",
    "p = p + theme_bw() + theme(text=element_text(size=12, color=\"black\",family=\"Times New Roman\"),\n",
    "                           legend.key = element_blank(),\n",
    "                           axis.text.x = element_text(angle = 45, hjust = 1),\n",
    "                           plot.title = element_text(hjust = 0.5),\n",
    "                           legend.position = \"bottom\",\n",
    "                           #axis.title.y=element_blank(),\n",
    "                           panel.grid.major = element_blank(),\n",
    "                           panel.grid.minor = element_blank())\n",
    "\n",
    "p\n",
    "png('USA_organ_shannon.png', width=10, height=10, units='in', res=300)\n",
    "plot(p)\n",
    "dev.off()"
   ]
  },
  {
   "cell_type": "markdown",
   "metadata": {},
   "source": [
    "#### Liver Only (to inlude Finland)"
   ]
  },
  {
   "cell_type": "code",
   "execution_count": 47,
   "metadata": {},
   "outputs": [
    {
     "data": {
      "text/html": [
       "<table>\n",
       "<thead><tr><th scope=col>Location</th><th scope=col>median</th><th scope=col>mean</th><th scope=col>sd</th><th scope=col>sem</th></tr></thead>\n",
       "<tbody>\n",
       "\t<tr><td>Finland  </td><td>0.4045755</td><td>0.5607272</td><td>0.4701119</td><td>0.1051202</td></tr>\n",
       "\t<tr><td>Italy    </td><td>1.5694395</td><td>1.5815818</td><td>0.4797023</td><td>0.1330455</td></tr>\n",
       "\t<tr><td>USA      </td><td>2.5265422</td><td>2.1959796</td><td>1.4476107</td><td>0.2111557</td></tr>\n",
       "</tbody>\n",
       "</table>\n"
      ],
      "text/latex": [
       "\\begin{tabular}{r|lllll}\n",
       " Location & median & mean & sd & sem\\\\\n",
       "\\hline\n",
       "\t Finland   & 0.4045755 & 0.5607272 & 0.4701119 & 0.1051202\\\\\n",
       "\t Italy     & 1.5694395 & 1.5815818 & 0.4797023 & 0.1330455\\\\\n",
       "\t USA       & 2.5265422 & 2.1959796 & 1.4476107 & 0.2111557\\\\\n",
       "\\end{tabular}\n"
      ],
      "text/markdown": [
       "\n",
       "| Location | median | mean | sd | sem |\n",
       "|---|---|---|---|---|\n",
       "| Finland   | 0.4045755 | 0.5607272 | 0.4701119 | 0.1051202 |\n",
       "| Italy     | 1.5694395 | 1.5815818 | 0.4797023 | 0.1330455 |\n",
       "| USA       | 2.5265422 | 2.1959796 | 1.4476107 | 0.2111557 |\n",
       "\n"
      ],
      "text/plain": [
       "  Location median    mean      sd        sem      \n",
       "1 Finland  0.4045755 0.5607272 0.4701119 0.1051202\n",
       "2 Italy    1.5694395 1.5815818 0.4797023 0.1330455\n",
       "3 USA      2.5265422 2.1959796 1.4476107 0.2111557"
      ]
     },
     "metadata": {},
     "output_type": "display_data"
    },
    {
     "data": {
      "text/plain": [
       "\n",
       "\tKruskal-Wallis rank sum test\n",
       "\n",
       "data:  Shannon by Location\n",
       "Kruskal-Wallis chi-squared = 20.479, df = 2, p-value = 3.574e-05\n"
      ]
     },
     "metadata": {},
     "output_type": "display_data"
    },
    {
     "name": "stdout",
     "output_type": "stream",
     "text": [
      "  Kruskal-Wallis rank sum test\n",
      "\n",
      "data: x and group\n",
      "Kruskal-Wallis chi-squared = 20.4787, df = 2, p-value = 0\n",
      "\n",
      "\n",
      "                           Comparison of x by group                            \n",
      "                                 (Bonferroni)                                  \n",
      "Col Mean-|\n",
      "Row Mean |    Finland      Italy\n",
      "---------+----------------------\n",
      "   Italy |  -2.634162\n",
      "         |    0.0127*\n",
      "         |\n",
      "     USA |  -4.514946  -0.851816\n",
      "         |    0.0000*     0.5915\n",
      "\n",
      "alpha = 0.05\n",
      "Reject Ho if p <= alpha/2\n"
     ]
    },
    {
     "data": {
      "text/html": [
       "<dl>\n",
       "\t<dt>$chi2</dt>\n",
       "\t\t<dd>20.4786779414439</dd>\n",
       "\t<dt>$Z</dt>\n",
       "\t\t<dd><ol class=list-inline>\n",
       "\t<li>-2.63416233152234</li>\n",
       "\t<li>-4.5149469423558</li>\n",
       "\t<li>-0.851816600971602</li>\n",
       "</ol>\n",
       "</dd>\n",
       "\t<dt>$P</dt>\n",
       "\t\t<dd><ol class=list-inline>\n",
       "\t<li>0.00421725760033661</li>\n",
       "\t<li>3.1666310016905e-06</li>\n",
       "\t<li>0.197157945463708</li>\n",
       "</ol>\n",
       "</dd>\n",
       "\t<dt>$P.adjusted</dt>\n",
       "\t\t<dd><ol class=list-inline>\n",
       "\t<li>0.0126517728010098</li>\n",
       "\t<li>9.4998930050715e-06</li>\n",
       "\t<li>0.591473836391123</li>\n",
       "</ol>\n",
       "</dd>\n",
       "\t<dt>$comparisons</dt>\n",
       "\t\t<dd><ol class=list-inline>\n",
       "\t<li>'Finland - Italy'</li>\n",
       "\t<li>'Finland - USA'</li>\n",
       "\t<li>'Italy - USA'</li>\n",
       "</ol>\n",
       "</dd>\n",
       "</dl>\n"
      ],
      "text/latex": [
       "\\begin{description}\n",
       "\\item[\\$chi2] 20.4786779414439\n",
       "\\item[\\$Z] \\begin{enumerate*}\n",
       "\\item -2.63416233152234\n",
       "\\item -4.5149469423558\n",
       "\\item -0.851816600971602\n",
       "\\end{enumerate*}\n",
       "\n",
       "\\item[\\$P] \\begin{enumerate*}\n",
       "\\item 0.00421725760033661\n",
       "\\item 3.1666310016905e-06\n",
       "\\item 0.197157945463708\n",
       "\\end{enumerate*}\n",
       "\n",
       "\\item[\\$P.adjusted] \\begin{enumerate*}\n",
       "\\item 0.0126517728010098\n",
       "\\item 9.4998930050715e-06\n",
       "\\item 0.591473836391123\n",
       "\\end{enumerate*}\n",
       "\n",
       "\\item[\\$comparisons] \\begin{enumerate*}\n",
       "\\item 'Finland - Italy'\n",
       "\\item 'Finland - USA'\n",
       "\\item 'Italy - USA'\n",
       "\\end{enumerate*}\n",
       "\n",
       "\\end{description}\n"
      ],
      "text/markdown": [
       "$chi2\n",
       ":   20.4786779414439\n",
       "$Z\n",
       ":   1. -2.63416233152234\n",
       "2. -4.5149469423558\n",
       "3. -0.851816600971602\n",
       "\n",
       "\n",
       "\n",
       "$P\n",
       ":   1. 0.00421725760033661\n",
       "2. 3.1666310016905e-06\n",
       "3. 0.197157945463708\n",
       "\n",
       "\n",
       "\n",
       "$P.adjusted\n",
       ":   1. 0.0126517728010098\n",
       "2. 9.4998930050715e-06\n",
       "3. 0.591473836391123\n",
       "\n",
       "\n",
       "\n",
       "$comparisons\n",
       ":   1. 'Finland - Italy'\n",
       "2. 'Finland - USA'\n",
       "3. 'Italy - USA'\n",
       "\n",
       "\n",
       "\n",
       "\n",
       "\n"
      ],
      "text/plain": [
       "$chi2\n",
       "[1] 20.47868\n",
       "\n",
       "$Z\n",
       "[1] -2.6341623 -4.5149469 -0.8518166\n",
       "\n",
       "$P\n",
       "[1] 4.217258e-03 3.166631e-06 1.971579e-01\n",
       "\n",
       "$P.adjusted\n",
       "[1] 1.265177e-02 9.499893e-06 5.914738e-01\n",
       "\n",
       "$comparisons\n",
       "[1] \"Finland - Italy\" \"Finland - USA\"   \"Italy - USA\"    \n"
      ]
     },
     "metadata": {},
     "output_type": "display_data"
    }
   ],
   "source": [
    "#Liver only, all three locations (Finland, Italy, USA)\n",
    "\n",
    "sha = estimate_richness(na.omit(Liver), split = TRUE, measures = \"Shannon\")\n",
    "sha$SampleID = rownames(sha)\n",
    "\n",
    "dfsha = merge(sha, sample_tab, on=\"SampleID\")\n",
    "\n",
    "ordsha = sha %>% group_by(\"Location\") %>%\n",
    "    summarize(med.sha = median(Shannon)) %>%\n",
    "    arrange(desc(med.sha)) %>%\n",
    "    magrittr::extract2(\"Location\")\n",
    "\n",
    "stats.sha = dfsha %>%\n",
    "    group_by(Location) %>%\n",
    "    summarize(median = median(Shannon), \n",
    "              mean = mean(Shannon),\n",
    "              sd = sd(Shannon),\n",
    "              sem = sd(Shannon/sqrt(length(Shannon)))) #%>%\n",
    "    #arrange(-desc(mean))\n",
    "stats.sha\n",
    "\n",
    "#CHECK FOR SIGNIFICANCE\n",
    "stats.krusk = kruskal.test(Shannon~Location, data=dfsha)\n",
    "stats.krusk\n",
    "\n",
    "#POST-HOC ANALYSIS\n",
    "dunn = dunn.test(dfsha$Shannon, g=dfsha$Location, method=\"bonferroni\")\n",
    "dunn"
   ]
  },
  {
   "cell_type": "code",
   "execution_count": 48,
   "metadata": {},
   "outputs": [],
   "source": [
    "#Sort by SI\n",
    "\n",
    "avg <- aggregate(Shannon ~ Location, data = dfsha, mean)\n",
    "dfsha$Location <-factor(dfsha$Location, levels=avg[order(avg$Shannon), \"Location\"])"
   ]
  },
  {
   "cell_type": "code",
   "execution_count": 50,
   "metadata": {},
   "outputs": [
    {
     "data": {
      "text/html": [
       "<strong>png:</strong> 2"
      ],
      "text/latex": [
       "\\textbf{png:} 2"
      ],
      "text/markdown": [
       "**png:** 2"
      ],
      "text/plain": [
       "png \n",
       "  2 "
      ]
     },
     "metadata": {},
     "output_type": "display_data"
    },
    {
     "data": {
      "image/png": "[encoded data removed]",
      "text/plain": [
       "plot without title"
      ]
     },
     "metadata": {},
     "output_type": "display_data"
    }
   ],
   "source": [
    "p = ggplot(na.omit(dfsha), aes(x = Location, y = Shannon)) + ggtitle(\"All Location - Liver by SI \\n 5k rarefied\")\n",
    "\n",
    "p = p + geom_boxplot(lwd=2) + ylab(\"Shannon Index\")\n",
    "\n",
    "p = p + geom_point(size = 6,alpha=1,stroke=1, aes(shape = Organ),\n",
    "                   position = position_jitter(h = 0, w = 0.1)) +\n",
    "                   scale_shape_manual(values = c(3))\n",
    "                                                \n",
    "\n",
    "p = p + theme_bw() + theme(text=element_text(size=12, color=\"black\",family=\"Times New Roman\"),\n",
    "                           legend.key = element_blank(),\n",
    "                           axis.text.x = element_text(angle = 45, hjust = 1),\n",
    "                           plot.title = element_text(hjust = 0.5),\n",
    "                           legend.position = \"bottom\",\n",
    "                           #axis.title.y=element_blank(),\n",
    "                           panel.grid.major = element_blank(),\n",
    "                           panel.grid.minor = element_blank())\n",
    "\n",
    "p\n",
    "png('All_liver_shannon.png', width=7.5, height=10, units='in', res=300)\n",
    "plot(p)\n",
    "dev.off()"
   ]
  },
  {
   "cell_type": "markdown",
   "metadata": {},
   "source": [
    "### Rank Abundance and subsequent statistical analyses"
   ]
  },
  {
   "cell_type": "code",
   "execution_count": 23,
   "metadata": {
    "collapsed": true
   },
   "outputs": [
    {
     "data": {
      "text/html": [
       "<table>\n",
       "<thead><tr><th scope=col>X</th><th scope=col>OTU</th><th scope=col>Sample</th><th scope=col>Abundance</th><th scope=col>X.SampleID</th><th scope=col>BarcodeSequence</th><th scope=col>LinkerPrimerSequence</th><th scope=col>RTL_run</th><th scope=col>Case_no</th><th scope=col>Sex</th><th scope=col>...</th><th scope=col>bmi</th><th scope=col>bmi_category</th><th scope=col>Description</th><th scope=col>Rank1</th><th scope=col>Rank2</th><th scope=col>Rank3</th><th scope=col>Rank4</th><th scope=col>Rank5</th><th scope=col>Rank6</th><th scope=col>Rank7</th></tr></thead>\n",
       "<tbody>\n",
       "\t<tr><td>301828                                                                                                                                                </td><td>TACGTAGGGGGCTAGCGTTATCCGGAATTACTGGGCGTAAAGGGTGCGTAGGCGGTCTTTCAAGCCAGAAGTGAAAGGCTACGGCTCAACCGTAGTAAGCTTTTGGAACTGTAGGACTTGAGTGCAGGAGAGGAGAGTGGAATTCCTAGT</td><td>4522.C1Liver                                                                                                                                          </td><td>0.9991667                                                                                                                                             </td><td>4522.C1Liver                                                                                                                                          </td><td>AAAACAAC                                                                                                                                              </td><td>GTGCCAGCMGCCGCGGTAA                                                                                                                                   </td><td>4522                                                                                                                                                  </td><td>C1                                                                                                                                                    </td><td>M                                                                                                                                                     </td><td>...                                                                                                                                                   </td><td>25.31                                                                                                                                                 </td><td>overweight                                                                                                                                            </td><td>4522.C1_Liver                                                                                                                                         </td><td>k__Bacteria                                                                                                                                           </td><td>p__Firmicutes                                                                                                                                         </td><td>c__Clostridia                                                                                                                                         </td><td>o__Clostridiales                                                                                                                                      </td><td>f__Peptostreptococcaceae                                                                                                                              </td><td>g__                                                                                                                                                   </td><td>s__                                                                                                                                                   </td></tr>\n",
       "\t<tr><td>156553                                                                                                                                                </td><td>TACGGAGGGTGCAAGCGTTAATCGGAATTACTGGGCGTAAAGCGCACGCAGGCGGTTTGTTAAGTCAGATGTGAAATCCCCGCGCTTAACGTGGGAACTGCATTTGAAACTGGCAAGCTAGAGTCTTGTAGAGGGGGGTAGAATTCCAGG</td><td>4885.44Liver                                                                                                                                          </td><td>0.9991332                                                                                                                                             </td><td>4885.44Liver                                                                                                                                          </td><td>AAAACAGA                                                                                                                                              </td><td>GTGCCAGCMGCCGCGGTAA                                                                                                                                   </td><td>4885                                                                                                                                                  </td><td>L630                                                                                                                                                  </td><td>F                                                                                                                                                     </td><td>...                                                                                                                                                   </td><td>45.90                                                                                                                                                 </td><td>obese                                                                                                                                                 </td><td>4885.44_Liver                                                                                                                                         </td><td>k__Bacteria                                                                                                                                           </td><td>p__Proteobacteria                                                                                                                                     </td><td>c__Gammaproteobacteria                                                                                                                                </td><td>o__Enterobacteriales                                                                                                                                  </td><td>f__Enterobacteriaceae                                                                                                                                 </td><td>g__                                                                                                                                                   </td><td>s__                                                                                                                                                   </td></tr>\n",
       "\t<tr><td> 31705                                                                                                                                                </td><td>TACAGAGGGTGCAAGCGTTAATCGGAATTACTGGGCGTAAAGCGCGCGTAGGTGGTTTGTTAAGTTGGATGTGAAATCCCCGGGCTCAACCTGGGAACTGCATTCAAAACTGACTGACTAGAGTATGGTAGAGGGTGGTGGAATTTCCTG</td><td>3813.35Heart                                                                                                                                          </td><td>0.9986475                                                                                                                                             </td><td>3813.35Heart                                                                                                                                          </td><td>AAAACCTA                                                                                                                                              </td><td>GTGCCAGCMGCCGCGGTAA                                                                                                                                   </td><td>35                                                                                                                                                    </td><td>C38                                                                                                                                                   </td><td>F                                                                                                                                                     </td><td>...                                                                                                                                                   </td><td>15.85                                                                                                                                                 </td><td>underweight                                                                                                                                           </td><td>3813.35_Heart                                                                                                                                         </td><td>k__Bacteria                                                                                                                                           </td><td>p__Proteobacteria                                                                                                                                     </td><td>c__Gammaproteobacteria                                                                                                                                </td><td>o__Pseudomonadales                                                                                                                                    </td><td>f__Pseudomonadaceae                                                                                                                                   </td><td>g__Pseudomonas                                                                                                                                        </td><td>s__                                                                                                                                                   </td></tr>\n",
       "\t<tr><td> 31867                                                                                                                                                </td><td>TACAGAGGGTGCAAGCGTTAATCGGAATTACTGGGCGTAAAGCGCGCGTAGGTGGTTTGTTAAGTTGGATGTGAAATCCCCGGGCTCAACCTGGGAACTGCATTCAAAACTGACTGACTAGAGTATGGTAGAGGGTGGTGGAATTTCCTG</td><td>3813.34Brain                                                                                                                                          </td><td>0.9985421                                                                                                                                             </td><td>3813.34Brain                                                                                                                                          </td><td>AAAACCGT                                                                                                                                              </td><td>GTGCCAGCMGCCGCGGTAA                                                                                                                                   </td><td>34                                                                                                                                                    </td><td>C38                                                                                                                                                   </td><td>F                                                                                                                                                     </td><td>...                                                                                                                                                   </td><td>15.85                                                                                                                                                 </td><td>underweight                                                                                                                                           </td><td>3813.34_Brain                                                                                                                                         </td><td>k__Bacteria                                                                                                                                           </td><td>p__Proteobacteria                                                                                                                                     </td><td>c__Gammaproteobacteria                                                                                                                                </td><td>o__Pseudomonadales                                                                                                                                    </td><td>f__Pseudomonadaceae                                                                                                                                   </td><td>g__Pseudomonas                                                                                                                                        </td><td>s__                                                                                                                                                   </td></tr>\n",
       "\t<tr><td>367357                                                                                                                                                </td><td>TACGTAGGTGGCAAGCGTTATCCGGAATTATTGGGCGTAAAGCGCGCGTAGGCGGTTTTTTAAGTCTGATGTGAAAGCCCACGGCTCAACCGTGGAGGGTCATTGGAAACTGGAAAACTTGAGTGCAGAAGAGGAAAGTGGAATTCCATG</td><td>4885.5Liver                                                                                                                                           </td><td>0.9983525                                                                                                                                             </td><td>4885.5Liver                                                                                                                                           </td><td>AAAACATG                                                                                                                                              </td><td>GTGCCAGCMGCCGCGGTAA                                                                                                                                   </td><td>4885                                                                                                                                                  </td><td>L641                                                                                                                                                  </td><td>M                                                                                                                                                     </td><td>...                                                                                                                                                   </td><td>28.65                                                                                                                                                 </td><td>overweight                                                                                                                                            </td><td>4885.5_Liver                                                                                                                                          </td><td>k__Bacteria                                                                                                                                           </td><td>p__Firmicutes                                                                                                                                         </td><td>c__Bacilli                                                                                                                                            </td><td>o__Bacillales                                                                                                                                         </td><td>f__Staphylococcaceae                                                                                                                                  </td><td>g__Staphylococcus                                                                                                                                     </td><td>s__                                                                                                                                                   </td></tr>\n",
       "\t<tr><td>301887                                                                                                                                                </td><td>TACGTAGGGGGCTAGCGTTATCCGGAATTACTGGGCGTAAAGGGTGCGTAGGCGGTCTTTCAAGCCAGAAGTGAAAGGCTACGGCTCAACCGTAGTAAGCTTTTGGAACTGTAGGACTTGAGTGCAGGAGAGGAGAGTGGAATTCCTAGT</td><td>3813.27Spleen                                                                                                                                         </td><td>0.9975804                                                                                                                                             </td><td>3813.27Spleen                                                                                                                                         </td><td>AAAACCAT                                                                                                                                              </td><td>GTGCCAGCMGCCGCGGTAA                                                                                                                                   </td><td>27                                                                                                                                                    </td><td>C29                                                                                                                                                   </td><td>M                                                                                                                                                     </td><td>...                                                                                                                                                   </td><td>24.78                                                                                                                                                 </td><td>normal                                                                                                                                                </td><td>3813.27_Spleen                                                                                                                                        </td><td>k__Bacteria                                                                                                                                           </td><td>p__Firmicutes                                                                                                                                         </td><td>c__Clostridia                                                                                                                                         </td><td>o__Clostridiales                                                                                                                                      </td><td>f__Peptostreptococcaceae                                                                                                                              </td><td>g__                                                                                                                                                   </td><td>s__                                                                                                                                                   </td></tr>\n",
       "</tbody>\n",
       "</table>\n"
      ],
      "text/latex": [
       "\\begin{tabular}{r|llllllllllllllllllllllllllllllll}\n",
       " X & OTU & Sample & Abundance & X.SampleID & BarcodeSequence & LinkerPrimerSequence & RTL\\_run & Case\\_no & Sex & ... & bmi & bmi\\_category & Description & Rank1 & Rank2 & Rank3 & Rank4 & Rank5 & Rank6 & Rank7\\\\\n",
       "\\hline\n",
       "\t 301828                                                                                                                                                 & TACGTAGGGGGCTAGCGTTATCCGGAATTACTGGGCGTAAAGGGTGCGTAGGCGGTCTTTCAAGCCAGAAGTGAAAGGCTACGGCTCAACCGTAGTAAGCTTTTGGAACTGTAGGACTTGAGTGCAGGAGAGGAGAGTGGAATTCCTAGT & 4522.C1Liver                                                                                                                                           & 0.9991667                                                                                                                                              & 4522.C1Liver                                                                                                                                           & AAAACAAC                                                                                                                                               & GTGCCAGCMGCCGCGGTAA                                                                                                                                    & 4522                                                                                                                                                   & C1                                                                                                                                                     & M                                                                                                                                                      & ...                                                                                                                                                    & 25.31                                                                                                                                                  & overweight                                                                                                                                             & 4522.C1\\_Liver                                                                                                                                        & k\\_\\_Bacteria                                                                                                                                        & p\\_\\_Firmicutes                                                                                                                                      & c\\_\\_Clostridia                                                                                                                                      & o\\_\\_Clostridiales                                                                                                                                   & f\\_\\_Peptostreptococcaceae                                                                                                                           & g\\_\\_                                                                                                                                                & s\\_\\_                                                                                                                                               \\\\\n",
       "\t 156553                                                                                                                                                 & TACGGAGGGTGCAAGCGTTAATCGGAATTACTGGGCGTAAAGCGCACGCAGGCGGTTTGTTAAGTCAGATGTGAAATCCCCGCGCTTAACGTGGGAACTGCATTTGAAACTGGCAAGCTAGAGTCTTGTAGAGGGGGGTAGAATTCCAGG & 4885.44Liver                                                                                                                                           & 0.9991332                                                                                                                                              & 4885.44Liver                                                                                                                                           & AAAACAGA                                                                                                                                               & GTGCCAGCMGCCGCGGTAA                                                                                                                                    & 4885                                                                                                                                                   & L630                                                                                                                                                   & F                                                                                                                                                      & ...                                                                                                                                                    & 45.90                                                                                                                                                  & obese                                                                                                                                                  & 4885.44\\_Liver                                                                                                                                        & k\\_\\_Bacteria                                                                                                                                        & p\\_\\_Proteobacteria                                                                                                                                  & c\\_\\_Gammaproteobacteria                                                                                                                             & o\\_\\_Enterobacteriales                                                                                                                               & f\\_\\_Enterobacteriaceae                                                                                                                              & g\\_\\_                                                                                                                                                & s\\_\\_                                                                                                                                               \\\\\n",
       "\t  31705                                                                                                                                                 & TACAGAGGGTGCAAGCGTTAATCGGAATTACTGGGCGTAAAGCGCGCGTAGGTGGTTTGTTAAGTTGGATGTGAAATCCCCGGGCTCAACCTGGGAACTGCATTCAAAACTGACTGACTAGAGTATGGTAGAGGGTGGTGGAATTTCCTG & 3813.35Heart                                                                                                                                           & 0.9986475                                                                                                                                              & 3813.35Heart                                                                                                                                           & AAAACCTA                                                                                                                                               & GTGCCAGCMGCCGCGGTAA                                                                                                                                    & 35                                                                                                                                                     & C38                                                                                                                                                    & F                                                                                                                                                      & ...                                                                                                                                                    & 15.85                                                                                                                                                  & underweight                                                                                                                                            & 3813.35\\_Heart                                                                                                                                        & k\\_\\_Bacteria                                                                                                                                        & p\\_\\_Proteobacteria                                                                                                                                  & c\\_\\_Gammaproteobacteria                                                                                                                             & o\\_\\_Pseudomonadales                                                                                                                                 & f\\_\\_Pseudomonadaceae                                                                                                                                & g\\_\\_Pseudomonas                                                                                                                                     & s\\_\\_                                                                                                                                               \\\\\n",
       "\t  31867                                                                                                                                                 & TACAGAGGGTGCAAGCGTTAATCGGAATTACTGGGCGTAAAGCGCGCGTAGGTGGTTTGTTAAGTTGGATGTGAAATCCCCGGGCTCAACCTGGGAACTGCATTCAAAACTGACTGACTAGAGTATGGTAGAGGGTGGTGGAATTTCCTG & 3813.34Brain                                                                                                                                           & 0.9985421                                                                                                                                              & 3813.34Brain                                                                                                                                           & AAAACCGT                                                                                                                                               & GTGCCAGCMGCCGCGGTAA                                                                                                                                    & 34                                                                                                                                                     & C38                                                                                                                                                    & F                                                                                                                                                      & ...                                                                                                                                                    & 15.85                                                                                                                                                  & underweight                                                                                                                                            & 3813.34\\_Brain                                                                                                                                        & k\\_\\_Bacteria                                                                                                                                        & p\\_\\_Proteobacteria                                                                                                                                  & c\\_\\_Gammaproteobacteria                                                                                                                             & o\\_\\_Pseudomonadales                                                                                                                                 & f\\_\\_Pseudomonadaceae                                                                                                                                & g\\_\\_Pseudomonas                                                                                                                                     & s\\_\\_                                                                                                                                               \\\\\n",
       "\t 367357                                                                                                                                                 & TACGTAGGTGGCAAGCGTTATCCGGAATTATTGGGCGTAAAGCGCGCGTAGGCGGTTTTTTAAGTCTGATGTGAAAGCCCACGGCTCAACCGTGGAGGGTCATTGGAAACTGGAAAACTTGAGTGCAGAAGAGGAAAGTGGAATTCCATG & 4885.5Liver                                                                                                                                            & 0.9983525                                                                                                                                              & 4885.5Liver                                                                                                                                            & AAAACATG                                                                                                                                               & GTGCCAGCMGCCGCGGTAA                                                                                                                                    & 4885                                                                                                                                                   & L641                                                                                                                                                   & M                                                                                                                                                      & ...                                                                                                                                                    & 28.65                                                                                                                                                  & overweight                                                                                                                                             & 4885.5\\_Liver                                                                                                                                         & k\\_\\_Bacteria                                                                                                                                        & p\\_\\_Firmicutes                                                                                                                                      & c\\_\\_Bacilli                                                                                                                                         & o\\_\\_Bacillales                                                                                                                                      & f\\_\\_Staphylococcaceae                                                                                                                               & g\\_\\_Staphylococcus                                                                                                                                  & s\\_\\_                                                                                                                                               \\\\\n",
       "\t 301887                                                                                                                                                 & TACGTAGGGGGCTAGCGTTATCCGGAATTACTGGGCGTAAAGGGTGCGTAGGCGGTCTTTCAAGCCAGAAGTGAAAGGCTACGGCTCAACCGTAGTAAGCTTTTGGAACTGTAGGACTTGAGTGCAGGAGAGGAGAGTGGAATTCCTAGT & 3813.27Spleen                                                                                                                                          & 0.9975804                                                                                                                                              & 3813.27Spleen                                                                                                                                          & AAAACCAT                                                                                                                                               & GTGCCAGCMGCCGCGGTAA                                                                                                                                    & 27                                                                                                                                                     & C29                                                                                                                                                    & M                                                                                                                                                      & ...                                                                                                                                                    & 24.78                                                                                                                                                  & normal                                                                                                                                                 & 3813.27\\_Spleen                                                                                                                                       & k\\_\\_Bacteria                                                                                                                                        & p\\_\\_Firmicutes                                                                                                                                      & c\\_\\_Clostridia                                                                                                                                      & o\\_\\_Clostridiales                                                                                                                                   & f\\_\\_Peptostreptococcaceae                                                                                                                           & g\\_\\_                                                                                                                                                & s\\_\\_                                                                                                                                               \\\\\n",
       "\\end{tabular}\n"
      ],
      "text/markdown": [
       "\n",
       "| X | OTU | Sample | Abundance | X.SampleID | BarcodeSequence | LinkerPrimerSequence | RTL_run | Case_no | Sex | ... | bmi | bmi_category | Description | Rank1 | Rank2 | Rank3 | Rank4 | Rank5 | Rank6 | Rank7 |\n",
       "|---|---|---|---|---|---|---|---|---|---|---|---|---|---|---|---|---|---|---|---|---|\n",
       "| 301828                                                                                                                                                 | TACGTAGGGGGCTAGCGTTATCCGGAATTACTGGGCGTAAAGGGTGCGTAGGCGGTCTTTCAAGCCAGAAGTGAAAGGCTACGGCTCAACCGTAGTAAGCTTTTGGAACTGTAGGACTTGAGTGCAGGAGAGGAGAGTGGAATTCCTAGT | 4522.C1Liver                                                                                                                                           | 0.9991667                                                                                                                                              | 4522.C1Liver                                                                                                                                           | AAAACAAC                                                                                                                                               | GTGCCAGCMGCCGCGGTAA                                                                                                                                    | 4522                                                                                                                                                   | C1                                                                                                                                                     | M                                                                                                                                                      | ...                                                                                                                                                    | 25.31                                                                                                                                                  | overweight                                                                                                                                             | 4522.C1_Liver                                                                                                                                          | k__Bacteria                                                                                                                                            | p__Firmicutes                                                                                                                                          | c__Clostridia                                                                                                                                          | o__Clostridiales                                                                                                                                       | f__Peptostreptococcaceae                                                                                                                               | g__                                                                                                                                                    | s__                                                                                                                                                    |\n",
       "| 156553                                                                                                                                                 | TACGGAGGGTGCAAGCGTTAATCGGAATTACTGGGCGTAAAGCGCACGCAGGCGGTTTGTTAAGTCAGATGTGAAATCCCCGCGCTTAACGTGGGAACTGCATTTGAAACTGGCAAGCTAGAGTCTTGTAGAGGGGGGTAGAATTCCAGG | 4885.44Liver                                                                                                                                           | 0.9991332                                                                                                                                              | 4885.44Liver                                                                                                                                           | AAAACAGA                                                                                                                                               | GTGCCAGCMGCCGCGGTAA                                                                                                                                    | 4885                                                                                                                                                   | L630                                                                                                                                                   | F                                                                                                                                                      | ...                                                                                                                                                    | 45.90                                                                                                                                                  | obese                                                                                                                                                  | 4885.44_Liver                                                                                                                                          | k__Bacteria                                                                                                                                            | p__Proteobacteria                                                                                                                                      | c__Gammaproteobacteria                                                                                                                                 | o__Enterobacteriales                                                                                                                                   | f__Enterobacteriaceae                                                                                                                                  | g__                                                                                                                                                    | s__                                                                                                                                                    |\n",
       "|  31705                                                                                                                                                 | TACAGAGGGTGCAAGCGTTAATCGGAATTACTGGGCGTAAAGCGCGCGTAGGTGGTTTGTTAAGTTGGATGTGAAATCCCCGGGCTCAACCTGGGAACTGCATTCAAAACTGACTGACTAGAGTATGGTAGAGGGTGGTGGAATTTCCTG | 3813.35Heart                                                                                                                                           | 0.9986475                                                                                                                                              | 3813.35Heart                                                                                                                                           | AAAACCTA                                                                                                                                               | GTGCCAGCMGCCGCGGTAA                                                                                                                                    | 35                                                                                                                                                     | C38                                                                                                                                                    | F                                                                                                                                                      | ...                                                                                                                                                    | 15.85                                                                                                                                                  | underweight                                                                                                                                            | 3813.35_Heart                                                                                                                                          | k__Bacteria                                                                                                                                            | p__Proteobacteria                                                                                                                                      | c__Gammaproteobacteria                                                                                                                                 | o__Pseudomonadales                                                                                                                                     | f__Pseudomonadaceae                                                                                                                                    | g__Pseudomonas                                                                                                                                         | s__                                                                                                                                                    |\n",
       "|  31867                                                                                                                                                 | TACAGAGGGTGCAAGCGTTAATCGGAATTACTGGGCGTAAAGCGCGCGTAGGTGGTTTGTTAAGTTGGATGTGAAATCCCCGGGCTCAACCTGGGAACTGCATTCAAAACTGACTGACTAGAGTATGGTAGAGGGTGGTGGAATTTCCTG | 3813.34Brain                                                                                                                                           | 0.9985421                                                                                                                                              | 3813.34Brain                                                                                                                                           | AAAACCGT                                                                                                                                               | GTGCCAGCMGCCGCGGTAA                                                                                                                                    | 34                                                                                                                                                     | C38                                                                                                                                                    | F                                                                                                                                                      | ...                                                                                                                                                    | 15.85                                                                                                                                                  | underweight                                                                                                                                            | 3813.34_Brain                                                                                                                                          | k__Bacteria                                                                                                                                            | p__Proteobacteria                                                                                                                                      | c__Gammaproteobacteria                                                                                                                                 | o__Pseudomonadales                                                                                                                                     | f__Pseudomonadaceae                                                                                                                                    | g__Pseudomonas                                                                                                                                         | s__                                                                                                                                                    |\n",
       "| 367357                                                                                                                                                 | TACGTAGGTGGCAAGCGTTATCCGGAATTATTGGGCGTAAAGCGCGCGTAGGCGGTTTTTTAAGTCTGATGTGAAAGCCCACGGCTCAACCGTGGAGGGTCATTGGAAACTGGAAAACTTGAGTGCAGAAGAGGAAAGTGGAATTCCATG | 4885.5Liver                                                                                                                                            | 0.9983525                                                                                                                                              | 4885.5Liver                                                                                                                                            | AAAACATG                                                                                                                                               | GTGCCAGCMGCCGCGGTAA                                                                                                                                    | 4885                                                                                                                                                   | L641                                                                                                                                                   | M                                                                                                                                                      | ...                                                                                                                                                    | 28.65                                                                                                                                                  | overweight                                                                                                                                             | 4885.5_Liver                                                                                                                                           | k__Bacteria                                                                                                                                            | p__Firmicutes                                                                                                                                          | c__Bacilli                                                                                                                                             | o__Bacillales                                                                                                                                          | f__Staphylococcaceae                                                                                                                                   | g__Staphylococcus                                                                                                                                      | s__                                                                                                                                                    |\n",
       "| 301887                                                                                                                                                 | TACGTAGGGGGCTAGCGTTATCCGGAATTACTGGGCGTAAAGGGTGCGTAGGCGGTCTTTCAAGCCAGAAGTGAAAGGCTACGGCTCAACCGTAGTAAGCTTTTGGAACTGTAGGACTTGAGTGCAGGAGAGGAGAGTGGAATTCCTAGT | 3813.27Spleen                                                                                                                                          | 0.9975804                                                                                                                                              | 3813.27Spleen                                                                                                                                          | AAAACCAT                                                                                                                                               | GTGCCAGCMGCCGCGGTAA                                                                                                                                    | 27                                                                                                                                                     | C29                                                                                                                                                    | M                                                                                                                                                      | ...                                                                                                                                                    | 24.78                                                                                                                                                  | normal                                                                                                                                                 | 3813.27_Spleen                                                                                                                                         | k__Bacteria                                                                                                                                            | p__Firmicutes                                                                                                                                          | c__Clostridia                                                                                                                                          | o__Clostridiales                                                                                                                                       | f__Peptostreptococcaceae                                                                                                                               | g__                                                                                                                                                    | s__                                                                                                                                                    |\n",
       "\n"
      ],
      "text/plain": [
       "  X     \n",
       "1 301828\n",
       "2 156553\n",
       "3  31705\n",
       "4  31867\n",
       "5 367357\n",
       "6 301887\n",
       "  OTU                                                                                                                                                   \n",
       "1 TACGTAGGGGGCTAGCGTTATCCGGAATTACTGGGCGTAAAGGGTGCGTAGGCGGTCTTTCAAGCCAGAAGTGAAAGGCTACGGCTCAACCGTAGTAAGCTTTTGGAACTGTAGGACTTGAGTGCAGGAGAGGAGAGTGGAATTCCTAGT\n",
       "2 TACGGAGGGTGCAAGCGTTAATCGGAATTACTGGGCGTAAAGCGCACGCAGGCGGTTTGTTAAGTCAGATGTGAAATCCCCGCGCTTAACGTGGGAACTGCATTTGAAACTGGCAAGCTAGAGTCTTGTAGAGGGGGGTAGAATTCCAGG\n",
       "3 TACAGAGGGTGCAAGCGTTAATCGGAATTACTGGGCGTAAAGCGCGCGTAGGTGGTTTGTTAAGTTGGATGTGAAATCCCCGGGCTCAACCTGGGAACTGCATTCAAAACTGACTGACTAGAGTATGGTAGAGGGTGGTGGAATTTCCTG\n",
       "4 TACAGAGGGTGCAAGCGTTAATCGGAATTACTGGGCGTAAAGCGCGCGTAGGTGGTTTGTTAAGTTGGATGTGAAATCCCCGGGCTCAACCTGGGAACTGCATTCAAAACTGACTGACTAGAGTATGGTAGAGGGTGGTGGAATTTCCTG\n",
       "5 TACGTAGGTGGCAAGCGTTATCCGGAATTATTGGGCGTAAAGCGCGCGTAGGCGGTTTTTTAAGTCTGATGTGAAAGCCCACGGCTCAACCGTGGAGGGTCATTGGAAACTGGAAAACTTGAGTGCAGAAGAGGAAAGTGGAATTCCATG\n",
       "6 TACGTAGGGGGCTAGCGTTATCCGGAATTACTGGGCGTAAAGGGTGCGTAGGCGGTCTTTCAAGCCAGAAGTGAAAGGCTACGGCTCAACCGTAGTAAGCTTTTGGAACTGTAGGACTTGAGTGCAGGAGAGGAGAGTGGAATTCCTAGT\n",
       "  Sample        Abundance X.SampleID    BarcodeSequence LinkerPrimerSequence\n",
       "1 4522.C1Liver  0.9991667 4522.C1Liver  AAAACAAC        GTGCCAGCMGCCGCGGTAA \n",
       "2 4885.44Liver  0.9991332 4885.44Liver  AAAACAGA        GTGCCAGCMGCCGCGGTAA \n",
       "3 3813.35Heart  0.9986475 3813.35Heart  AAAACCTA        GTGCCAGCMGCCGCGGTAA \n",
       "4 3813.34Brain  0.9985421 3813.34Brain  AAAACCGT        GTGCCAGCMGCCGCGGTAA \n",
       "5 4885.5Liver   0.9983525 4885.5Liver   AAAACATG        GTGCCAGCMGCCGCGGTAA \n",
       "6 3813.27Spleen 0.9975804 3813.27Spleen AAAACCAT        GTGCCAGCMGCCGCGGTAA \n",
       "  RTL_run Case_no Sex ... bmi   bmi_category Description    Rank1      \n",
       "1 4522    C1      M   ... 25.31 overweight   4522.C1_Liver  k__Bacteria\n",
       "2 4885    L630    F   ... 45.90 obese        4885.44_Liver  k__Bacteria\n",
       "3 35      C38     F   ... 15.85 underweight  3813.35_Heart  k__Bacteria\n",
       "4 34      C38     F   ... 15.85 underweight  3813.34_Brain  k__Bacteria\n",
       "5 4885    L641    M   ... 28.65 overweight   4885.5_Liver   k__Bacteria\n",
       "6 27      C29     M   ... 24.78 normal       3813.27_Spleen k__Bacteria\n",
       "  Rank2             Rank3                  Rank4               \n",
       "1 p__Firmicutes     c__Clostridia          o__Clostridiales    \n",
       "2 p__Proteobacteria c__Gammaproteobacteria o__Enterobacteriales\n",
       "3 p__Proteobacteria c__Gammaproteobacteria o__Pseudomonadales  \n",
       "4 p__Proteobacteria c__Gammaproteobacteria o__Pseudomonadales  \n",
       "5 p__Firmicutes     c__Bacilli             o__Bacillales       \n",
       "6 p__Firmicutes     c__Clostridia          o__Clostridiales    \n",
       "  Rank5                    Rank6             Rank7\n",
       "1 f__Peptostreptococcaceae g__               s__  \n",
       "2 f__Enterobacteriaceae    g__               s__  \n",
       "3 f__Pseudomonadaceae      g__Pseudomonas    s__  \n",
       "4 f__Pseudomonadaceae      g__Pseudomonas    s__  \n",
       "5 f__Staphylococcaceae     g__Staphylococcus s__  \n",
       "6 f__Peptostreptococcaceae g__               s__  "
      ]
     },
     "metadata": {},
     "output_type": "display_data"
    }
   ],
   "source": [
    "head(cadaver.mdf)"
   ]
  },
  {
   "cell_type": "code",
   "execution_count": 21,
   "metadata": {},
   "outputs": [],
   "source": [
    "cadaver.mdf = read.csv(\"/gpfs/data/gilbert-lab/Lutz/Cadaver/All_cohorts/MDFfiles/cadaver.mdf.csv\")"
   ]
  },
  {
   "cell_type": "code",
   "execution_count": 40,
   "metadata": {},
   "outputs": [
    {
     "name": "stderr",
     "output_type": "stream",
     "text": [
      "Selecting by m\n"
     ]
    }
   ],
   "source": [
    "N = 10\n",
    "\n",
    "topN = cadaver.mdf %>%\n",
    "    group_by(OTU) %>%\n",
    "    summarize(Abundance = sum(Abundance)) %>%\n",
    "    group_by(OTU) %>%\n",
    "    summarize(m = mean(Abundance)) %>%\n",
    "    top_n(N) %>%\n",
    "    arrange(desc(m)) %>%\n",
    "    magrittr::extract2(\"OTU\")\n",
    "\n",
    "mdf.other = cadaver.mdf %>%\n",
    "    mutate(OTU.other = ifelse(OTU %in% topN, as.character(OTU), \"Other\")) %>%\n",
    "    group_by(Sample,Organ, OTU.other) %>%\n",
    "    summarize(Abundance = mean(Abundance)) %>%\n",
    "    arrange(Abundance)\n",
    "\n",
    "mdf.summary = mdf.other %>%\n",
    "    group_by(Organ, OTU.other) %>%\n",
    "    summarise(avg = mean(Abundance), \n",
    "              sd = sd(Abundance), \n",
    "              sem = sd/sqrt(length(Abundance)),\n",
    "              proportion = round(avg*100,2)) %>%\n",
    "    arrange((OTU.other))"
   ]
  },
  {
   "cell_type": "code",
   "execution_count": 27,
   "metadata": {},
   "outputs": [],
   "source": [
    "tax = tax_table(cadaver)"
   ]
  },
  {
   "cell_type": "code",
   "execution_count": 41,
   "metadata": {},
   "outputs": [],
   "source": [
    "write.csv(mdf.summary, \"/gpfs/data/gilbert-lab/Lutz/Cadaver/All_cohorts/update_march2019/rank_abundance/cadaver.mdf.top10_OTU.byorgan.summary.csv\")\n",
    "write.csv(mdf.other, \"/gpfs/data/gilbert-lab/Lutz/Cadaver/All_cohorts/update_march2019/rank_abundance/cadaver.mdf.top10_OTU.byorgan.other.csv\")\n",
    "write.csv(tax, \"/gpfs/data/gilbert-lab/Lutz/Cadaver/All_cohorts/update_march2019/rank_abundance/cadaver.complete.taxtable.csv\" )"
   ]
  },
  {
   "cell_type": "code",
   "execution_count": null,
   "metadata": {},
   "outputs": [],
   "source": []
  },
  {
   "cell_type": "markdown",
   "metadata": {},
   "source": [
    "#### USA - Clostridiales"
   ]
  },
  {
   "cell_type": "code",
   "execution_count": 16,
   "metadata": {},
   "outputs": [],
   "source": [
    "usa = subset_samples(cadaver, Location==\"USA\")\n",
    "usa.clostridia = subset_taxa(usa, Rank4==\"o__Clostridiales\")"
   ]
  },
  {
   "cell_type": "code",
   "execution_count": 20,
   "metadata": {},
   "outputs": [],
   "source": []
  },
  {
   "cell_type": "code",
   "execution_count": null,
   "metadata": {},
   "outputs": [],
   "source": []
  },
  {
   "cell_type": "code",
   "execution_count": null,
   "metadata": {},
   "outputs": [],
   "source": []
  }
 ],
 "metadata": {
  "kernelspec": {
   "display_name": "R 3.4.1",
   "language": "R",
   "name": "ir3.4.1"
  },
  "language_info": {
   "codemirror_mode": "r",
   "file_extension": ".r",
   "mimetype": "text/x-r-source",
   "name": "R",
   "pygments_lexer": "r",
   "version": "3.4.1"
  }
 },
 "nbformat": 4,
 "nbformat_minor": 2
}
