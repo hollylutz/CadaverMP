{
 "cells": [
  {
   "cell_type": "markdown",
   "metadata": {},
   "source": [
    "# Pre-processing"
   ]
  },
  {
   "cell_type": "code",
   "execution_count": 1,
   "metadata": {},
   "outputs": [],
   "source": [
    "setwd(\"/group/gilbert-lab/Lutz/Cadaver/phyloseq_files\")"
   ]
  },
  {
   "cell_type": "code",
   "execution_count": 2,
   "metadata": {},
   "outputs": [],
   "source": [
    "library(phyloseq)\n",
    "library(ggplot2)\n",
    "library(vegan)\n",
    "library(readr)\n",
    "library(data.table)\n",
    "library(dplyr)\n",
    "library(picante)"
   ]
  },
  {
   "cell_type": "markdown",
   "metadata": {},
   "source": [
    "#### Create phyloseq object"
   ]
  },
  {
   "cell_type": "markdown",
   "metadata": {},
   "source": [
    "Non-transformed (for alpha diversity)"
   ]
  },
  {
   "cell_type": "code",
   "execution_count": 11,
   "metadata": {},
   "outputs": [
    {
     "name": "stderr",
     "output_type": "stream",
     "text": [
      "Warning message in strsplit(msg, \"\\n\"):\n",
      "“input string 1 is invalid in this locale”"
     ]
    }
   ],
   "source": [
    "setwd(\"/group/gilbert-lab/Lutz/Cadaver/Italian_Cadaver/final_biom/\")\n",
    "\n",
    "biom <- import_biom(\"ItalianCadaver_deblur.biom\")\n",
    "map <- import_qiime_sample_data(\"mapfile_metadata.txt\")\n",
    "tree <- read_tree(\"rep_phylo.tre\")\n",
    "cadaver_nt <- merge_phyloseq(biom,tree,map)\n",
    "cadaver_nt <- prune_samples(sample_sums(cadaver_nt) > 1000, cadaver_nt)\n",
    "\n",
    "saveRDS(cadaver_nt, \"/group/gilbert-lab/Lutz/Cadaver/Italian_Cadaver/phyloseq_files/cadaver_nt.rds\")"
   ]
  },
  {
   "cell_type": "code",
   "execution_count": 9,
   "metadata": {},
   "outputs": [
    {
     "data": {
      "text/plain": [
       "phyloseq-class experiment-level object\n",
       "otu_table()   OTU Table:         [ 701 taxa and 158 samples ]\n",
       "sample_data() Sample Data:       [ 158 samples by 20 sample variables ]\n",
       "tax_table()   Taxonomy Table:    [ 701 taxa by 7 taxonomic ranks ]\n",
       "phy_tree()    Phylogenetic Tree: [ 701 tips and 699 internal nodes ]"
      ]
     },
     "metadata": {},
     "output_type": "display_data"
    }
   ],
   "source": [
    "cadaver_nt"
   ]
  },
  {
   "cell_type": "markdown",
   "metadata": {},
   "source": [
    "Transform and filter data (for beta diversity and relative abundance)"
   ]
  },
  {
   "cell_type": "code",
   "execution_count": 12,
   "metadata": {},
   "outputs": [
    {
     "name": "stderr",
     "output_type": "stream",
     "text": [
      "Warning message in strsplit(msg, \"\\n\"):\n",
      "“input string 1 is invalid in this locale”"
     ]
    }
   ],
   "source": [
    "biom <- import_biom(\"ItalianCadaver_deblur.biom\")\n",
    "map <- import_qiime_sample_data(\"mapfile_metadata.txt\")\n",
    "tree <- read_tree(\"rep_phylo.tre\")\n",
    "cadaver <- merge_phyloseq(biom,tree,map) %>%\n",
    "    prune_samples((sample_sums(.) > 1000), .) %>%\n",
    "    filter_taxa(function(x) sum(x > 3) > (0.001*length(x)), TRUE) %>%\n",
    "    transform_sample_counts(function(x) x / sum(x))\n",
    "\n",
    "saveRDS(cadaver, \"/group/gilbert-lab/Lutz/Cadaver/Italian_Cadaver/phyloseq_files/cadaver.rds\")"
   ]
  },
  {
   "cell_type": "code",
   "execution_count": 6,
   "metadata": {},
   "outputs": [],
   "source": [
    "cadaver_nt = readRDS(\"/group/gilbert-lab/Lutz/Cadaver/Italian_Cadaver/phyloseq_files/cadaver_nt.rds\")\n",
    "cadaver = readRDS(\"/group/gilbert-lab/Lutz/Cadaver/Italian_Cadaver/phyloseq_files/cadaver.rds\")"
   ]
  },
  {
   "cell_type": "markdown",
   "metadata": {},
   "source": [
    "## Summarize sequencing depths, in general and by category"
   ]
  },
  {
   "cell_type": "code",
   "execution_count": 11,
   "metadata": {
    "collapsed": true
   },
   "outputs": [
    {
     "name": "stderr",
     "output_type": "stream",
     "text": [
      "`stat_bin()` using `bins = 30`. Pick better value with `binwidth`.\n"
     ]
    },
    {
     "data": {},
     "metadata": {},
     "output_type": "display_data"
    },
    {
     "data": {
      "image/png": "[encoded data removed]",
      "text/plain": [
       "plot without title"
      ]
     },
     "metadata": {},
     "output_type": "display_data"
    }
   ],
   "source": [
    "cadaver_nt = readRDS(\"/group/gilbert-lab/Lutz/Cadaver/Italian_Cadaver/phyloseq_files/cadaver_nt.rds\")\n",
    "sdt = data.table(as(sample_data(cadaver_nt), \"data.frame\"),\n",
    "                 TotalReads = sample_sums(cadaver_nt), keep.rownames = TRUE)\n",
    "setnames(sdt, \"rn\", \"SampleID\")\n",
    "pSeqDepth = ggplot(sdt, aes(TotalReads)) + geom_histogram() + ggtitle(\"Sequencing Depth\")\n",
    "pSeqDepth\n"
   ]
  },
  {
   "cell_type": "code",
   "execution_count": 12,
   "metadata": {},
   "outputs": [
    {
     "data": {
      "text/html": [
       "<table>\n",
       "<thead><tr><th scope=col>SampleID</th><th scope=col>X.SampleID</th><th scope=col>BarcodeSequence</th><th scope=col>LinkerPrimerSequence</th><th scope=col>Sample_Type</th><th scope=col>Case_no</th><th scope=col>Date</th><th scope=col>Autopsy_No</th><th scope=col>PMI_hrs</th><th scope=col>Age</th><th scope=col>...</th><th scope=col>Height_cm</th><th scope=col>Weight_kg</th><th scope=col>BMI</th><th scope=col>BMI_Cat</th><th scope=col>Cause_of_death</th><th scope=col>Manner_of_death</th><th scope=col>Ambient_temperature_C</th><th scope=col>Conservation_temp</th><th scope=col>Description</th><th scope=col>TotalReads</th></tr></thead>\n",
       "<tbody>\n",
       "\t<tr><td>Case85Spleen                                        </td><td>Case85Spleen                                        </td><td>TTCCACACGTGG                                        </td><td>GTGTGYCAGCMGCCGCGGTAA                               </td><td>Spleen                                              </td><td>85                                                  </td><td>21.12.17                                            </td><td>18000                                               </td><td> 48                                                 </td><td>46                                                  </td><td>...                                                 </td><td>172                                                 </td><td>70                                                  </td><td>23.66                                               </td><td>Normal                                              </td><td>Myocarditis                                         </td><td>Natural death                                       </td><td>12                                                  </td><td>4                                                   </td><td>ASU3_D11                                            </td><td> 1569                                               </td></tr>\n",
       "\t<tr><td>Case77Spleen                                        </td><td>Case77Spleen                                        </td><td>CTTAGTGCAGAA                                        </td><td>GTGTGYCAGCMGCCGCGGTAA                               </td><td>Spleen                                              </td><td>77                                                  </td><td>14.12.17                                            </td><td>17989                                               </td><td>180                                                 </td><td>89                                                  </td><td>...                                                 </td><td>151                                                 </td><td>50                                                  </td><td>21.93                                               </td><td>Normal                                              </td><td>Immobilization syndrome consequent to femur fracture</td><td>Accident                                            </td><td>20                                                  </td><td>4                                                   </td><td>ASU1_D8                                             </td><td> 7402                                               </td></tr>\n",
       "\t<tr><td>Case96Heart                                         </td><td>Case96Heart                                         </td><td>ATTTACAATTGA                                        </td><td>GTGTGYCAGCMGCCGCGGTAA                               </td><td>Heart                                               </td><td>96                                                  </td><td>3.1.18                                              </td><td>18014                                               </td><td>120                                                 </td><td>52                                                  </td><td>...                                                 </td><td>173                                                 </td><td>95                                                  </td><td>31.74                                               </td><td>Obese                                               </td><td>Ischemic heart disease                              </td><td>Natural death                                       </td><td>18                                                  </td><td>4                                                   </td><td>ASU4_B3                                             </td><td>12642                                               </td></tr>\n",
       "\t<tr><td>Case51Liver                                         </td><td>Case51Liver                                         </td><td>CGTTTGGAATGA                                        </td><td>GTGTGYCAGCMGCCGCGGTAA                               </td><td>Liver                                               </td><td>51                                                  </td><td>10.11.17                                            </td><td>17951                                               </td><td> 48                                                 </td><td>59                                                  </td><td>...                                                 </td><td>159                                                 </td><td>65                                                  </td><td>25.71                                               </td><td>Overweight                                          </td><td>Drowning                                            </td><td>Accident                                            </td><td>10                                                  </td><td>4                                                   </td><td>ASU1_C5                                             </td><td> 3141                                               </td></tr>\n",
       "\t<tr><td>Case76Brain                                         </td><td>Case76Brain                                         </td><td>GTGAATGTTCGA                                        </td><td>GTGTGYCAGCMGCCGCGGTAA                               </td><td>Brain                                               </td><td>76                                                  </td><td>14.12.17                                            </td><td>17990                                               </td><td>120                                                 </td><td>77                                                  </td><td>...                                                 </td><td>169                                                 </td><td>90                                                  </td><td>31.51                                               </td><td>Obese                                               </td><td>Ischemic heart disease                              </td><td>Natural death                                       </td><td>20                                                  </td><td>4                                                   </td><td>ASU3_E8                                             </td><td> 3135                                               </td></tr>\n",
       "\t<tr><td>Case91Spleen                                        </td><td>Case91Spleen                                        </td><td>TATTGCAGCAGC                                        </td><td>GTGTGYCAGCMGCCGCGGTAA                               </td><td>Spleen                                              </td><td>91                                                  </td><td>30.12.17                                            </td><td>18010                                               </td><td> 48                                                 </td><td>64                                                  </td><td>...                                                 </td><td>157                                                 </td><td>60                                                  </td><td>24.34                                               </td><td>Normal                                              </td><td>Cranic injuries                                     </td><td>Accident_Road traffic accident                      </td><td> 2                                                  </td><td>4                                                   </td><td>ASU1_D12                                            </td><td> 1709                                               </td></tr>\n",
       "</tbody>\n",
       "</table>\n"
      ],
      "text/latex": [
       "\\begin{tabular}{r|llllllllllllllllllllll}\n",
       " SampleID & X.SampleID & BarcodeSequence & LinkerPrimerSequence & Sample\\_Type & Case\\_no & Date & Autopsy\\_No & PMI\\_hrs & Age & ... & Height\\_cm & Weight\\_kg & BMI & BMI\\_Cat & Cause\\_of\\_death & Manner\\_of\\_death & Ambient\\_temperature\\_C & Conservation\\_temp & Description & TotalReads\\\\\n",
       "\\hline\n",
       "\t Case85Spleen                                         & Case85Spleen                                         & TTCCACACGTGG                                         & GTGTGYCAGCMGCCGCGGTAA                                & Spleen                                               & 85                                                   & 21.12.17                                             & 18000                                                &  48                                                  & 46                                                   & ...                                                  & 172                                                  & 70                                                   & 23.66                                                & Normal                                               & Myocarditis                                          & Natural death                                        & 12                                                   & 4                                                    & ASU3\\_D11                                           &  1569                                               \\\\\n",
       "\t Case77Spleen                                         & Case77Spleen                                         & CTTAGTGCAGAA                                         & GTGTGYCAGCMGCCGCGGTAA                                & Spleen                                               & 77                                                   & 14.12.17                                             & 17989                                                & 180                                                  & 89                                                   & ...                                                  & 151                                                  & 50                                                   & 21.93                                                & Normal                                               & Immobilization syndrome consequent to femur fracture & Accident                                             & 20                                                   & 4                                                    & ASU1\\_D8                                            &  7402                                               \\\\\n",
       "\t Case96Heart                                          & Case96Heart                                          & ATTTACAATTGA                                         & GTGTGYCAGCMGCCGCGGTAA                                & Heart                                                & 96                                                   & 3.1.18                                               & 18014                                                & 120                                                  & 52                                                   & ...                                                  & 173                                                  & 95                                                   & 31.74                                                & Obese                                                & Ischemic heart disease                               & Natural death                                        & 18                                                   & 4                                                    & ASU4\\_B3                                            & 12642                                               \\\\\n",
       "\t Case51Liver                                          & Case51Liver                                          & CGTTTGGAATGA                                         & GTGTGYCAGCMGCCGCGGTAA                                & Liver                                                & 51                                                   & 10.11.17                                             & 17951                                                &  48                                                  & 59                                                   & ...                                                  & 159                                                  & 65                                                   & 25.71                                                & Overweight                                           & Drowning                                             & Accident                                             & 10                                                   & 4                                                    & ASU1\\_C5                                            &  3141                                               \\\\\n",
       "\t Case76Brain                                          & Case76Brain                                          & GTGAATGTTCGA                                         & GTGTGYCAGCMGCCGCGGTAA                                & Brain                                                & 76                                                   & 14.12.17                                             & 17990                                                & 120                                                  & 77                                                   & ...                                                  & 169                                                  & 90                                                   & 31.51                                                & Obese                                                & Ischemic heart disease                               & Natural death                                        & 20                                                   & 4                                                    & ASU3\\_E8                                            &  3135                                               \\\\\n",
       "\t Case91Spleen                                         & Case91Spleen                                         & TATTGCAGCAGC                                         & GTGTGYCAGCMGCCGCGGTAA                                & Spleen                                               & 91                                                   & 30.12.17                                             & 18010                                                &  48                                                  & 64                                                   & ...                                                  & 157                                                  & 60                                                   & 24.34                                                & Normal                                               & Cranic injuries                                      & Accident\\_Road traffic accident                     &  2                                                   & 4                                                    & ASU1\\_D12                                           &  1709                                               \\\\\n",
       "\\end{tabular}\n"
      ],
      "text/markdown": [
       "\n",
       "SampleID | X.SampleID | BarcodeSequence | LinkerPrimerSequence | Sample_Type | Case_no | Date | Autopsy_No | PMI_hrs | Age | ... | Height_cm | Weight_kg | BMI | BMI_Cat | Cause_of_death | Manner_of_death | Ambient_temperature_C | Conservation_temp | Description | TotalReads | \n",
       "|---|---|---|---|---|---|\n",
       "| Case85Spleen                                         | Case85Spleen                                         | TTCCACACGTGG                                         | GTGTGYCAGCMGCCGCGGTAA                                | Spleen                                               | 85                                                   | 21.12.17                                             | 18000                                                |  48                                                  | 46                                                   | ...                                                  | 172                                                  | 70                                                   | 23.66                                                | Normal                                               | Myocarditis                                          | Natural death                                        | 12                                                   | 4                                                    | ASU3_D11                                             |  1569                                                | \n",
       "| Case77Spleen                                         | Case77Spleen                                         | CTTAGTGCAGAA                                         | GTGTGYCAGCMGCCGCGGTAA                                | Spleen                                               | 77                                                   | 14.12.17                                             | 17989                                                | 180                                                  | 89                                                   | ...                                                  | 151                                                  | 50                                                   | 21.93                                                | Normal                                               | Immobilization syndrome consequent to femur fracture | Accident                                             | 20                                                   | 4                                                    | ASU1_D8                                              |  7402                                                | \n",
       "| Case96Heart                                          | Case96Heart                                          | ATTTACAATTGA                                         | GTGTGYCAGCMGCCGCGGTAA                                | Heart                                                | 96                                                   | 3.1.18                                               | 18014                                                | 120                                                  | 52                                                   | ...                                                  | 173                                                  | 95                                                   | 31.74                                                | Obese                                                | Ischemic heart disease                               | Natural death                                        | 18                                                   | 4                                                    | ASU4_B3                                              | 12642                                                | \n",
       "| Case51Liver                                          | Case51Liver                                          | CGTTTGGAATGA                                         | GTGTGYCAGCMGCCGCGGTAA                                | Liver                                                | 51                                                   | 10.11.17                                             | 17951                                                |  48                                                  | 59                                                   | ...                                                  | 159                                                  | 65                                                   | 25.71                                                | Overweight                                           | Drowning                                             | Accident                                             | 10                                                   | 4                                                    | ASU1_C5                                              |  3141                                                | \n",
       "| Case76Brain                                          | Case76Brain                                          | GTGAATGTTCGA                                         | GTGTGYCAGCMGCCGCGGTAA                                | Brain                                                | 76                                                   | 14.12.17                                             | 17990                                                | 120                                                  | 77                                                   | ...                                                  | 169                                                  | 90                                                   | 31.51                                                | Obese                                                | Ischemic heart disease                               | Natural death                                        | 20                                                   | 4                                                    | ASU3_E8                                              |  3135                                                | \n",
       "| Case91Spleen                                         | Case91Spleen                                         | TATTGCAGCAGC                                         | GTGTGYCAGCMGCCGCGGTAA                                | Spleen                                               | 91                                                   | 30.12.17                                             | 18010                                                |  48                                                  | 64                                                   | ...                                                  | 157                                                  | 60                                                   | 24.34                                                | Normal                                               | Cranic injuries                                      | Accident_Road traffic accident                       |  2                                                   | 4                                                    | ASU1_D12                                             |  1709                                                | \n",
       "\n",
       "\n"
      ],
      "text/plain": [
       "  SampleID     X.SampleID   BarcodeSequence LinkerPrimerSequence  Sample_Type\n",
       "1 Case85Spleen Case85Spleen TTCCACACGTGG    GTGTGYCAGCMGCCGCGGTAA Spleen     \n",
       "2 Case77Spleen Case77Spleen CTTAGTGCAGAA    GTGTGYCAGCMGCCGCGGTAA Spleen     \n",
       "3 Case96Heart  Case96Heart  ATTTACAATTGA    GTGTGYCAGCMGCCGCGGTAA Heart      \n",
       "4 Case51Liver  Case51Liver  CGTTTGGAATGA    GTGTGYCAGCMGCCGCGGTAA Liver      \n",
       "5 Case76Brain  Case76Brain  GTGAATGTTCGA    GTGTGYCAGCMGCCGCGGTAA Brain      \n",
       "6 Case91Spleen Case91Spleen TATTGCAGCAGC    GTGTGYCAGCMGCCGCGGTAA Spleen     \n",
       "  Case_no Date     Autopsy_No PMI_hrs Age ... Height_cm Weight_kg BMI  \n",
       "1 85      21.12.17 18000       48     46  ... 172       70        23.66\n",
       "2 77      14.12.17 17989      180     89  ... 151       50        21.93\n",
       "3 96      3.1.18   18014      120     52  ... 173       95        31.74\n",
       "4 51      10.11.17 17951       48     59  ... 159       65        25.71\n",
       "5 76      14.12.17 17990      120     77  ... 169       90        31.51\n",
       "6 91      30.12.17 18010       48     64  ... 157       60        24.34\n",
       "  BMI_Cat    Cause_of_death                                      \n",
       "1 Normal     Myocarditis                                         \n",
       "2 Normal     Immobilization syndrome consequent to femur fracture\n",
       "3 Obese      Ischemic heart disease                              \n",
       "4 Overweight Drowning                                            \n",
       "5 Obese      Ischemic heart disease                              \n",
       "6 Normal     Cranic injuries                                     \n",
       "  Manner_of_death                Ambient_temperature_C Conservation_temp\n",
       "1 Natural death                  12                    4                \n",
       "2 Accident                       20                    4                \n",
       "3 Natural death                  18                    4                \n",
       "4 Accident                       10                    4                \n",
       "5 Natural death                  20                    4                \n",
       "6 Accident_Road traffic accident  2                    4                \n",
       "  Description TotalReads\n",
       "1 ASU3_D11     1569     \n",
       "2 ASU1_D8      7402     \n",
       "3 ASU4_B3     12642     \n",
       "4 ASU1_C5      3141     \n",
       "5 ASU3_E8      3135     \n",
       "6 ASU1_D12     1709     "
      ]
     },
     "metadata": {},
     "output_type": "display_data"
    }
   ],
   "source": [
    "head(sdt)"
   ]
  },
  {
   "cell_type": "code",
   "execution_count": 13,
   "metadata": {},
   "outputs": [
    {
     "data": {
      "text/html": [
       "<table>\n",
       "<thead><tr><th scope=col>Sample_Type</th><th scope=col>avg</th><th scope=col>sd</th><th scope=col>sem</th></tr></thead>\n",
       "<tbody>\n",
       "\t<tr><td>Brain    </td><td>4661.143 </td><td>4449.088 </td><td> 752.0331</td></tr>\n",
       "\t<tr><td>Heart    </td><td>4771.897 </td><td>4889.781 </td><td> 908.0096</td></tr>\n",
       "\t<tr><td>Liver    </td><td>5108.417 </td><td>3137.130 </td><td> 522.8551</td></tr>\n",
       "\t<tr><td>Prostate </td><td>7891.476 </td><td>5475.769 </td><td>1194.9107</td></tr>\n",
       "\t<tr><td>Spleen   </td><td>5405.542 </td><td>3682.440 </td><td> 751.6750</td></tr>\n",
       "\t<tr><td>Uterus   </td><td>5536.000 </td><td>4269.379 </td><td>1184.1128</td></tr>\n",
       "</tbody>\n",
       "</table>\n"
      ],
      "text/latex": [
       "\\begin{tabular}{r|llll}\n",
       " Sample\\_Type & avg & sd & sem\\\\\n",
       "\\hline\n",
       "\t Brain     & 4661.143  & 4449.088  &  752.0331\\\\\n",
       "\t Heart     & 4771.897  & 4889.781  &  908.0096\\\\\n",
       "\t Liver     & 5108.417  & 3137.130  &  522.8551\\\\\n",
       "\t Prostate  & 7891.476  & 5475.769  & 1194.9107\\\\\n",
       "\t Spleen    & 5405.542  & 3682.440  &  751.6750\\\\\n",
       "\t Uterus    & 5536.000  & 4269.379  & 1184.1128\\\\\n",
       "\\end{tabular}\n"
      ],
      "text/markdown": [
       "\n",
       "Sample_Type | avg | sd | sem | \n",
       "|---|---|---|---|---|---|\n",
       "| Brain     | 4661.143  | 4449.088  |  752.0331 | \n",
       "| Heart     | 4771.897  | 4889.781  |  908.0096 | \n",
       "| Liver     | 5108.417  | 3137.130  |  522.8551 | \n",
       "| Prostate  | 7891.476  | 5475.769  | 1194.9107 | \n",
       "| Spleen    | 5405.542  | 3682.440  |  751.6750 | \n",
       "| Uterus    | 5536.000  | 4269.379  | 1184.1128 | \n",
       "\n",
       "\n"
      ],
      "text/plain": [
       "  Sample_Type avg      sd       sem      \n",
       "1 Brain       4661.143 4449.088  752.0331\n",
       "2 Heart       4771.897 4889.781  908.0096\n",
       "3 Liver       5108.417 3137.130  522.8551\n",
       "4 Prostate    7891.476 5475.769 1194.9107\n",
       "5 Spleen      5405.542 3682.440  751.6750\n",
       "6 Uterus      5536.000 4269.379 1184.1128"
      ]
     },
     "metadata": {},
     "output_type": "display_data"
    }
   ],
   "source": [
    "cadaver.summary = sdt %>%\n",
    "    group_by(Sample_Type) %>%\n",
    "summarise(avg = mean(TotalReads), \n",
    "              sd = sd(TotalReads), \n",
    "              sem = sd/sqrt(length(TotalReads))) %>%\n",
    "              #proportion = round(avg*100,2)) %>%\n",
    "    arrange((Sample_Type))\n",
    "cadaver.summary"
   ]
  },
  {
   "cell_type": "code",
   "execution_count": 14,
   "metadata": {},
   "outputs": [],
   "source": [
    "write.csv(cadaver.summary, \"/group/gilbert-lab/Lutz/Cadaver/Italian_Cadaver/Results/cadaver.read_depth.summary.csv\")"
   ]
  }
 ],
 "metadata": {
  "kernelspec": {
   "display_name": "R 3.4.1",
   "language": "R",
   "name": "ir3.4.1"
  },
  "language_info": {
   "codemirror_mode": "r",
   "file_extension": ".r",
   "mimetype": "text/x-r-source",
   "name": "R",
   "pygments_lexer": "r",
   "version": "3.4.1"
  }
 },
 "nbformat": 4,
 "nbformat_minor": 2
}
